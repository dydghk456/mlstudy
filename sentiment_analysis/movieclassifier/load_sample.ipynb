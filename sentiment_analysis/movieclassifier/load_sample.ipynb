{
 "cells": [
  {
   "cell_type": "code",
   "execution_count": 1,
   "id": "a81a313d",
   "metadata": {},
   "outputs": [],
   "source": [
    "import pickle\n",
    "import re\n",
    "import os\n",
    "from vectorizer import vect\n",
    "\n",
    "clf = pickle.load(open(os.path.join('pkl_objects','classifier.pkl'),'rb'))"
   ]
  },
  {
   "cell_type": "code",
   "execution_count": 4,
   "id": "a7918f75",
   "metadata": {},
   "outputs": [],
   "source": [
    "import numpy as np\n",
    "label = {0:'neg', 1:'pos'}\n",
    "example = ['i love this movie']\n",
    "x = vect.transform(example)"
   ]
  },
  {
   "cell_type": "code",
   "execution_count": 5,
   "id": "6798626f",
   "metadata": {},
   "outputs": [
    {
     "name": "stdout",
     "output_type": "stream",
     "text": [
      "pred: pos\n",
      "proba: 92.54%\n"
     ]
    }
   ],
   "source": [
    "print('pred: %s\\nproba: %.2f%%' %(label[clf.predict(x)[0]], np.max(clf.predict_proba(x))*100))"
   ]
  },
  {
   "cell_type": "code",
   "execution_count": null,
   "id": "ebe6def8",
   "metadata": {},
   "outputs": [],
   "source": []
  }
 ],
 "metadata": {
  "kernelspec": {
   "display_name": "Python 3 (ipykernel)",
   "language": "python",
   "name": "python3"
  },
  "language_info": {
   "codemirror_mode": {
    "name": "ipython",
    "version": 3
   },
   "file_extension": ".py",
   "mimetype": "text/x-python",
   "name": "python",
   "nbconvert_exporter": "python",
   "pygments_lexer": "ipython3",
   "version": "3.9.7"
  }
 },
 "nbformat": 4,
 "nbformat_minor": 5
}
