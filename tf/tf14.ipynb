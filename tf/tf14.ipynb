{
 "cells": [
  {
   "cell_type": "code",
   "execution_count": 2,
   "metadata": {
    "id": "2eImLMrW6lQu"
   },
   "outputs": [],
   "source": [
    "import tensorflow as tf\n",
    "import numpy as np\n",
    "import matplotlib.pyplot as plt\n",
    "\n",
    "#function 데코레이터를 토해 파이썬 함수를 텐서플로 그래프 코드로 자동 변환할 수 있음\n",
    "@tf.function\n",
    "def compute_z(a, b, c):\n",
    "  r1 = tf.subtract(a,b)\n",
    "  r2 = tf.multiply(2, r1)\n",
    "  z = tf.add(r2, c)\n",
    "  return z"
   ]
  },
  {
   "cell_type": "code",
   "execution_count": null,
   "metadata": {
    "colab": {
     "base_uri": "https://localhost:8080/"
    },
    "id": "Yt98oLm79Q_m",
    "outputId": "bce80e6b-6489-4f98-87aa-9ad21caec53f"
   },
   "outputs": [
    {
     "name": "stdout",
     "output_type": "stream",
     "text": [
      "1\n",
      "[[1 2]\n",
      " [3 4]]\n"
     ]
    }
   ],
   "source": [
    "tf.print(compute_z(1,2,3))\n",
    "tf.print(compute_z([[1,2],[3,4]], [[5,6], [7,8]], [[9,10], [11,12]]))"
   ]
  },
  {
   "cell_type": "code",
   "execution_count": null,
   "metadata": {
    "id": "ZP6UHifW-Bg1"
   },
   "outputs": [],
   "source": [
    "#can restrict type of input by TensorSpec\n",
    "\n",
    "@tf.function(input_signature = (tf.TensorSpec(shape=[None], dtype=tf.int32), tf.TensorSpec(shape=None, dtype=tf.int32), tf.TensorSpec(shape=None, dtype=tf.int32)))\n",
    "def compute_z(a, b, c):\n",
    "  r1 = tf.subtract(a, b)\n",
    "  r2 = tf.multiply(2, r1)\n",
    "  z = tf.add(r2, c)\n",
    "  return z"
   ]
  },
  {
   "cell_type": "code",
   "execution_count": null,
   "metadata": {
    "id": "nDmgdjU2-4zi"
   },
   "outputs": [],
   "source": [
    "#initial_value 값을 설정해야 함. 또한 변수는 trainable 속성을 갖고, default=True임, 변수는 assign(), .assign_add() 메소드를 통해 수정할 수 있음\n",
    "a = tf.Variable(initial_value=3, name='var_a')\n",
    "b = tf.Variable(initial_value=[1,2,3], name='var_b')"
   ]
  },
  {
   "cell_type": "code",
   "execution_count": null,
   "metadata": {
    "colab": {
     "base_uri": "https://localhost:8080/"
    },
    "id": "uOtVvRHsAZek",
    "outputId": "2befb0f1-731e-4aa7-9062-a58437fc85a4"
   },
   "outputs": [
    {
     "name": "stdout",
     "output_type": "stream",
     "text": [
      "[0.273321927 -0.0220571626 0.474863708]\n"
     ]
    }
   ],
   "source": [
    "init = tf.keras.initializers.GlorotNormal()\n",
    "tf.print(init(shape=(3,)))"
   ]
  },
  {
   "cell_type": "code",
   "execution_count": null,
   "metadata": {
    "colab": {
     "base_uri": "https://localhost:8080/"
    },
    "id": "NXTp647V_AdV",
    "outputId": "71e9268b-e1eb-46bb-fa11-2a494d6b0782"
   },
   "outputs": [
    {
     "name": "stdout",
     "output_type": "stream",
     "text": [
      "[[0.964408 1.27687752 0.930986226]\n",
      " [-0.963418245 -0.020860048 -0.723852694]]\n"
     ]
    }
   ],
   "source": [
    "v = tf.Variable(init(shape=(2,3)))\n",
    "tf.print(v)"
   ]
  },
  {
   "cell_type": "code",
   "execution_count": null,
   "metadata": {
    "colab": {
     "base_uri": "https://localhost:8080/"
    },
    "id": "jnGHe2U2AJ1t",
    "outputId": "5b904d37-3859-4e13-f015-8e9ee8c15b39"
   },
   "outputs": [
    {
     "name": "stdout",
     "output_type": "stream",
     "text": [
      "Model: \"sequential_1\"\n",
      "_________________________________________________________________\n",
      " Layer (type)                Output Shape              Param #   \n",
      "=================================================================\n",
      " dense_1 (Dense)             (None, 16)                80        \n",
      "                                                                 \n",
      " dense_2 (Dense)             (None, 32)                544       \n",
      "                                                                 \n",
      "=================================================================\n",
      "Total params: 624\n",
      "Trainable params: 624\n",
      "Non-trainable params: 0\n",
      "_________________________________________________________________\n"
     ]
    }
   ],
   "source": [
    "model = tf.keras.Sequential()\n",
    "model.add(tf.keras.layers.Dense(units=16, activation='relu'))\n",
    "model.add(tf.keras.layers.Dense(units=32, activation='relu'))\n",
    "model.build(input_shape=(None,4))\n",
    "model.summary()"
   ]
  },
  {
   "cell_type": "code",
   "execution_count": null,
   "metadata": {
    "colab": {
     "base_uri": "https://localhost:8080/"
    },
    "id": "PUmL_1DzETsw",
    "outputId": "1840ab13-bd6e-4cd6-db4c-49a402416038"
   },
   "outputs": [
    {
     "name": "stdout",
     "output_type": "stream",
     "text": [
      "dense_1/kernel:0     True (4, 16)\n",
      "dense_1/bias:0       True (16,)\n",
      "dense_2/kernel:0     True (16, 32)\n",
      "dense_2/bias:0       True (32,)\n"
     ]
    }
   ],
   "source": [
    "for v in model.variables:\n",
    "  print('{:20s}'.format(v.name), v.trainable, v.shape)"
   ]
  },
  {
   "cell_type": "code",
   "execution_count": null,
   "metadata": {
    "id": "4SJpVFBkEpG7"
   },
   "outputs": [],
   "source": [
    "model = tf.keras.Sequential()\n",
    "model.add(tf.keras.layers.Dense(units=16, activation=tf.keras.activations.relu, kernel_initializer=tf.keras.initializers.glorot_uniform(), bias_initializer=tf.keras.initializers.Constant(2.0)))"
   ]
  },
  {
   "cell_type": "code",
   "execution_count": null,
   "metadata": {
    "id": "3dAQkFDBFHUd"
   },
   "outputs": [],
   "source": [
    "model.add(tf.keras.layers.Dense(units=32, activation=tf.keras.activations.sigmoid, kernel_regularizer=tf.keras.regularizers.l1))"
   ]
  },
  {
   "cell_type": "code",
   "execution_count": null,
   "metadata": {
    "id": "4TbAfDimFflY"
   },
   "outputs": [],
   "source": [
    "model.compile(optimizer=tf.keras.optimizers.SGD(learning_rate=0.001), loss=tf.keras.losses.BinaryCrossentropy(), metrics=[tf.keras.metrics.Accuracy(), tf.keras.metrics.Precision()])"
   ]
  },
  {
   "cell_type": "code",
   "execution_count": null,
   "metadata": {
    "colab": {
     "base_uri": "https://localhost:8080/",
     "height": 394
    },
    "id": "BVTMVhJVF2Ce",
    "outputId": "bf30c0f4-0778-4e9f-cea6-e55dfab1e414"
   },
   "outputs": [
    {
     "data": {
      "image/png": "[encoded data removed]",
      "text/plain": [
       "<Figure size 432x432 with 1 Axes>"
      ]
     },
     "metadata": {
      "needs_background": "light"
     },
     "output_type": "display_data"
    }
   ],
   "source": [
    "#solving classyfing xor problem\n",
    "\n",
    "x = np.random.uniform(low=-1, high=1, size=(200,2))\n",
    "y = np.ones(len(x))\n",
    "y[x[:, 0] * x[:, 1]>0] = 0\n",
    "x_train = x[:100, :]\n",
    "y_train = y[:100]\n",
    "x_valid = x[100:, :]\n",
    "y_valid = y[100:]\n",
    "fig = plt.figure(figsize=(6,6))\n",
    "plt.plot(x[y==0, 0], x[y==0, 1], 'o')\n",
    "plt.plot(x[y==1, 0], x[y==1, 1], '<')\n",
    "plt.xlabel(r'$x_1$', size=15)\n",
    "plt.ylabel(r'$x_2$', size=15)\n",
    "plt.show()"
   ]
  },
  {
   "cell_type": "code",
   "execution_count": null,
   "metadata": {
    "id": "gk796x1uHabG"
   },
   "outputs": [],
   "source": [
    "model = tf.keras.Sequential()\n",
    "model.add(tf.keras.layers.Dense(units=1, input_shape=(2,), activation='sigmoid'))\n",
    "model.compile(optimizer='sgd', loss='binary_crossentropy', metrics=['accuracy'])\n",
    "hist = model.fit(x_train, y_train, validation_data=(x_valid, y_valid), epochs=200, batch_size=2, verbose=0)"
   ]
  },
  {
   "cell_type": "code",
   "execution_count": null,
   "metadata": {
    "colab": {
     "base_uri": "https://localhost:8080/"
    },
    "id": "FpbLrjRNJLUu",
    "outputId": "ca5d637d-7d50-485b-8f71-f044e254107d"
   },
   "outputs": [
    {
     "data": {
      "text/plain": [
       "dict_keys(['loss', 'Accuracy', 'val_loss', 'val_Accuracy'])"
      ]
     },
     "execution_count": 39,
     "metadata": {},
     "output_type": "execute_result"
    }
   ],
   "source": []
  },
  {
   "cell_type": "code",
   "execution_count": null,
   "metadata": {
    "colab": {
     "base_uri": "https://localhost:8080/",
     "height": 378
    },
    "id": "hKDfpYAPIYop",
    "outputId": "c0954440-3487-4547-a3ff-63f195529097"
   },
   "outputs": [
    {
     "name": "stderr",
     "output_type": "stream",
     "text": [
      "/usr/local/lib/python3.7/dist-packages/ipykernel_launcher.py:16: DeprecationWarning: Converting `np.integer` or `np.signedinteger` to a dtype is deprecated. The current result is `np.dtype(np.int_)` which is not strictly correct. Note that the result depends on the system. To ensure stable results use may want to use `np.int64` or `np.int32`.\n",
      "  app.launch_new_instance()\n",
      "/usr/local/lib/python3.7/dist-packages/mlxtend/plotting/decision_regions.py:244: MatplotlibDeprecationWarning: Passing unsupported keyword arguments to axis() will raise a TypeError in 3.3.\n",
      "  ax.axis(xmin=xx.min(), xmax=xx.max(), y_min=yy.min(), y_max=yy.max())\n"
     ]
    },
    {
     "data": {
      "image/png": "[encoded data removed]",
      "text/plain": [
       "<Figure size 1152x288 with 3 Axes>"
      ]
     },
     "metadata": {
      "needs_background": "light"
     },
     "output_type": "display_data"
    }
   ],
   "source": [
    "from mlxtend.plotting import plot_decision_regions\n",
    "\n",
    "history = hist.history\n",
    "fig = plt.figure(figsize=(16,4))\n",
    "ax = fig.add_subplot(1,3,1)\n",
    "plt.plot(history['loss'], lw=4)\n",
    "plt.plot(history['val_loss'], lw=4)\n",
    "plt.legend(['train_loss', 'validation_loss'])\n",
    "ax.set_xlabel('epochs')\n",
    "ax = fig.add_subplot(1,3,2)\n",
    "plt.plot(history['accuracy'], lw=4)\n",
    "plt.plot(history['val_accuracy'], lw=3)\n",
    "plt.legend(['train_acc', 'val_acc'])\n",
    "ax.set_xlabel('epochs')\n",
    "ax=fig.add_subplot(1,3,3)\n",
    "plot_decision_regions(X=x_valid, y=y_valid.astype(np.integer), clf=model)\n",
    "ax.set_xlabel(r'$x1$')\n",
    "ax.xaxis.set_label_coords(1, -0.025)\n",
    "ax.set_ylabel(r'$x2$')\n",
    "ax.yaxis.set_label_coords(-0.025, 1)\n",
    "plt.show()"
   ]
  },
  {
   "cell_type": "code",
   "execution_count": null,
   "metadata": {
    "id": "3isoEIyVKF4j"
   },
   "outputs": [],
   "source": [
    "model = tf.keras.Sequential()\n",
    "model.add(tf.keras.layers.Dense(units=4, input_shape=(2,), activation='relu'))\n",
    "model.add(tf.keras.layers.Dense(units=4, activation='relu'))\n",
    "model.add(tf.keras.layers.Dense(units=4, activation='relu'))\n",
    "model.add(tf.keras.layers.Dense(units=1, activation='sigmoid'))"
   ]
  },
  {
   "cell_type": "code",
   "execution_count": null,
   "metadata": {
    "id": "6cb_G7y4Ko3j"
   },
   "outputs": [],
   "source": [
    "model.compile(optimizer='sgd', loss=tf.keras.losses.BinaryCrossentropy(), metrics=[tf.keras.metrics.BinaryAccuracy()])\n",
    "hist = model.fit(x_train, y_train, validation_data=(x_valid, y_valid), epochs=200, batch_size=2, verbose=0)"
   ]
  },
  {
   "cell_type": "code",
   "execution_count": null,
   "metadata": {
    "colab": {
     "base_uri": "https://localhost:8080/",
     "height": 413
    },
    "id": "9eDI_x7EK2N_",
    "outputId": "266d51e2-ded4-406e-ef6a-e30931b676bb"
   },
   "outputs": [
    {
     "name": "stderr",
     "output_type": "stream",
     "text": [
      "/usr/local/lib/python3.7/dist-packages/ipykernel_launcher.py:2: DeprecationWarning: Converting `np.integer` or `np.signedinteger` to a dtype is deprecated. The current result is `np.dtype(np.int_)` which is not strictly correct. Note that the result depends on the system. To ensure stable results use may want to use `np.int64` or `np.int32`.\n",
      "  \n",
      "/usr/local/lib/python3.7/dist-packages/mlxtend/plotting/decision_regions.py:244: MatplotlibDeprecationWarning: Passing unsupported keyword arguments to axis() will raise a TypeError in 3.3.\n",
      "  ax.axis(xmin=xx.min(), xmax=xx.max(), y_min=yy.min(), y_max=yy.max())\n"
     ]
    },
    {
     "data": {
      "image/png": "[encoded data removed]",
      "text/plain": [
       "<Figure size 720x360 with 1 Axes>"
      ]
     },
     "metadata": {
      "needs_background": "light"
     },
     "output_type": "display_data"
    }
   ],
   "source": [
    "fig = plt.figure(figsize=(10,5))\n",
    "plot_decision_regions(X=x_valid, y=y_valid.astype(np.integer), clf=model)\n",
    "plt.show()"
   ]
  },
  {
   "cell_type": "code",
   "execution_count": null,
   "metadata": {
    "colab": {
     "base_uri": "https://localhost:8080/"
    },
    "id": "dKswr9toLphe",
    "outputId": "3ae77a54-5397-47dd-fd5a-97f8a00c6d2a"
   },
   "outputs": [
    {
     "name": "stdout",
     "output_type": "stream",
     "text": [
      "Model: \"model\"\n",
      "_________________________________________________________________\n",
      " Layer (type)                Output Shape              Param #   \n",
      "=================================================================\n",
      " input_3 (InputLayer)        [(None, 2)]               0         \n",
      "                                                                 \n",
      " dense_21 (Dense)            (None, 4)                 12        \n",
      "                                                                 \n",
      " dense_22 (Dense)            (None, 4)                 20        \n",
      "                                                                 \n",
      " dense_23 (Dense)            (None, 4)                 20        \n",
      "                                                                 \n",
      " dense_24 (Dense)            (None, 1)                 5         \n",
      "                                                                 \n",
      "=================================================================\n",
      "Total params: 57\n",
      "Trainable params: 57\n",
      "Non-trainable params: 0\n",
      "_________________________________________________________________\n"
     ]
    }
   ],
   "source": [
    "inputs = tf.keras.Input(shape=(2,))\n",
    "h1 = tf.keras.layers.Dense(units=4, activation='relu')(inputs)\n",
    "h2 = tf.keras.layers.Dense(units=4, activation='relu')(h1)\n",
    "h3 = tf.keras.layers.Dense(units=4, activation='relu')(h2)\n",
    "outputs = tf.keras.layers.Dense(units=1, activation='sigmoid')(h3)\n",
    "model = tf.keras.Model(inputs=inputs, outputs=outputs)\n",
    "model.summary()"
   ]
  },
  {
   "cell_type": "code",
   "execution_count": 3,
   "metadata": {
    "colab": {
     "base_uri": "https://localhost:8080/"
    },
    "id": "MYFT_3LaMD8l",
    "outputId": "d030d9f3-5053-408e-84d8-274811c55e30"
   },
   "outputs": [
    {
     "name": "stdout",
     "output_type": "stream",
     "text": [
      "Downloading data from http://archive.ics.uci.edu/ml/machine-learning-databases/auto-mpg/auto-mpg.data\n",
      "32768/30286 [================================] - 0s 2us/step\n",
      "40960/30286 [========================================] - 0s 2us/step\n"
     ]
    }
   ],
   "source": [
    "import pandas as pd\n",
    "data_path = tf.keras.utils.get_file(\"auto-mpg.data\", (\"http://archive.ics.uci.edu/ml/machine-learning-databases/auto-mpg/auto-mpg.data\"))\n",
    "columns = ['MPG', 'Cylinders', 'Displacement', 'Horsepower', 'Weight', 'Acceleration', 'ModelYear', 'Origin']\n",
    "df = pd.read_csv(data_path, names=columns, na_values='?', comment='\\t', sep=' ', skipinitialspace=True)"
   ]
  },
  {
   "cell_type": "code",
   "execution_count": 6,
   "metadata": {
    "colab": {
     "base_uri": "https://localhost:8080/",
     "height": 300
    },
    "id": "5NyolFHAdM_F",
    "outputId": "a3011a9b-8185-44b2-aac2-4078861aadaa"
   },
   "outputs": [
    {
     "data": {
      "text/html": [
       "\n",
       "  <div id=\"df-a90e1df0-20ed-4c53-940f-f6bba48ea435\">\n",
       "    <div class=\"colab-df-container\">\n",
       "      <div>\n",
       "<style scoped>\n",
       "    .dataframe tbody tr th:only-of-type {\n",
       "        vertical-align: middle;\n",
       "    }\n",
       "\n",
       "    .dataframe tbody tr th {\n",
       "        vertical-align: top;\n",
       "    }\n",
       "\n",
       "    .dataframe thead th {\n",
       "        text-align: right;\n",
       "    }\n",
       "</style>\n",
       "<table border=\"1\" class=\"dataframe\">\n",
       "  <thead>\n",
       "    <tr style=\"text-align: right;\">\n",
       "      <th></th>\n",
       "      <th>count</th>\n",
       "      <th>mean</th>\n",
       "      <th>std</th>\n",
       "      <th>min</th>\n",
       "      <th>25%</th>\n",
       "      <th>50%</th>\n",
       "      <th>75%</th>\n",
       "      <th>max</th>\n",
       "    </tr>\n",
       "  </thead>\n",
       "  <tbody>\n",
       "    <tr>\n",
       "      <th>MPG</th>\n",
       "      <td>313.0</td>\n",
       "      <td>23.340895</td>\n",
       "      <td>7.968000</td>\n",
       "      <td>9.0</td>\n",
       "      <td>17.0</td>\n",
       "      <td>22.4</td>\n",
       "      <td>29.0</td>\n",
       "      <td>46.6</td>\n",
       "    </tr>\n",
       "    <tr>\n",
       "      <th>Cylinders</th>\n",
       "      <td>313.0</td>\n",
       "      <td>5.517572</td>\n",
       "      <td>1.707969</td>\n",
       "      <td>3.0</td>\n",
       "      <td>4.0</td>\n",
       "      <td>5.0</td>\n",
       "      <td>8.0</td>\n",
       "      <td>8.0</td>\n",
       "    </tr>\n",
       "    <tr>\n",
       "      <th>Displacement</th>\n",
       "      <td>313.0</td>\n",
       "      <td>196.384984</td>\n",
       "      <td>105.279647</td>\n",
       "      <td>68.0</td>\n",
       "      <td>105.0</td>\n",
       "      <td>151.0</td>\n",
       "      <td>302.0</td>\n",
       "      <td>455.0</td>\n",
       "    </tr>\n",
       "    <tr>\n",
       "      <th>Horsepower</th>\n",
       "      <td>313.0</td>\n",
       "      <td>104.827476</td>\n",
       "      <td>38.661859</td>\n",
       "      <td>46.0</td>\n",
       "      <td>75.0</td>\n",
       "      <td>95.0</td>\n",
       "      <td>129.0</td>\n",
       "      <td>225.0</td>\n",
       "    </tr>\n",
       "    <tr>\n",
       "      <th>Weight</th>\n",
       "      <td>313.0</td>\n",
       "      <td>2992.028754</td>\n",
       "      <td>860.903745</td>\n",
       "      <td>1613.0</td>\n",
       "      <td>2220.0</td>\n",
       "      <td>2865.0</td>\n",
       "      <td>3613.0</td>\n",
       "      <td>4997.0</td>\n",
       "    </tr>\n",
       "    <tr>\n",
       "      <th>Acceleration</th>\n",
       "      <td>313.0</td>\n",
       "      <td>15.509585</td>\n",
       "      <td>2.705355</td>\n",
       "      <td>8.0</td>\n",
       "      <td>13.6</td>\n",
       "      <td>15.4</td>\n",
       "      <td>17.0</td>\n",
       "      <td>24.6</td>\n",
       "    </tr>\n",
       "    <tr>\n",
       "      <th>ModelYear</th>\n",
       "      <td>313.0</td>\n",
       "      <td>75.907348</td>\n",
       "      <td>3.633142</td>\n",
       "      <td>70.0</td>\n",
       "      <td>73.0</td>\n",
       "      <td>76.0</td>\n",
       "      <td>79.0</td>\n",
       "      <td>82.0</td>\n",
       "    </tr>\n",
       "    <tr>\n",
       "      <th>Origin</th>\n",
       "      <td>313.0</td>\n",
       "      <td>1.568690</td>\n",
       "      <td>0.798181</td>\n",
       "      <td>1.0</td>\n",
       "      <td>1.0</td>\n",
       "      <td>1.0</td>\n",
       "      <td>2.0</td>\n",
       "      <td>3.0</td>\n",
       "    </tr>\n",
       "  </tbody>\n",
       "</table>\n",
       "</div>\n",
       "      <button class=\"colab-df-convert\" onclick=\"convertToInteractive('df-a90e1df0-20ed-4c53-940f-f6bba48ea435')\"\n",
       "              title=\"Convert this dataframe to an interactive table.\"\n",
       "              style=\"display:none;\">\n",
       "        \n",
       "  <svg xmlns=\"http://www.w3.org/2000/svg\" height=\"24px\"viewBox=\"0 0 24 24\"\n",
       "       width=\"24px\">\n",
       "    <path d=\"M0 0h24v24H0V0z\" fill=\"none\"/>\n",
       "    <path d=\"M18.56 5.44l.94 2.06.94-2.06 2.06-.94-2.06-.94-.94-2.06-.94 2.06-2.06.94zm-11 1L8.5 8.5l.94-2.06 2.06-.94-2.06-.94L8.5 2.5l-.94 2.06-2.06.94zm10 10l.94 2.06.94-2.06 2.06-.94-2.06-.94-.94-2.06-.94 2.06-2.06.94z\"/><path d=\"M17.41 7.96l-1.37-1.37c-.4-.4-.92-.59-1.43-.59-.52 0-1.04.2-1.43.59L10.3 9.45l-7.72 7.72c-.78.78-.78 2.05 0 2.83L4 21.41c.39.39.9.59 1.41.59.51 0 1.02-.2 1.41-.59l7.78-7.78 2.81-2.81c.8-.78.8-2.07 0-2.86zM5.41 20L4 18.59l7.72-7.72 1.47 1.35L5.41 20z\"/>\n",
       "  </svg>\n",
       "      </button>\n",
       "      \n",
       "  <style>\n",
       "    .colab-df-container {\n",
       "      display:flex;\n",
       "      flex-wrap:wrap;\n",
       "      gap: 12px;\n",
       "    }\n",
       "\n",
       "    .colab-df-convert {\n",
       "      background-color: #E8F0FE;\n",
       "      border: none;\n",
       "      border-radius: 50%;\n",
       "      cursor: pointer;\n",
       "      display: none;\n",
       "      fill: #1967D2;\n",
       "      height: 32px;\n",
       "      padding: 0 0 0 0;\n",
       "      width: 32px;\n",
       "    }\n",
       "\n",
       "    .colab-df-convert:hover {\n",
       "      background-color: #E2EBFA;\n",
       "      box-shadow: 0px 1px 2px rgba(60, 64, 67, 0.3), 0px 1px 3px 1px rgba(60, 64, 67, 0.15);\n",
       "      fill: #174EA6;\n",
       "    }\n",
       "\n",
       "    [theme=dark] .colab-df-convert {\n",
       "      background-color: #3B4455;\n",
       "      fill: #D2E3FC;\n",
       "    }\n",
       "\n",
       "    [theme=dark] .colab-df-convert:hover {\n",
       "      background-color: #434B5C;\n",
       "      box-shadow: 0px 1px 3px 1px rgba(0, 0, 0, 0.15);\n",
       "      filter: drop-shadow(0px 1px 2px rgba(0, 0, 0, 0.3));\n",
       "      fill: #FFFFFF;\n",
       "    }\n",
       "  </style>\n",
       "\n",
       "      <script>\n",
       "        const buttonEl =\n",
       "          document.querySelector('#df-a90e1df0-20ed-4c53-940f-f6bba48ea435 button.colab-df-convert');\n",
       "        buttonEl.style.display =\n",
       "          google.colab.kernel.accessAllowed ? 'block' : 'none';\n",
       "\n",
       "        async function convertToInteractive(key) {\n",
       "          const element = document.querySelector('#df-a90e1df0-20ed-4c53-940f-f6bba48ea435');\n",
       "          const dataTable =\n",
       "            await google.colab.kernel.invokeFunction('convertToInteractive',\n",
       "                                                     [key], {});\n",
       "          if (!dataTable) return;\n",
       "\n",
       "          const docLinkHtml = 'Like what you see? Visit the ' +\n",
       "            '<a target=\"_blank\" href=https://colab.research.google.com/notebooks/data_table.ipynb>data table notebook</a>'\n",
       "            + ' to learn more about interactive tables.';\n",
       "          element.innerHTML = '';\n",
       "          dataTable['output_type'] = 'display_data';\n",
       "          await google.colab.output.renderOutput(dataTable, element);\n",
       "          const docLink = document.createElement('div');\n",
       "          docLink.innerHTML = docLinkHtml;\n",
       "          element.appendChild(docLink);\n",
       "        }\n",
       "      </script>\n",
       "    </div>\n",
       "  </div>\n",
       "  "
      ],
      "text/plain": [
       "              count         mean         std     min     25%     50%     75%  \\\n",
       "MPG           313.0    23.340895    7.968000     9.0    17.0    22.4    29.0   \n",
       "Cylinders     313.0     5.517572    1.707969     3.0     4.0     5.0     8.0   \n",
       "Displacement  313.0   196.384984  105.279647    68.0   105.0   151.0   302.0   \n",
       "Horsepower    313.0   104.827476   38.661859    46.0    75.0    95.0   129.0   \n",
       "Weight        313.0  2992.028754  860.903745  1613.0  2220.0  2865.0  3613.0   \n",
       "Acceleration  313.0    15.509585    2.705355     8.0    13.6    15.4    17.0   \n",
       "ModelYear     313.0    75.907348    3.633142    70.0    73.0    76.0    79.0   \n",
       "Origin        313.0     1.568690    0.798181     1.0     1.0     1.0     2.0   \n",
       "\n",
       "                 max  \n",
       "MPG             46.6  \n",
       "Cylinders        8.0  \n",
       "Displacement   455.0  \n",
       "Horsepower     225.0  \n",
       "Weight        4997.0  \n",
       "Acceleration    24.6  \n",
       "ModelYear       82.0  \n",
       "Origin           3.0  "
      ]
     },
     "execution_count": 6,
     "metadata": {},
     "output_type": "execute_result"
    }
   ],
   "source": [
    "#na를 포함한 열 삭제\n",
    "df = df.dropna()\n",
    "df = df.reset_index(drop=True)\n",
    "\n",
    "import sklearn\n",
    "import sklearn.model_selection\n",
    "df_train, df_test = sklearn.model_selection.train_test_split(df, train_size=0.8)\n",
    "train_stats = df_train.describe().transpose()\n",
    "train_stats"
   ]
  },
  {
   "cell_type": "code",
   "execution_count": 7,
   "metadata": {
    "colab": {
     "base_uri": "https://localhost:8080/",
     "height": 206
    },
    "id": "QXX2ijcMdpwk",
    "outputId": "2dd0ee43-4ac9-4e89-9cfc-366b23c5d227"
   },
   "outputs": [
    {
     "data": {
      "text/html": [
       "\n",
       "  <div id=\"df-ef769471-e96b-4526-868d-7610d40bd14c\">\n",
       "    <div class=\"colab-df-container\">\n",
       "      <div>\n",
       "<style scoped>\n",
       "    .dataframe tbody tr th:only-of-type {\n",
       "        vertical-align: middle;\n",
       "    }\n",
       "\n",
       "    .dataframe tbody tr th {\n",
       "        vertical-align: top;\n",
       "    }\n",
       "\n",
       "    .dataframe thead th {\n",
       "        text-align: right;\n",
       "    }\n",
       "</style>\n",
       "<table border=\"1\" class=\"dataframe\">\n",
       "  <thead>\n",
       "    <tr style=\"text-align: right;\">\n",
       "      <th></th>\n",
       "      <th>MPG</th>\n",
       "      <th>Cylinders</th>\n",
       "      <th>Displacement</th>\n",
       "      <th>Horsepower</th>\n",
       "      <th>Weight</th>\n",
       "      <th>Acceleration</th>\n",
       "      <th>ModelYear</th>\n",
       "      <th>Origin</th>\n",
       "    </tr>\n",
       "  </thead>\n",
       "  <tbody>\n",
       "    <tr>\n",
       "      <th>222</th>\n",
       "      <td>15.0</td>\n",
       "      <td>1.453439</td>\n",
       "      <td>1.003186</td>\n",
       "      <td>0.651094</td>\n",
       "      <td>1.513492</td>\n",
       "      <td>-0.225325</td>\n",
       "      <td>77</td>\n",
       "      <td>1</td>\n",
       "    </tr>\n",
       "    <tr>\n",
       "      <th>46</th>\n",
       "      <td>19.0</td>\n",
       "      <td>0.282457</td>\n",
       "      <td>0.509263</td>\n",
       "      <td>-0.124864</td>\n",
       "      <td>0.336822</td>\n",
       "      <td>-0.188361</td>\n",
       "      <td>71</td>\n",
       "      <td>1</td>\n",
       "    </tr>\n",
       "    <tr>\n",
       "      <th>238</th>\n",
       "      <td>30.5</td>\n",
       "      <td>-0.888524</td>\n",
       "      <td>-0.944009</td>\n",
       "      <td>-0.693900</td>\n",
       "      <td>-0.931613</td>\n",
       "      <td>-0.521035</td>\n",
       "      <td>77</td>\n",
       "      <td>2</td>\n",
       "    </tr>\n",
       "    <tr>\n",
       "      <th>8</th>\n",
       "      <td>14.0</td>\n",
       "      <td>1.453439</td>\n",
       "      <td>2.456458</td>\n",
       "      <td>3.108297</td>\n",
       "      <td>1.664496</td>\n",
       "      <td>-2.036548</td>\n",
       "      <td>70</td>\n",
       "      <td>1</td>\n",
       "    </tr>\n",
       "    <tr>\n",
       "      <th>331</th>\n",
       "      <td>23.7</td>\n",
       "      <td>-1.474015</td>\n",
       "      <td>-1.200469</td>\n",
       "      <td>-0.124864</td>\n",
       "      <td>-0.664451</td>\n",
       "      <td>-1.112455</td>\n",
       "      <td>80</td>\n",
       "      <td>3</td>\n",
       "    </tr>\n",
       "  </tbody>\n",
       "</table>\n",
       "</div>\n",
       "      <button class=\"colab-df-convert\" onclick=\"convertToInteractive('df-ef769471-e96b-4526-868d-7610d40bd14c')\"\n",
       "              title=\"Convert this dataframe to an interactive table.\"\n",
       "              style=\"display:none;\">\n",
       "        \n",
       "  <svg xmlns=\"http://www.w3.org/2000/svg\" height=\"24px\"viewBox=\"0 0 24 24\"\n",
       "       width=\"24px\">\n",
       "    <path d=\"M0 0h24v24H0V0z\" fill=\"none\"/>\n",
       "    <path d=\"M18.56 5.44l.94 2.06.94-2.06 2.06-.94-2.06-.94-.94-2.06-.94 2.06-2.06.94zm-11 1L8.5 8.5l.94-2.06 2.06-.94-2.06-.94L8.5 2.5l-.94 2.06-2.06.94zm10 10l.94 2.06.94-2.06 2.06-.94-2.06-.94-.94-2.06-.94 2.06-2.06.94z\"/><path d=\"M17.41 7.96l-1.37-1.37c-.4-.4-.92-.59-1.43-.59-.52 0-1.04.2-1.43.59L10.3 9.45l-7.72 7.72c-.78.78-.78 2.05 0 2.83L4 21.41c.39.39.9.59 1.41.59.51 0 1.02-.2 1.41-.59l7.78-7.78 2.81-2.81c.8-.78.8-2.07 0-2.86zM5.41 20L4 18.59l7.72-7.72 1.47 1.35L5.41 20z\"/>\n",
       "  </svg>\n",
       "      </button>\n",
       "      \n",
       "  <style>\n",
       "    .colab-df-container {\n",
       "      display:flex;\n",
       "      flex-wrap:wrap;\n",
       "      gap: 12px;\n",
       "    }\n",
       "\n",
       "    .colab-df-convert {\n",
       "      background-color: #E8F0FE;\n",
       "      border: none;\n",
       "      border-radius: 50%;\n",
       "      cursor: pointer;\n",
       "      display: none;\n",
       "      fill: #1967D2;\n",
       "      height: 32px;\n",
       "      padding: 0 0 0 0;\n",
       "      width: 32px;\n",
       "    }\n",
       "\n",
       "    .colab-df-convert:hover {\n",
       "      background-color: #E2EBFA;\n",
       "      box-shadow: 0px 1px 2px rgba(60, 64, 67, 0.3), 0px 1px 3px 1px rgba(60, 64, 67, 0.15);\n",
       "      fill: #174EA6;\n",
       "    }\n",
       "\n",
       "    [theme=dark] .colab-df-convert {\n",
       "      background-color: #3B4455;\n",
       "      fill: #D2E3FC;\n",
       "    }\n",
       "\n",
       "    [theme=dark] .colab-df-convert:hover {\n",
       "      background-color: #434B5C;\n",
       "      box-shadow: 0px 1px 3px 1px rgba(0, 0, 0, 0.15);\n",
       "      filter: drop-shadow(0px 1px 2px rgba(0, 0, 0, 0.3));\n",
       "      fill: #FFFFFF;\n",
       "    }\n",
       "  </style>\n",
       "\n",
       "      <script>\n",
       "        const buttonEl =\n",
       "          document.querySelector('#df-ef769471-e96b-4526-868d-7610d40bd14c button.colab-df-convert');\n",
       "        buttonEl.style.display =\n",
       "          google.colab.kernel.accessAllowed ? 'block' : 'none';\n",
       "\n",
       "        async function convertToInteractive(key) {\n",
       "          const element = document.querySelector('#df-ef769471-e96b-4526-868d-7610d40bd14c');\n",
       "          const dataTable =\n",
       "            await google.colab.kernel.invokeFunction('convertToInteractive',\n",
       "                                                     [key], {});\n",
       "          if (!dataTable) return;\n",
       "\n",
       "          const docLinkHtml = 'Like what you see? Visit the ' +\n",
       "            '<a target=\"_blank\" href=https://colab.research.google.com/notebooks/data_table.ipynb>data table notebook</a>'\n",
       "            + ' to learn more about interactive tables.';\n",
       "          element.innerHTML = '';\n",
       "          dataTable['output_type'] = 'display_data';\n",
       "          await google.colab.output.renderOutput(dataTable, element);\n",
       "          const docLink = document.createElement('div');\n",
       "          docLink.innerHTML = docLinkHtml;\n",
       "          element.appendChild(docLink);\n",
       "        }\n",
       "      </script>\n",
       "    </div>\n",
       "  </div>\n",
       "  "
      ],
      "text/plain": [
       "      MPG  Cylinders  Displacement  Horsepower    Weight  Acceleration  \\\n",
       "222  15.0   1.453439      1.003186    0.651094  1.513492     -0.225325   \n",
       "46   19.0   0.282457      0.509263   -0.124864  0.336822     -0.188361   \n",
       "238  30.5  -0.888524     -0.944009   -0.693900 -0.931613     -0.521035   \n",
       "8    14.0   1.453439      2.456458    3.108297  1.664496     -2.036548   \n",
       "331  23.7  -1.474015     -1.200469   -0.124864 -0.664451     -1.112455   \n",
       "\n",
       "     ModelYear  Origin  \n",
       "222         77       1  \n",
       "46          71       1  \n",
       "238         77       2  \n",
       "8           70       1  \n",
       "331         80       3  "
      ]
     },
     "execution_count": 7,
     "metadata": {},
     "output_type": "execute_result"
    }
   ],
   "source": [
    "numeric_columns=['Cylinders', 'Displacement', 'Horsepower', 'Weight', 'Acceleration']\n",
    "df_train_norm, df_test_norm = df_train.copy(), df_test.copy()\n",
    "for col in numeric_columns:\n",
    "  mean = train_stats['mean'][col]\n",
    "  std = train_stats['std'][col]\n",
    "  df_train_norm[col] = (df_train_norm[col]-mean)/std\n",
    "  df_test_norm[col] = (df_test_norm[col]-mean)/std\n",
    "\n",
    "df_train_norm.tail()"
   ]
  },
  {
   "cell_type": "code",
   "execution_count": 9,
   "metadata": {
    "colab": {
     "base_uri": "https://localhost:8080/"
    },
    "id": "D7MxR20nef2k",
    "outputId": "484a119b-baaf-4c03-bfab-e65dcd902a02"
   },
   "outputs": [
    {
     "data": {
      "text/plain": [
       "[NumericColumn(key='Cylinders', shape=(1,), default_value=None, dtype=tf.float32, normalizer_fn=None),\n",
       " NumericColumn(key='Displacement', shape=(1,), default_value=None, dtype=tf.float32, normalizer_fn=None),\n",
       " NumericColumn(key='Horsepower', shape=(1,), default_value=None, dtype=tf.float32, normalizer_fn=None),\n",
       " NumericColumn(key='Weight', shape=(1,), default_value=None, dtype=tf.float32, normalizer_fn=None),\n",
       " NumericColumn(key='Acceleration', shape=(1,), default_value=None, dtype=tf.float32, normalizer_fn=None)]"
      ]
     },
     "execution_count": 9,
     "metadata": {},
     "output_type": "execute_result"
    }
   ],
   "source": [
    "numeric_features=[]\n",
    "for col in numeric_columns:\n",
    "  numeric_features.append(tf.feature_column.numeric_column(key=col))\n",
    "\n",
    "numeric_features"
   ]
  },
  {
   "cell_type": "code",
   "execution_count": 10,
   "metadata": {
    "id": "O92io1nKe0f5"
   },
   "outputs": [],
   "source": [
    "feature_year = tf.feature_column.numeric_column(key='ModelYear')\n",
    "bucketized_features=[]\n",
    "bucketized_features.append(tf.feature_column.bucketized_column(source_column=feature_year, boundaries=[73,76,79]))"
   ]
  },
  {
   "cell_type": "code",
   "execution_count": 11,
   "metadata": {
    "id": "N-ma4s-jfa_N"
   },
   "outputs": [],
   "source": [
    "feature_origin = tf.feature_column.categorical_column_with_vocabulary_list(key='Origin', vocabulary_list=[1,2,3])"
   ]
  },
  {
   "cell_type": "code",
   "execution_count": 12,
   "metadata": {
    "id": "416L9htZf6zo"
   },
   "outputs": [],
   "source": [
    "#범주형 특성을 밀집 열로 바꾸는 방법은 임베딩(embedding_columns)와 인디케이터(indicator_columns)가 있음\n",
    "#임베딩은 특성을 float타입의 랜덤한 벡터로 매핑하고, 인디케이터는 원핫 인코딩을 함\n",
    "categorical_indicator_features = []\n",
    "categorical_indicator_features.append(tf.feature_column.indicator_column(feature_origin))"
   ]
  },
  {
   "cell_type": "code",
   "execution_count": 16,
   "metadata": {
    "id": "4MEvwfAFgnoD"
   },
   "outputs": [],
   "source": [
    "def train_input_fn(df_train, batch_size=8):\n",
    "  df = df_train.copy()\n",
    "  train_x, train_y = df, df.pop('MPG')\n",
    "  dataset = tf.data.Dataset.from_tensor_slices((dict(train_x), train_y))\n",
    "\n",
    "  return dataset.shuffle(1000).repeat().batch(batch_size)"
   ]
  },
  {
   "cell_type": "code",
   "execution_count": 17,
   "metadata": {
    "colab": {
     "base_uri": "https://localhost:8080/"
    },
    "id": "K8lEaGQ2h8NH",
    "outputId": "45af9836-99b2-4d4f-a94e-3397c61f3c17"
   },
   "outputs": [
    {
     "data": {
      "text/plain": [
       "({'Acceleration': <tf.Tensor: shape=(8,), dtype=float64, numpy=\n",
       "  array([ 1.10536887,  1.10536887,  0.36609439,  0.51394929, -0.00354285,\n",
       "          2.02946197, -0.55799871, -1.29727319])>,\n",
       "  'Cylinders': <tf.Tensor: shape=(8,), dtype=float64, numpy=\n",
       "  array([-0.88852424,  0.28245718, -0.88852424, -0.88852424, -0.88852424,\n",
       "          0.28245718, -0.88852424,  1.4534386 ])>,\n",
       "  'Displacement': <tf.Tensor: shape=(8,), dtype=float64, numpy=\n",
       "  array([-0.93451096,  0.50926288, -0.93451096, -0.76353774, -1.01049906,\n",
       "          0.50926288, -0.70654667,  1.93403969])>,\n",
       "  'Horsepower': <tf.Tensor: shape=(8,), dtype=float64, numpy=\n",
       "  array([-0.95255315,  0.00446238, -0.56457388, -0.61630445, -0.77149616,\n",
       "         -0.69390031, -0.48697803,  1.68570589])>,\n",
       "  'ModelYear': <tf.Tensor: shape=(8,), dtype=int64, numpy=array([77, 75, 74, 76, 74, 76, 71, 71])>,\n",
       "  'Origin': <tf.Tensor: shape=(8,), dtype=int64, numpy=array([3, 1, 2, 2, 2, 1, 1, 1])>,\n",
       "  'Weight': <tf.Tensor: shape=(8,), dtype=float64, numpy=\n",
       "  array([-1.10004023,  1.05118749, -0.89792704, -0.89676547, -1.02686132,\n",
       "          0.67600036, -0.89676547,  2.03736045])>},\n",
       " <tf.Tensor: shape=(8,), dtype=float64, numpy=array([31.5, 16. , 29. , 25. , 24. , 18. , 23. , 13. ])>)"
      ]
     },
     "execution_count": 17,
     "metadata": {},
     "output_type": "execute_result"
    }
   ],
   "source": [
    "ds = train_input_fn(df_train_norm)\n",
    "batch = next(iter(ds))\n",
    "batch"
   ]
  },
  {
   "cell_type": "code",
   "execution_count": 27,
   "metadata": {
    "id": "OlKl3kTEiCKi"
   },
   "outputs": [],
   "source": [
    "def eval_input_fn(df_test, batch_size=8):\n",
    "  df = df_test.copy()\n",
    "  test_x, test_y = df, df.pop('MPG')\n",
    "  dataset = tf.data.Dataset.from_tensor_slices((dict(test_x), test_y))\n",
    "  return dataset.batch(batch_size)"
   ]
  },
  {
   "cell_type": "code",
   "execution_count": 20,
   "metadata": {
    "id": "0tYnT8wxi9Lz"
   },
   "outputs": [],
   "source": [
    "all_feature_columns = numeric_features + bucketized_features + categorical_indicator_features"
   ]
  },
  {
   "cell_type": "code",
   "execution_count": 23,
   "metadata": {
    "colab": {
     "base_uri": "https://localhost:8080/"
    },
    "id": "GagmMZKhjHVg",
    "outputId": "8ba59538-6a96-4add-e4b1-115974004fae"
   },
   "outputs": [
    {
     "name": "stdout",
     "output_type": "stream",
     "text": [
      "INFO:tensorflow:Using default config.\n",
      "INFO:tensorflow:Using config: {'_model_dir': 'models/autompg-dnnregressor/', '_tf_random_seed': None, '_save_summary_steps': 100, '_save_checkpoints_steps': None, '_save_checkpoints_secs': 600, '_session_config': allow_soft_placement: true\n",
      "graph_options {\n",
      "  rewrite_options {\n",
      "    meta_optimizer_iterations: ONE\n",
      "  }\n",
      "}\n",
      ", '_keep_checkpoint_max': 5, '_keep_checkpoint_every_n_hours': 10000, '_log_step_count_steps': 100, '_train_distribute': None, '_device_fn': None, '_protocol': None, '_eval_distribute': None, '_experimental_distribute': None, '_experimental_max_worker_delay_secs': None, '_session_creation_timeout_secs': 7200, '_checkpoint_save_graph_def': True, '_service': None, '_cluster_spec': ClusterSpec({}), '_task_type': 'worker', '_task_id': 0, '_global_id_in_cluster': 0, '_master': '', '_evaluation_master': '', '_is_chief': True, '_num_ps_replicas': 0, '_num_worker_replicas': 1}\n"
     ]
    }
   ],
   "source": [
    "regressor = tf.estimator.DNNRegressor(feature_columns = all_feature_columns, hidden_units = [32, 10], model_dir='models/autompg-dnnregressor/')"
   ]
  },
  {
   "cell_type": "code",
   "execution_count": 24,
   "metadata": {
    "colab": {
     "base_uri": "https://localhost:8080/"
    },
    "id": "GnOjQPLoja7u",
    "outputId": "7350c901-22f2-4c08-9f7c-b757d8c6f819"
   },
   "outputs": [
    {
     "name": "stdout",
     "output_type": "stream",
     "text": [
      "WARNING:tensorflow:From /usr/local/lib/python3.7/dist-packages/tensorflow/python/training/training_util.py:397: Variable.initialized_value (from tensorflow.python.ops.variables) is deprecated and will be removed in a future version.\n",
      "Instructions for updating:\n",
      "Use Variable.read_value. Variables in 2.X are initialized automatically both in eager and graph (inside tf.defun) contexts.\n",
      "INFO:tensorflow:Calling model_fn.\n",
      "WARNING:tensorflow:From /usr/local/lib/python3.7/dist-packages/keras/optimizer_v2/adagrad.py:84: calling Constant.__init__ (from tensorflow.python.ops.init_ops) with dtype is deprecated and will be removed in a future version.\n",
      "Instructions for updating:\n",
      "Call initializer instance with the dtype argument instead of passing it to the constructor\n",
      "INFO:tensorflow:Done calling model_fn.\n",
      "INFO:tensorflow:Create CheckpointSaverHook.\n",
      "INFO:tensorflow:Graph was finalized.\n",
      "INFO:tensorflow:Running local_init_op.\n",
      "INFO:tensorflow:Done running local_init_op.\n",
      "INFO:tensorflow:Calling checkpoint listeners before saving checkpoint 0...\n",
      "INFO:tensorflow:Saving checkpoints for 0 into models/autompg-dnnregressor/model.ckpt.\n",
      "INFO:tensorflow:Calling checkpoint listeners after saving checkpoint 0...\n",
      "INFO:tensorflow:loss = 798.3779, step = 0\n",
      "INFO:tensorflow:global_step/sec: 430.848\n",
      "INFO:tensorflow:loss = 523.51447, step = 100 (0.235 sec)\n",
      "INFO:tensorflow:global_step/sec: 569.522\n",
      "INFO:tensorflow:loss = 339.29144, step = 200 (0.179 sec)\n",
      "INFO:tensorflow:global_step/sec: 660.469\n",
      "INFO:tensorflow:loss = 379.87775, step = 300 (0.153 sec)\n",
      "INFO:tensorflow:global_step/sec: 671.906\n",
      "INFO:tensorflow:loss = 708.96295, step = 400 (0.148 sec)\n",
      "INFO:tensorflow:global_step/sec: 629.067\n",
      "INFO:tensorflow:loss = 740.6748, step = 500 (0.158 sec)\n",
      "INFO:tensorflow:global_step/sec: 600.875\n",
      "INFO:tensorflow:loss = 626.2534, step = 600 (0.162 sec)\n",
      "INFO:tensorflow:global_step/sec: 501.32\n",
      "INFO:tensorflow:loss = 636.34937, step = 700 (0.206 sec)\n",
      "INFO:tensorflow:global_step/sec: 671.233\n",
      "INFO:tensorflow:loss = 618.4478, step = 800 (0.149 sec)\n",
      "INFO:tensorflow:global_step/sec: 608.292\n",
      "INFO:tensorflow:loss = 705.03625, step = 900 (0.158 sec)\n",
      "INFO:tensorflow:global_step/sec: 618.849\n",
      "INFO:tensorflow:loss = 392.1773, step = 1000 (0.169 sec)\n",
      "INFO:tensorflow:global_step/sec: 636.485\n",
      "INFO:tensorflow:loss = 443.6786, step = 1100 (0.149 sec)\n",
      "INFO:tensorflow:global_step/sec: 667.778\n",
      "INFO:tensorflow:loss = 525.57874, step = 1200 (0.157 sec)\n",
      "INFO:tensorflow:global_step/sec: 553.131\n",
      "INFO:tensorflow:loss = 677.11316, step = 1300 (0.173 sec)\n",
      "INFO:tensorflow:global_step/sec: 621.845\n",
      "INFO:tensorflow:loss = 468.7403, step = 1400 (0.161 sec)\n",
      "INFO:tensorflow:global_step/sec: 660.102\n",
      "INFO:tensorflow:loss = 573.0604, step = 1500 (0.162 sec)\n",
      "INFO:tensorflow:global_step/sec: 693.942\n",
      "INFO:tensorflow:loss = 602.37994, step = 1600 (0.142 sec)\n",
      "INFO:tensorflow:global_step/sec: 607.009\n",
      "INFO:tensorflow:loss = 471.73462, step = 1700 (0.161 sec)\n",
      "INFO:tensorflow:global_step/sec: 686.866\n",
      "INFO:tensorflow:loss = 472.10327, step = 1800 (0.147 sec)\n",
      "INFO:tensorflow:global_step/sec: 669.063\n",
      "INFO:tensorflow:loss = 357.51184, step = 1900 (0.151 sec)\n",
      "INFO:tensorflow:global_step/sec: 567.735\n",
      "INFO:tensorflow:loss = 736.8547, step = 2000 (0.168 sec)\n",
      "INFO:tensorflow:global_step/sec: 619.954\n",
      "INFO:tensorflow:loss = 431.4182, step = 2100 (0.165 sec)\n",
      "INFO:tensorflow:global_step/sec: 612.486\n",
      "INFO:tensorflow:loss = 301.0836, step = 2200 (0.164 sec)\n",
      "INFO:tensorflow:global_step/sec: 624.651\n",
      "INFO:tensorflow:loss = 509.77618, step = 2300 (0.155 sec)\n",
      "INFO:tensorflow:global_step/sec: 617.211\n",
      "INFO:tensorflow:loss = 435.3055, step = 2400 (0.169 sec)\n",
      "INFO:tensorflow:global_step/sec: 608.697\n",
      "INFO:tensorflow:loss = 428.2892, step = 2500 (0.164 sec)\n",
      "INFO:tensorflow:global_step/sec: 612.207\n",
      "INFO:tensorflow:loss = 599.298, step = 2600 (0.157 sec)\n",
      "INFO:tensorflow:global_step/sec: 594.662\n",
      "INFO:tensorflow:loss = 603.55225, step = 2700 (0.170 sec)\n",
      "INFO:tensorflow:global_step/sec: 640.887\n",
      "INFO:tensorflow:loss = 547.45825, step = 2800 (0.155 sec)\n",
      "INFO:tensorflow:global_step/sec: 632.726\n",
      "INFO:tensorflow:loss = 495.95233, step = 2900 (0.158 sec)\n",
      "INFO:tensorflow:global_step/sec: 681.014\n",
      "INFO:tensorflow:loss = 386.25677, step = 3000 (0.153 sec)\n",
      "INFO:tensorflow:global_step/sec: 654.41\n",
      "INFO:tensorflow:loss = 451.0946, step = 3100 (0.153 sec)\n",
      "INFO:tensorflow:global_step/sec: 659.965\n",
      "INFO:tensorflow:loss = 374.76538, step = 3200 (0.150 sec)\n",
      "INFO:tensorflow:global_step/sec: 586.088\n",
      "INFO:tensorflow:loss = 474.00635, step = 3300 (0.167 sec)\n",
      "WARNING:tensorflow:It seems that global step (tf.train.get_global_step) has not been increased. Current value (could be stable): 3321 vs previous value: 3321. You could increase the global step by passing tf.train.get_global_step() to Optimizer.apply_gradients or Optimizer.minimize.\n",
      "INFO:tensorflow:global_step/sec: 618.551\n",
      "INFO:tensorflow:loss = 538.6042, step = 3400 (0.161 sec)\n",
      "INFO:tensorflow:global_step/sec: 617.731\n",
      "INFO:tensorflow:loss = 389.233, step = 3500 (0.162 sec)\n",
      "INFO:tensorflow:global_step/sec: 641.836\n",
      "INFO:tensorflow:loss = 361.58673, step = 3600 (0.160 sec)\n",
      "INFO:tensorflow:global_step/sec: 665.003\n",
      "INFO:tensorflow:loss = 372.92844, step = 3700 (0.151 sec)\n",
      "INFO:tensorflow:global_step/sec: 617.791\n",
      "INFO:tensorflow:loss = 279.33963, step = 3800 (0.156 sec)\n",
      "WARNING:tensorflow:It seems that global step (tf.train.get_global_step) has not been increased. Current value (could be stable): 3825 vs previous value: 3825. You could increase the global step by passing tf.train.get_global_step() to Optimizer.apply_gradients or Optimizer.minimize.\n",
      "INFO:tensorflow:global_step/sec: 563.008\n",
      "INFO:tensorflow:loss = 364.60916, step = 3900 (0.182 sec)\n",
      "INFO:tensorflow:global_step/sec: 726.241\n",
      "INFO:tensorflow:loss = 380.46658, step = 4000 (0.139 sec)\n",
      "WARNING:tensorflow:It seems that global step (tf.train.get_global_step) has not been increased. Current value (could be stable): 4025 vs previous value: 4025. You could increase the global step by passing tf.train.get_global_step() to Optimizer.apply_gradients or Optimizer.minimize.\n",
      "INFO:tensorflow:global_step/sec: 644.221\n",
      "INFO:tensorflow:loss = 438.6153, step = 4100 (0.153 sec)\n",
      "INFO:tensorflow:global_step/sec: 705.705\n",
      "INFO:tensorflow:loss = 490.9703, step = 4200 (0.142 sec)\n",
      "INFO:tensorflow:global_step/sec: 664.677\n",
      "INFO:tensorflow:loss = 239.62457, step = 4300 (0.152 sec)\n",
      "INFO:tensorflow:global_step/sec: 745.812\n",
      "INFO:tensorflow:loss = 371.6994, step = 4400 (0.129 sec)\n",
      "INFO:tensorflow:global_step/sec: 599.91\n",
      "INFO:tensorflow:loss = 388.00992, step = 4500 (0.167 sec)\n",
      "WARNING:tensorflow:It seems that global step (tf.train.get_global_step) has not been increased. Current value (could be stable): 4562 vs previous value: 4562. You could increase the global step by passing tf.train.get_global_step() to Optimizer.apply_gradients or Optimizer.minimize.\n",
      "INFO:tensorflow:global_step/sec: 613.089\n",
      "INFO:tensorflow:loss = 307.80322, step = 4600 (0.163 sec)\n",
      "INFO:tensorflow:global_step/sec: 654.016\n",
      "INFO:tensorflow:loss = 427.34735, step = 4700 (0.157 sec)\n",
      "INFO:tensorflow:global_step/sec: 628.052\n",
      "INFO:tensorflow:loss = 234.72116, step = 4800 (0.154 sec)\n",
      "INFO:tensorflow:global_step/sec: 642.496\n",
      "INFO:tensorflow:loss = 363.0155, step = 4900 (0.158 sec)\n",
      "INFO:tensorflow:global_step/sec: 675.063\n",
      "INFO:tensorflow:loss = 323.80518, step = 5000 (0.148 sec)\n",
      "INFO:tensorflow:global_step/sec: 701.844\n",
      "INFO:tensorflow:loss = 337.04932, step = 5100 (0.146 sec)\n",
      "INFO:tensorflow:global_step/sec: 726.398\n",
      "INFO:tensorflow:loss = 255.26813, step = 5200 (0.138 sec)\n",
      "INFO:tensorflow:global_step/sec: 566.543\n",
      "INFO:tensorflow:loss = 278.48285, step = 5300 (0.176 sec)\n",
      "INFO:tensorflow:global_step/sec: 551.027\n",
      "INFO:tensorflow:loss = 414.76605, step = 5400 (0.181 sec)\n",
      "INFO:tensorflow:global_step/sec: 572.016\n",
      "INFO:tensorflow:loss = 377.40936, step = 5500 (0.179 sec)\n",
      "INFO:tensorflow:global_step/sec: 577.924\n",
      "INFO:tensorflow:loss = 168.06381, step = 5600 (0.170 sec)\n",
      "INFO:tensorflow:global_step/sec: 582.545\n",
      "INFO:tensorflow:loss = 287.5231, step = 5700 (0.170 sec)\n",
      "INFO:tensorflow:global_step/sec: 669.606\n",
      "INFO:tensorflow:loss = 327.09106, step = 5800 (0.147 sec)\n",
      "INFO:tensorflow:global_step/sec: 604.917\n",
      "INFO:tensorflow:loss = 304.6178, step = 5900 (0.168 sec)\n",
      "INFO:tensorflow:global_step/sec: 749.675\n",
      "INFO:tensorflow:loss = 234.96454, step = 6000 (0.133 sec)\n",
      "INFO:tensorflow:global_step/sec: 697.451\n",
      "INFO:tensorflow:loss = 138.96841, step = 6100 (0.144 sec)\n",
      "INFO:tensorflow:global_step/sec: 682.57\n",
      "INFO:tensorflow:loss = 159.02219, step = 6200 (0.149 sec)\n",
      "INFO:tensorflow:global_step/sec: 658.506\n",
      "INFO:tensorflow:loss = 312.76886, step = 6300 (0.148 sec)\n",
      "INFO:tensorflow:global_step/sec: 725.01\n",
      "INFO:tensorflow:loss = 164.68854, step = 6400 (0.141 sec)\n",
      "INFO:tensorflow:global_step/sec: 613.366\n",
      "INFO:tensorflow:loss = 216.23361, step = 6500 (0.157 sec)\n",
      "INFO:tensorflow:global_step/sec: 558.922\n",
      "INFO:tensorflow:loss = 207.38457, step = 6600 (0.185 sec)\n",
      "INFO:tensorflow:global_step/sec: 610.754\n",
      "INFO:tensorflow:loss = 200.23512, step = 6700 (0.156 sec)\n",
      "INFO:tensorflow:global_step/sec: 717.73\n",
      "INFO:tensorflow:loss = 353.28836, step = 6800 (0.144 sec)\n",
      "INFO:tensorflow:global_step/sec: 603.204\n",
      "INFO:tensorflow:loss = 182.00092, step = 6900 (0.166 sec)\n",
      "INFO:tensorflow:global_step/sec: 622.17\n",
      "INFO:tensorflow:loss = 172.89433, step = 7000 (0.161 sec)\n",
      "INFO:tensorflow:global_step/sec: 673.051\n",
      "INFO:tensorflow:loss = 160.00635, step = 7100 (0.144 sec)\n",
      "INFO:tensorflow:global_step/sec: 634.705\n",
      "INFO:tensorflow:loss = 255.3803, step = 7200 (0.158 sec)\n",
      "INFO:tensorflow:global_step/sec: 597.749\n",
      "INFO:tensorflow:loss = 55.215984, step = 7300 (0.168 sec)\n",
      "INFO:tensorflow:global_step/sec: 660.089\n",
      "INFO:tensorflow:loss = 140.56166, step = 7400 (0.151 sec)\n",
      "INFO:tensorflow:global_step/sec: 619.947\n",
      "INFO:tensorflow:loss = 113.3557, step = 7500 (0.161 sec)\n",
      "INFO:tensorflow:global_step/sec: 650.464\n",
      "INFO:tensorflow:loss = 143.63364, step = 7600 (0.154 sec)\n",
      "INFO:tensorflow:global_step/sec: 655.588\n",
      "INFO:tensorflow:loss = 167.54024, step = 7700 (0.152 sec)\n",
      "INFO:tensorflow:global_step/sec: 720.203\n",
      "INFO:tensorflow:loss = 135.2716, step = 7800 (0.139 sec)\n",
      "INFO:tensorflow:global_step/sec: 567.315\n",
      "INFO:tensorflow:loss = 257.49866, step = 7900 (0.178 sec)\n",
      "INFO:tensorflow:global_step/sec: 685.826\n",
      "INFO:tensorflow:loss = 129.87006, step = 8000 (0.155 sec)\n",
      "INFO:tensorflow:global_step/sec: 616.995\n",
      "INFO:tensorflow:loss = 92.109695, step = 8100 (0.155 sec)\n",
      "INFO:tensorflow:global_step/sec: 647.354\n",
      "INFO:tensorflow:loss = 162.43747, step = 8200 (0.156 sec)\n",
      "INFO:tensorflow:global_step/sec: 614.69\n",
      "INFO:tensorflow:loss = 226.8374, step = 8300 (0.161 sec)\n",
      "INFO:tensorflow:global_step/sec: 653.178\n",
      "INFO:tensorflow:loss = 167.7425, step = 8400 (0.155 sec)\n",
      "INFO:tensorflow:global_step/sec: 640.257\n",
      "INFO:tensorflow:loss = 135.37764, step = 8500 (0.156 sec)\n",
      "INFO:tensorflow:global_step/sec: 586.852\n",
      "INFO:tensorflow:loss = 114.665054, step = 8600 (0.162 sec)\n",
      "INFO:tensorflow:global_step/sec: 716.995\n",
      "INFO:tensorflow:loss = 195.15182, step = 8700 (0.140 sec)\n",
      "INFO:tensorflow:global_step/sec: 767.732\n",
      "INFO:tensorflow:loss = 106.49111, step = 8800 (0.132 sec)\n",
      "INFO:tensorflow:global_step/sec: 622.54\n",
      "INFO:tensorflow:loss = 120.78734, step = 8900 (0.164 sec)\n",
      "INFO:tensorflow:global_step/sec: 717.509\n",
      "INFO:tensorflow:loss = 130.52321, step = 9000 (0.143 sec)\n",
      "INFO:tensorflow:global_step/sec: 579.763\n",
      "INFO:tensorflow:loss = 85.10014, step = 9100 (0.171 sec)\n",
      "INFO:tensorflow:global_step/sec: 549.66\n",
      "INFO:tensorflow:loss = 56.907894, step = 9200 (0.175 sec)\n",
      "INFO:tensorflow:global_step/sec: 642.607\n",
      "INFO:tensorflow:loss = 83.86995, step = 9300 (0.156 sec)\n",
      "INFO:tensorflow:global_step/sec: 635.502\n",
      "INFO:tensorflow:loss = 121.75246, step = 9400 (0.163 sec)\n",
      "INFO:tensorflow:global_step/sec: 601.614\n",
      "INFO:tensorflow:loss = 198.0703, step = 9500 (0.165 sec)\n",
      "INFO:tensorflow:global_step/sec: 621.113\n",
      "INFO:tensorflow:loss = 117.323944, step = 9600 (0.160 sec)\n",
      "INFO:tensorflow:global_step/sec: 622.289\n",
      "INFO:tensorflow:loss = 122.80846, step = 9700 (0.157 sec)\n",
      "INFO:tensorflow:global_step/sec: 542.469\n",
      "INFO:tensorflow:loss = 83.532265, step = 9800 (0.189 sec)\n",
      "INFO:tensorflow:global_step/sec: 527.678\n",
      "INFO:tensorflow:loss = 110.88342, step = 9900 (0.184 sec)\n",
      "INFO:tensorflow:global_step/sec: 657.106\n",
      "INFO:tensorflow:loss = 75.97439, step = 10000 (0.157 sec)\n",
      "INFO:tensorflow:global_step/sec: 676.399\n",
      "INFO:tensorflow:loss = 47.666203, step = 10100 (0.144 sec)\n",
      "INFO:tensorflow:global_step/sec: 653.507\n",
      "INFO:tensorflow:loss = 139.04399, step = 10200 (0.153 sec)\n",
      "INFO:tensorflow:global_step/sec: 629.742\n",
      "INFO:tensorflow:loss = 102.787766, step = 10300 (0.159 sec)\n",
      "INFO:tensorflow:global_step/sec: 664.401\n",
      "INFO:tensorflow:loss = 40.93405, step = 10400 (0.150 sec)\n",
      "INFO:tensorflow:global_step/sec: 610.441\n",
      "INFO:tensorflow:loss = 94.72958, step = 10500 (0.164 sec)\n",
      "INFO:tensorflow:global_step/sec: 657.687\n",
      "INFO:tensorflow:loss = 80.186485, step = 10600 (0.152 sec)\n",
      "INFO:tensorflow:global_step/sec: 706.126\n",
      "INFO:tensorflow:loss = 62.431778, step = 10700 (0.141 sec)\n",
      "INFO:tensorflow:global_step/sec: 637.156\n",
      "INFO:tensorflow:loss = 39.44873, step = 10800 (0.157 sec)\n",
      "INFO:tensorflow:global_step/sec: 661.203\n",
      "INFO:tensorflow:loss = 101.27305, step = 10900 (0.151 sec)\n",
      "INFO:tensorflow:global_step/sec: 606.791\n",
      "INFO:tensorflow:loss = 39.806393, step = 11000 (0.165 sec)\n",
      "INFO:tensorflow:global_step/sec: 661.121\n",
      "INFO:tensorflow:loss = 42.39152, step = 11100 (0.151 sec)\n",
      "INFO:tensorflow:global_step/sec: 597.005\n",
      "INFO:tensorflow:loss = 106.5162, step = 11200 (0.168 sec)\n",
      "INFO:tensorflow:global_step/sec: 643.147\n",
      "INFO:tensorflow:loss = 78.30733, step = 11300 (0.155 sec)\n",
      "INFO:tensorflow:global_step/sec: 655.85\n",
      "INFO:tensorflow:loss = 117.61391, step = 11400 (0.152 sec)\n",
      "INFO:tensorflow:global_step/sec: 680.92\n",
      "INFO:tensorflow:loss = 104.69139, step = 11500 (0.147 sec)\n",
      "INFO:tensorflow:global_step/sec: 665.253\n",
      "INFO:tensorflow:loss = 63.24817, step = 11600 (0.153 sec)\n",
      "INFO:tensorflow:global_step/sec: 612.395\n",
      "INFO:tensorflow:loss = 14.0451145, step = 11700 (0.163 sec)\n",
      "INFO:tensorflow:global_step/sec: 743.133\n",
      "INFO:tensorflow:loss = 139.73148, step = 11800 (0.134 sec)\n",
      "INFO:tensorflow:global_step/sec: 525.195\n",
      "INFO:tensorflow:loss = 38.566944, step = 11900 (0.191 sec)\n",
      "INFO:tensorflow:global_step/sec: 674.836\n",
      "INFO:tensorflow:loss = 36.6711, step = 12000 (0.144 sec)\n",
      "INFO:tensorflow:global_step/sec: 619.841\n",
      "INFO:tensorflow:loss = 18.893919, step = 12100 (0.162 sec)\n",
      "INFO:tensorflow:global_step/sec: 715.753\n",
      "INFO:tensorflow:loss = 32.651993, step = 12200 (0.141 sec)\n",
      "INFO:tensorflow:global_step/sec: 721.551\n",
      "INFO:tensorflow:loss = 51.774883, step = 12300 (0.138 sec)\n",
      "INFO:tensorflow:global_step/sec: 640.668\n",
      "INFO:tensorflow:loss = 35.64837, step = 12400 (0.159 sec)\n",
      "INFO:tensorflow:global_step/sec: 611.227\n",
      "INFO:tensorflow:loss = 24.074272, step = 12500 (0.160 sec)\n",
      "INFO:tensorflow:global_step/sec: 596.139\n",
      "INFO:tensorflow:loss = 45.013268, step = 12600 (0.168 sec)\n",
      "INFO:tensorflow:global_step/sec: 665.173\n",
      "INFO:tensorflow:loss = 39.033295, step = 12700 (0.150 sec)\n",
      "INFO:tensorflow:global_step/sec: 607.261\n",
      "INFO:tensorflow:loss = 59.205704, step = 12800 (0.169 sec)\n",
      "INFO:tensorflow:global_step/sec: 616.703\n",
      "INFO:tensorflow:loss = 52.58638, step = 12900 (0.163 sec)\n",
      "INFO:tensorflow:global_step/sec: 644.343\n",
      "INFO:tensorflow:loss = 30.39478, step = 13000 (0.153 sec)\n",
      "INFO:tensorflow:global_step/sec: 637.269\n",
      "INFO:tensorflow:loss = 40.007362, step = 13100 (0.154 sec)\n",
      "INFO:tensorflow:global_step/sec: 549.917\n",
      "INFO:tensorflow:loss = 37.300533, step = 13200 (0.190 sec)\n",
      "INFO:tensorflow:global_step/sec: 701.033\n",
      "INFO:tensorflow:loss = 40.91543, step = 13300 (0.140 sec)\n",
      "INFO:tensorflow:global_step/sec: 627.472\n",
      "INFO:tensorflow:loss = 48.06891, step = 13400 (0.153 sec)\n",
      "INFO:tensorflow:global_step/sec: 625.911\n",
      "INFO:tensorflow:loss = 89.84866, step = 13500 (0.160 sec)\n",
      "INFO:tensorflow:global_step/sec: 667.646\n",
      "INFO:tensorflow:loss = 57.694042, step = 13600 (0.158 sec)\n",
      "INFO:tensorflow:global_step/sec: 675.471\n",
      "INFO:tensorflow:loss = 28.234535, step = 13700 (0.147 sec)\n",
      "INFO:tensorflow:global_step/sec: 637.794\n",
      "INFO:tensorflow:loss = 40.05701, step = 13800 (0.155 sec)\n",
      "INFO:tensorflow:global_step/sec: 551.25\n",
      "INFO:tensorflow:loss = 41.86461, step = 13900 (0.185 sec)\n",
      "INFO:tensorflow:global_step/sec: 658.706\n",
      "INFO:tensorflow:loss = 50.372017, step = 14000 (0.150 sec)\n",
      "INFO:tensorflow:global_step/sec: 709.936\n",
      "INFO:tensorflow:loss = 26.894691, step = 14100 (0.138 sec)\n",
      "INFO:tensorflow:global_step/sec: 640.977\n",
      "INFO:tensorflow:loss = 29.080532, step = 14200 (0.152 sec)\n",
      "INFO:tensorflow:global_step/sec: 675.622\n",
      "INFO:tensorflow:loss = 33.487995, step = 14300 (0.153 sec)\n",
      "INFO:tensorflow:global_step/sec: 600.62\n",
      "INFO:tensorflow:loss = 53.279205, step = 14400 (0.161 sec)\n",
      "INFO:tensorflow:global_step/sec: 551.868\n",
      "INFO:tensorflow:loss = 29.825901, step = 14500 (0.187 sec)\n",
      "INFO:tensorflow:global_step/sec: 554.909\n",
      "INFO:tensorflow:loss = 28.402351, step = 14600 (0.175 sec)\n",
      "INFO:tensorflow:global_step/sec: 582.532\n",
      "INFO:tensorflow:loss = 15.699291, step = 14700 (0.172 sec)\n",
      "INFO:tensorflow:global_step/sec: 718.927\n",
      "INFO:tensorflow:loss = 19.070618, step = 14800 (0.146 sec)\n",
      "INFO:tensorflow:global_step/sec: 628.419\n",
      "INFO:tensorflow:loss = 40.6641, step = 14900 (0.158 sec)\n",
      "INFO:tensorflow:global_step/sec: 593.192\n",
      "INFO:tensorflow:loss = 30.429121, step = 15000 (0.169 sec)\n",
      "INFO:tensorflow:global_step/sec: 579.441\n",
      "INFO:tensorflow:loss = 19.979898, step = 15100 (0.172 sec)\n",
      "INFO:tensorflow:global_step/sec: 592.907\n",
      "INFO:tensorflow:loss = 50.35037, step = 15200 (0.167 sec)\n",
      "INFO:tensorflow:global_step/sec: 734.335\n",
      "INFO:tensorflow:loss = 40.82321, step = 15300 (0.133 sec)\n",
      "INFO:tensorflow:global_step/sec: 606.275\n",
      "INFO:tensorflow:loss = 40.165154, step = 15400 (0.167 sec)\n",
      "INFO:tensorflow:global_step/sec: 708.136\n",
      "INFO:tensorflow:loss = 45.404858, step = 15500 (0.146 sec)\n",
      "INFO:tensorflow:global_step/sec: 723.654\n",
      "INFO:tensorflow:loss = 32.987305, step = 15600 (0.138 sec)\n",
      "INFO:tensorflow:global_step/sec: 635.694\n",
      "INFO:tensorflow:loss = 43.485355, step = 15700 (0.149 sec)\n",
      "INFO:tensorflow:global_step/sec: 713.253\n",
      "INFO:tensorflow:loss = 41.026752, step = 15800 (0.149 sec)\n",
      "INFO:tensorflow:global_step/sec: 602.711\n",
      "INFO:tensorflow:loss = 55.52027, step = 15900 (0.158 sec)\n",
      "INFO:tensorflow:global_step/sec: 737.84\n",
      "INFO:tensorflow:loss = 12.000396, step = 16000 (0.140 sec)\n",
      "INFO:tensorflow:global_step/sec: 596.455\n",
      "INFO:tensorflow:loss = 15.758872, step = 16100 (0.167 sec)\n",
      "INFO:tensorflow:global_step/sec: 668.781\n",
      "INFO:tensorflow:loss = 36.292564, step = 16200 (0.149 sec)\n",
      "INFO:tensorflow:global_step/sec: 598.999\n",
      "INFO:tensorflow:loss = 21.367626, step = 16300 (0.167 sec)\n",
      "INFO:tensorflow:global_step/sec: 626.93\n",
      "INFO:tensorflow:loss = 30.504442, step = 16400 (0.160 sec)\n",
      "INFO:tensorflow:global_step/sec: 551.998\n",
      "INFO:tensorflow:loss = 13.771853, step = 16500 (0.181 sec)\n",
      "INFO:tensorflow:global_step/sec: 594.576\n",
      "INFO:tensorflow:loss = 50.506317, step = 16600 (0.168 sec)\n",
      "INFO:tensorflow:global_step/sec: 619.17\n",
      "INFO:tensorflow:loss = 27.31585, step = 16700 (0.161 sec)\n",
      "INFO:tensorflow:global_step/sec: 626.454\n",
      "INFO:tensorflow:loss = 26.246256, step = 16800 (0.160 sec)\n",
      "INFO:tensorflow:global_step/sec: 631.709\n",
      "INFO:tensorflow:loss = 29.46362, step = 16900 (0.158 sec)\n",
      "INFO:tensorflow:global_step/sec: 725.071\n",
      "INFO:tensorflow:loss = 21.706676, step = 17000 (0.139 sec)\n",
      "INFO:tensorflow:global_step/sec: 638.226\n",
      "INFO:tensorflow:loss = 12.665248, step = 17100 (0.156 sec)\n",
      "INFO:tensorflow:global_step/sec: 642.252\n",
      "INFO:tensorflow:loss = 59.97601, step = 17200 (0.158 sec)\n",
      "INFO:tensorflow:global_step/sec: 563.558\n",
      "INFO:tensorflow:loss = 55.345573, step = 17300 (0.175 sec)\n",
      "INFO:tensorflow:global_step/sec: 642.108\n",
      "INFO:tensorflow:loss = 16.025082, step = 17400 (0.156 sec)\n",
      "INFO:tensorflow:global_step/sec: 592.219\n",
      "INFO:tensorflow:loss = 77.17067, step = 17500 (0.168 sec)\n",
      "INFO:tensorflow:global_step/sec: 630.951\n",
      "INFO:tensorflow:loss = 14.789221, step = 17600 (0.159 sec)\n",
      "INFO:tensorflow:global_step/sec: 613.739\n",
      "INFO:tensorflow:loss = 15.532064, step = 17700 (0.158 sec)\n",
      "INFO:tensorflow:global_step/sec: 638.46\n",
      "INFO:tensorflow:loss = 29.129616, step = 17800 (0.163 sec)\n",
      "INFO:tensorflow:global_step/sec: 661.769\n",
      "INFO:tensorflow:loss = 22.481487, step = 17900 (0.150 sec)\n",
      "INFO:tensorflow:global_step/sec: 606.952\n",
      "INFO:tensorflow:loss = 29.042528, step = 18000 (0.160 sec)\n",
      "INFO:tensorflow:global_step/sec: 660.701\n",
      "INFO:tensorflow:loss = 26.195484, step = 18100 (0.152 sec)\n",
      "INFO:tensorflow:global_step/sec: 617.95\n",
      "INFO:tensorflow:loss = 66.347466, step = 18200 (0.162 sec)\n",
      "INFO:tensorflow:global_step/sec: 687.944\n",
      "INFO:tensorflow:loss = 10.799999, step = 18300 (0.145 sec)\n",
      "INFO:tensorflow:global_step/sec: 572.08\n",
      "INFO:tensorflow:loss = 6.832128, step = 18400 (0.175 sec)\n",
      "INFO:tensorflow:global_step/sec: 652.669\n",
      "INFO:tensorflow:loss = 19.194126, step = 18500 (0.156 sec)\n",
      "INFO:tensorflow:global_step/sec: 631.571\n",
      "INFO:tensorflow:loss = 12.502983, step = 18600 (0.160 sec)\n",
      "INFO:tensorflow:global_step/sec: 624.905\n",
      "INFO:tensorflow:loss = 69.7061, step = 18700 (0.159 sec)\n",
      "INFO:tensorflow:global_step/sec: 645.234\n",
      "INFO:tensorflow:loss = 28.421154, step = 18800 (0.155 sec)\n",
      "INFO:tensorflow:global_step/sec: 652.276\n",
      "INFO:tensorflow:loss = 20.843758, step = 18900 (0.151 sec)\n",
      "INFO:tensorflow:global_step/sec: 612.661\n",
      "INFO:tensorflow:loss = 44.782917, step = 19000 (0.166 sec)\n",
      "INFO:tensorflow:global_step/sec: 696.322\n",
      "INFO:tensorflow:loss = 8.3136835, step = 19100 (0.144 sec)\n",
      "INFO:tensorflow:global_step/sec: 707.561\n",
      "INFO:tensorflow:loss = 29.742651, step = 19200 (0.142 sec)\n",
      "INFO:tensorflow:global_step/sec: 609.536\n",
      "INFO:tensorflow:loss = 33.16121, step = 19300 (0.164 sec)\n",
      "INFO:tensorflow:global_step/sec: 647.56\n",
      "INFO:tensorflow:loss = 30.293945, step = 19400 (0.159 sec)\n",
      "INFO:tensorflow:global_step/sec: 543.392\n",
      "INFO:tensorflow:loss = 22.909977, step = 19500 (0.178 sec)\n",
      "INFO:tensorflow:global_step/sec: 738.308\n",
      "INFO:tensorflow:loss = 7.7834187, step = 19600 (0.139 sec)\n",
      "INFO:tensorflow:global_step/sec: 587.474\n",
      "INFO:tensorflow:loss = 62.412685, step = 19700 (0.169 sec)\n",
      "INFO:tensorflow:global_step/sec: 494.155\n",
      "INFO:tensorflow:loss = 7.1488447, step = 19800 (0.195 sec)\n",
      "INFO:tensorflow:global_step/sec: 719.958\n",
      "INFO:tensorflow:loss = 32.447105, step = 19900 (0.143 sec)\n",
      "INFO:tensorflow:global_step/sec: 672.331\n",
      "INFO:tensorflow:loss = 12.599854, step = 20000 (0.151 sec)\n",
      "INFO:tensorflow:global_step/sec: 573.625\n",
      "INFO:tensorflow:loss = 20.53151, step = 20100 (0.176 sec)\n",
      "INFO:tensorflow:global_step/sec: 534.982\n",
      "INFO:tensorflow:loss = 30.987267, step = 20200 (0.187 sec)\n",
      "WARNING:tensorflow:It seems that global step (tf.train.get_global_step) has not been increased. Current value (could be stable): 20241 vs previous value: 20241. You could increase the global step by passing tf.train.get_global_step() to Optimizer.apply_gradients or Optimizer.minimize.\n",
      "INFO:tensorflow:global_step/sec: 508.007\n",
      "INFO:tensorflow:loss = 9.61141, step = 20300 (0.190 sec)\n",
      "INFO:tensorflow:global_step/sec: 666.911\n",
      "INFO:tensorflow:loss = 13.885632, step = 20400 (0.150 sec)\n",
      "INFO:tensorflow:global_step/sec: 592.307\n",
      "INFO:tensorflow:loss = 32.49011, step = 20500 (0.173 sec)\n",
      "INFO:tensorflow:global_step/sec: 655.385\n",
      "INFO:tensorflow:loss = 18.934128, step = 20600 (0.148 sec)\n",
      "INFO:tensorflow:global_step/sec: 624.82\n",
      "INFO:tensorflow:loss = 33.056503, step = 20700 (0.160 sec)\n",
      "INFO:tensorflow:global_step/sec: 728.946\n",
      "INFO:tensorflow:loss = 20.397068, step = 20800 (0.142 sec)\n",
      "INFO:tensorflow:global_step/sec: 750.077\n",
      "INFO:tensorflow:loss = 27.621197, step = 20900 (0.137 sec)\n",
      "INFO:tensorflow:global_step/sec: 603.086\n",
      "INFO:tensorflow:loss = 16.727308, step = 21000 (0.166 sec)\n",
      "INFO:tensorflow:global_step/sec: 503.098\n",
      "INFO:tensorflow:loss = 8.132362, step = 21100 (0.194 sec)\n",
      "INFO:tensorflow:global_step/sec: 703.399\n",
      "INFO:tensorflow:loss = 30.604708, step = 21200 (0.145 sec)\n",
      "INFO:tensorflow:global_step/sec: 558.971\n",
      "INFO:tensorflow:loss = 9.748781, step = 21300 (0.177 sec)\n",
      "INFO:tensorflow:global_step/sec: 602.298\n",
      "INFO:tensorflow:loss = 15.085087, step = 21400 (0.165 sec)\n",
      "INFO:tensorflow:global_step/sec: 616.381\n",
      "INFO:tensorflow:loss = 37.748337, step = 21500 (0.158 sec)\n",
      "INFO:tensorflow:global_step/sec: 632.461\n",
      "INFO:tensorflow:loss = 44.295414, step = 21600 (0.161 sec)\n",
      "INFO:tensorflow:global_step/sec: 603.385\n",
      "INFO:tensorflow:loss = 16.734997, step = 21700 (0.166 sec)\n",
      "INFO:tensorflow:global_step/sec: 616.67\n",
      "INFO:tensorflow:loss = 16.135582, step = 21800 (0.168 sec)\n",
      "INFO:tensorflow:global_step/sec: 598.422\n",
      "INFO:tensorflow:loss = 22.98271, step = 21900 (0.165 sec)\n",
      "INFO:tensorflow:global_step/sec: 630.124\n",
      "INFO:tensorflow:loss = 5.0059032, step = 22000 (0.152 sec)\n",
      "INFO:tensorflow:global_step/sec: 646.924\n",
      "INFO:tensorflow:loss = 27.613811, step = 22100 (0.154 sec)\n",
      "INFO:tensorflow:global_step/sec: 666.304\n",
      "INFO:tensorflow:loss = 30.092857, step = 22200 (0.158 sec)\n",
      "INFO:tensorflow:global_step/sec: 596.71\n",
      "INFO:tensorflow:loss = 23.77987, step = 22300 (0.166 sec)\n",
      "INFO:tensorflow:global_step/sec: 738.353\n",
      "INFO:tensorflow:loss = 10.336931, step = 22400 (0.135 sec)\n",
      "INFO:tensorflow:global_step/sec: 558.288\n",
      "INFO:tensorflow:loss = 51.42087, step = 22500 (0.179 sec)\n",
      "INFO:tensorflow:global_step/sec: 653.349\n",
      "INFO:tensorflow:loss = 6.9510984, step = 22600 (0.153 sec)\n",
      "INFO:tensorflow:global_step/sec: 665.975\n",
      "INFO:tensorflow:loss = 16.084743, step = 22700 (0.151 sec)\n",
      "INFO:tensorflow:global_step/sec: 607.841\n",
      "INFO:tensorflow:loss = 15.32755, step = 22800 (0.166 sec)\n",
      "INFO:tensorflow:global_step/sec: 582.128\n",
      "INFO:tensorflow:loss = 9.801788, step = 22900 (0.168 sec)\n",
      "INFO:tensorflow:global_step/sec: 564.716\n",
      "INFO:tensorflow:loss = 8.48666, step = 23000 (0.180 sec)\n",
      "INFO:tensorflow:global_step/sec: 604.117\n",
      "INFO:tensorflow:loss = 11.585463, step = 23100 (0.166 sec)\n",
      "INFO:tensorflow:global_step/sec: 577.247\n",
      "INFO:tensorflow:loss = 14.369066, step = 23200 (0.173 sec)\n",
      "INFO:tensorflow:global_step/sec: 653.184\n",
      "INFO:tensorflow:loss = 6.451412, step = 23300 (0.154 sec)\n",
      "INFO:tensorflow:global_step/sec: 667.057\n",
      "INFO:tensorflow:loss = 28.168928, step = 23400 (0.149 sec)\n",
      "INFO:tensorflow:global_step/sec: 611.315\n",
      "INFO:tensorflow:loss = 14.491197, step = 23500 (0.161 sec)\n",
      "INFO:tensorflow:global_step/sec: 557.92\n",
      "INFO:tensorflow:loss = 4.298713, step = 23600 (0.177 sec)\n",
      "INFO:tensorflow:global_step/sec: 643.704\n",
      "INFO:tensorflow:loss = 31.001709, step = 23700 (0.155 sec)\n",
      "INFO:tensorflow:global_step/sec: 577.553\n",
      "INFO:tensorflow:loss = 21.299526, step = 23800 (0.177 sec)\n",
      "INFO:tensorflow:global_step/sec: 686.362\n",
      "INFO:tensorflow:loss = 17.28216, step = 23900 (0.142 sec)\n",
      "INFO:tensorflow:global_step/sec: 623.251\n",
      "INFO:tensorflow:loss = 23.247442, step = 24000 (0.161 sec)\n",
      "INFO:tensorflow:global_step/sec: 664.201\n",
      "INFO:tensorflow:loss = 33.142445, step = 24100 (0.151 sec)\n",
      "INFO:tensorflow:global_step/sec: 588.002\n",
      "INFO:tensorflow:loss = 45.786335, step = 24200 (0.170 sec)\n",
      "INFO:tensorflow:global_step/sec: 616.838\n",
      "INFO:tensorflow:loss = 18.273853, step = 24300 (0.162 sec)\n",
      "INFO:tensorflow:global_step/sec: 662.999\n",
      "INFO:tensorflow:loss = 31.361633, step = 24400 (0.150 sec)\n",
      "INFO:tensorflow:global_step/sec: 690.362\n",
      "INFO:tensorflow:loss = 52.270638, step = 24500 (0.145 sec)\n",
      "INFO:tensorflow:global_step/sec: 783.672\n",
      "INFO:tensorflow:loss = 25.56192, step = 24600 (0.134 sec)\n",
      "INFO:tensorflow:global_step/sec: 632.03\n",
      "INFO:tensorflow:loss = 13.957808, step = 24700 (0.153 sec)\n",
      "INFO:tensorflow:global_step/sec: 655.467\n",
      "INFO:tensorflow:loss = 13.35622, step = 24800 (0.152 sec)\n",
      "INFO:tensorflow:global_step/sec: 598.48\n",
      "INFO:tensorflow:loss = 26.609783, step = 24900 (0.172 sec)\n",
      "INFO:tensorflow:global_step/sec: 621.774\n",
      "INFO:tensorflow:loss = 26.74982, step = 25000 (0.163 sec)\n",
      "INFO:tensorflow:global_step/sec: 578.573\n",
      "INFO:tensorflow:loss = 14.887708, step = 25100 (0.175 sec)\n",
      "INFO:tensorflow:global_step/sec: 658.158\n",
      "INFO:tensorflow:loss = 6.623591, step = 25200 (0.153 sec)\n",
      "INFO:tensorflow:global_step/sec: 585.302\n",
      "INFO:tensorflow:loss = 23.553864, step = 25300 (0.164 sec)\n",
      "INFO:tensorflow:global_step/sec: 635.02\n",
      "INFO:tensorflow:loss = 9.5196495, step = 25400 (0.156 sec)\n",
      "INFO:tensorflow:global_step/sec: 641.506\n",
      "INFO:tensorflow:loss = 35.381706, step = 25500 (0.165 sec)\n",
      "INFO:tensorflow:global_step/sec: 541.971\n",
      "INFO:tensorflow:loss = 26.518295, step = 25600 (0.174 sec)\n",
      "INFO:tensorflow:global_step/sec: 668.746\n",
      "INFO:tensorflow:loss = 22.706207, step = 25700 (0.149 sec)\n",
      "INFO:tensorflow:global_step/sec: 663.225\n",
      "INFO:tensorflow:loss = 22.581274, step = 25800 (0.154 sec)\n",
      "INFO:tensorflow:global_step/sec: 598.55\n",
      "INFO:tensorflow:loss = 15.820384, step = 25900 (0.167 sec)\n",
      "INFO:tensorflow:global_step/sec: 619.379\n",
      "INFO:tensorflow:loss = 15.425472, step = 26000 (0.163 sec)\n",
      "INFO:tensorflow:global_step/sec: 632.82\n",
      "INFO:tensorflow:loss = 6.328836, step = 26100 (0.158 sec)\n",
      "INFO:tensorflow:global_step/sec: 642.727\n",
      "INFO:tensorflow:loss = 13.15998, step = 26200 (0.173 sec)\n",
      "INFO:tensorflow:global_step/sec: 612.145\n",
      "INFO:tensorflow:loss = 9.122846, step = 26300 (0.139 sec)\n",
      "INFO:tensorflow:global_step/sec: 625.747\n",
      "INFO:tensorflow:loss = 12.068245, step = 26400 (0.166 sec)\n",
      "INFO:tensorflow:global_step/sec: 658.449\n",
      "INFO:tensorflow:loss = 27.52909, step = 26500 (0.154 sec)\n",
      "INFO:tensorflow:global_step/sec: 718.827\n",
      "INFO:tensorflow:loss = 6.570895, step = 26600 (0.133 sec)\n",
      "INFO:tensorflow:global_step/sec: 681.669\n",
      "INFO:tensorflow:loss = 9.95854, step = 26700 (0.152 sec)\n",
      "INFO:tensorflow:global_step/sec: 562.028\n",
      "INFO:tensorflow:loss = 22.010036, step = 26800 (0.174 sec)\n",
      "INFO:tensorflow:global_step/sec: 610.712\n",
      "INFO:tensorflow:loss = 7.291779, step = 26900 (0.161 sec)\n",
      "INFO:tensorflow:global_step/sec: 624.663\n",
      "INFO:tensorflow:loss = 5.7683163, step = 27000 (0.160 sec)\n",
      "INFO:tensorflow:global_step/sec: 648.17\n",
      "INFO:tensorflow:loss = 12.049387, step = 27100 (0.154 sec)\n",
      "INFO:tensorflow:global_step/sec: 641.832\n",
      "INFO:tensorflow:loss = 7.193424, step = 27200 (0.156 sec)\n",
      "INFO:tensorflow:global_step/sec: 610.366\n",
      "INFO:tensorflow:loss = 4.8914447, step = 27300 (0.168 sec)\n",
      "INFO:tensorflow:global_step/sec: 724.49\n",
      "INFO:tensorflow:loss = 16.822964, step = 27400 (0.137 sec)\n",
      "INFO:tensorflow:global_step/sec: 592.382\n",
      "INFO:tensorflow:loss = 11.240215, step = 27500 (0.165 sec)\n",
      "INFO:tensorflow:global_step/sec: 544.961\n",
      "INFO:tensorflow:loss = 18.005985, step = 27600 (0.188 sec)\n",
      "INFO:tensorflow:global_step/sec: 601.342\n",
      "INFO:tensorflow:loss = 29.906694, step = 27700 (0.162 sec)\n",
      "INFO:tensorflow:global_step/sec: 620.435\n",
      "INFO:tensorflow:loss = 21.615307, step = 27800 (0.166 sec)\n",
      "INFO:tensorflow:global_step/sec: 614.377\n",
      "INFO:tensorflow:loss = 17.823032, step = 27900 (0.157 sec)\n",
      "INFO:tensorflow:global_step/sec: 693.881\n",
      "INFO:tensorflow:loss = 8.285044, step = 28000 (0.152 sec)\n",
      "INFO:tensorflow:global_step/sec: 514.927\n",
      "INFO:tensorflow:loss = 17.47859, step = 28100 (0.194 sec)\n",
      "INFO:tensorflow:global_step/sec: 587.688\n",
      "INFO:tensorflow:loss = 11.357713, step = 28200 (0.170 sec)\n",
      "INFO:tensorflow:global_step/sec: 529.054\n",
      "INFO:tensorflow:loss = 13.91518, step = 28300 (0.181 sec)\n",
      "INFO:tensorflow:global_step/sec: 676.356\n",
      "INFO:tensorflow:loss = 8.423271, step = 28400 (0.156 sec)\n",
      "INFO:tensorflow:global_step/sec: 568.662\n",
      "INFO:tensorflow:loss = 29.084225, step = 28500 (0.175 sec)\n",
      "INFO:tensorflow:global_step/sec: 599.071\n",
      "INFO:tensorflow:loss = 22.616045, step = 28600 (0.159 sec)\n",
      "INFO:tensorflow:global_step/sec: 610.953\n",
      "INFO:tensorflow:loss = 21.459452, step = 28700 (0.164 sec)\n",
      "INFO:tensorflow:global_step/sec: 652.764\n",
      "INFO:tensorflow:loss = 10.79076, step = 28800 (0.154 sec)\n",
      "INFO:tensorflow:global_step/sec: 655.681\n",
      "INFO:tensorflow:loss = 30.44039, step = 28900 (0.152 sec)\n",
      "INFO:tensorflow:global_step/sec: 674.505\n",
      "INFO:tensorflow:loss = 10.838541, step = 29000 (0.148 sec)\n",
      "INFO:tensorflow:global_step/sec: 658.363\n",
      "INFO:tensorflow:loss = 4.981223, step = 29100 (0.152 sec)\n",
      "INFO:tensorflow:global_step/sec: 629.204\n",
      "INFO:tensorflow:loss = 13.812059, step = 29200 (0.159 sec)\n",
      "INFO:tensorflow:global_step/sec: 663.193\n",
      "INFO:tensorflow:loss = 10.181955, step = 29300 (0.151 sec)\n",
      "INFO:tensorflow:global_step/sec: 617.657\n",
      "INFO:tensorflow:loss = 13.287473, step = 29400 (0.162 sec)\n",
      "INFO:tensorflow:global_step/sec: 633.944\n",
      "INFO:tensorflow:loss = 23.948109, step = 29500 (0.158 sec)\n",
      "INFO:tensorflow:global_step/sec: 636.547\n",
      "INFO:tensorflow:loss = 10.591476, step = 29600 (0.163 sec)\n",
      "INFO:tensorflow:global_step/sec: 629.805\n",
      "INFO:tensorflow:loss = 30.542988, step = 29700 (0.155 sec)\n",
      "INFO:tensorflow:global_step/sec: 638.084\n",
      "INFO:tensorflow:loss = 43.306667, step = 29800 (0.154 sec)\n",
      "INFO:tensorflow:global_step/sec: 631.1\n",
      "INFO:tensorflow:loss = 19.82172, step = 29900 (0.162 sec)\n",
      "INFO:tensorflow:global_step/sec: 665.567\n",
      "INFO:tensorflow:loss = 8.3253975, step = 30000 (0.153 sec)\n",
      "INFO:tensorflow:global_step/sec: 597.799\n",
      "INFO:tensorflow:loss = 7.9788723, step = 30100 (0.168 sec)\n",
      "INFO:tensorflow:global_step/sec: 611.43\n",
      "INFO:tensorflow:loss = 4.7699566, step = 30200 (0.164 sec)\n",
      "INFO:tensorflow:global_step/sec: 640.964\n",
      "INFO:tensorflow:loss = 15.299582, step = 30300 (0.156 sec)\n",
      "INFO:tensorflow:global_step/sec: 674.856\n",
      "INFO:tensorflow:loss = 3.59102, step = 30400 (0.147 sec)\n",
      "INFO:tensorflow:global_step/sec: 611.338\n",
      "INFO:tensorflow:loss = 5.9905634, step = 30500 (0.163 sec)\n",
      "INFO:tensorflow:global_step/sec: 646.979\n",
      "INFO:tensorflow:loss = 10.411325, step = 30600 (0.156 sec)\n",
      "INFO:tensorflow:global_step/sec: 652.091\n",
      "INFO:tensorflow:loss = 15.809015, step = 30700 (0.148 sec)\n",
      "INFO:tensorflow:global_step/sec: 632.552\n",
      "INFO:tensorflow:loss = 26.82695, step = 30800 (0.159 sec)\n",
      "INFO:tensorflow:global_step/sec: 644.694\n",
      "INFO:tensorflow:loss = 6.7945166, step = 30900 (0.154 sec)\n",
      "INFO:tensorflow:global_step/sec: 637.097\n",
      "INFO:tensorflow:loss = 11.52301, step = 31000 (0.157 sec)\n",
      "INFO:tensorflow:global_step/sec: 637.123\n",
      "INFO:tensorflow:loss = 22.682821, step = 31100 (0.157 sec)\n",
      "INFO:tensorflow:global_step/sec: 602.961\n",
      "INFO:tensorflow:loss = 14.347185, step = 31200 (0.171 sec)\n",
      "INFO:tensorflow:global_step/sec: 611.081\n",
      "INFO:tensorflow:loss = 15.677479, step = 31300 (0.163 sec)\n",
      "INFO:tensorflow:global_step/sec: 575.888\n",
      "INFO:tensorflow:loss = 17.144966, step = 31400 (0.175 sec)\n",
      "INFO:tensorflow:global_step/sec: 617.664\n",
      "INFO:tensorflow:loss = 39.371048, step = 31500 (0.161 sec)\n",
      "INFO:tensorflow:global_step/sec: 652.594\n",
      "INFO:tensorflow:loss = 3.8048172, step = 31600 (0.154 sec)\n",
      "INFO:tensorflow:global_step/sec: 603.574\n",
      "INFO:tensorflow:loss = 26.914862, step = 31700 (0.165 sec)\n",
      "INFO:tensorflow:global_step/sec: 615.152\n",
      "INFO:tensorflow:loss = 2.1825333, step = 31800 (0.163 sec)\n",
      "INFO:tensorflow:global_step/sec: 600.477\n",
      "INFO:tensorflow:loss = 40.233963, step = 31900 (0.167 sec)\n",
      "INFO:tensorflow:global_step/sec: 571.387\n",
      "INFO:tensorflow:loss = 6.2050185, step = 32000 (0.174 sec)\n",
      "INFO:tensorflow:global_step/sec: 597.454\n",
      "INFO:tensorflow:loss = 3.4447417, step = 32100 (0.163 sec)\n",
      "INFO:tensorflow:global_step/sec: 609.356\n",
      "INFO:tensorflow:loss = 26.476772, step = 32200 (0.169 sec)\n",
      "INFO:tensorflow:global_step/sec: 608.926\n",
      "INFO:tensorflow:loss = 14.863302, step = 32300 (0.162 sec)\n",
      "INFO:tensorflow:global_step/sec: 636.297\n",
      "INFO:tensorflow:loss = 11.573138, step = 32400 (0.155 sec)\n",
      "INFO:tensorflow:global_step/sec: 637.821\n",
      "INFO:tensorflow:loss = 11.082176, step = 32500 (0.159 sec)\n",
      "INFO:tensorflow:global_step/sec: 678.021\n",
      "INFO:tensorflow:loss = 24.363964, step = 32600 (0.153 sec)\n",
      "INFO:tensorflow:global_step/sec: 577.116\n",
      "INFO:tensorflow:loss = 3.4118476, step = 32700 (0.173 sec)\n",
      "INFO:tensorflow:global_step/sec: 588.593\n",
      "INFO:tensorflow:loss = 30.039959, step = 32800 (0.170 sec)\n",
      "INFO:tensorflow:global_step/sec: 589.327\n",
      "INFO:tensorflow:loss = 7.5225, step = 32900 (0.170 sec)\n",
      "INFO:tensorflow:global_step/sec: 590.107\n",
      "INFO:tensorflow:loss = 4.462796, step = 33000 (0.170 sec)\n",
      "INFO:tensorflow:global_step/sec: 554.487\n",
      "INFO:tensorflow:loss = 9.761375, step = 33100 (0.181 sec)\n",
      "INFO:tensorflow:global_step/sec: 606.72\n",
      "INFO:tensorflow:loss = 12.316101, step = 33200 (0.169 sec)\n",
      "INFO:tensorflow:global_step/sec: 585.211\n",
      "INFO:tensorflow:loss = 9.023913, step = 33300 (0.165 sec)\n",
      "INFO:tensorflow:global_step/sec: 594.632\n",
      "INFO:tensorflow:loss = 10.505576, step = 33400 (0.168 sec)\n",
      "INFO:tensorflow:global_step/sec: 595.412\n",
      "INFO:tensorflow:loss = 11.451535, step = 33500 (0.169 sec)\n",
      "INFO:tensorflow:global_step/sec: 510.78\n",
      "INFO:tensorflow:loss = 14.836197, step = 33600 (0.195 sec)\n",
      "INFO:tensorflow:global_step/sec: 607.528\n",
      "INFO:tensorflow:loss = 4.410492, step = 33700 (0.164 sec)\n",
      "INFO:tensorflow:global_step/sec: 621.371\n",
      "INFO:tensorflow:loss = 9.332091, step = 33800 (0.162 sec)\n",
      "INFO:tensorflow:global_step/sec: 614.23\n",
      "INFO:tensorflow:loss = 18.633121, step = 33900 (0.156 sec)\n",
      "INFO:tensorflow:global_step/sec: 558.501\n",
      "INFO:tensorflow:loss = 33.718475, step = 34000 (0.180 sec)\n",
      "INFO:tensorflow:global_step/sec: 671.682\n",
      "INFO:tensorflow:loss = 9.036364, step = 34100 (0.148 sec)\n",
      "INFO:tensorflow:global_step/sec: 634.958\n",
      "INFO:tensorflow:loss = 10.338202, step = 34200 (0.164 sec)\n",
      "INFO:tensorflow:global_step/sec: 576.467\n",
      "INFO:tensorflow:loss = 10.700101, step = 34300 (0.175 sec)\n",
      "INFO:tensorflow:global_step/sec: 589.574\n",
      "INFO:tensorflow:loss = 19.416786, step = 34400 (0.170 sec)\n",
      "INFO:tensorflow:global_step/sec: 537.419\n",
      "INFO:tensorflow:loss = 10.632229, step = 34500 (0.184 sec)\n",
      "INFO:tensorflow:global_step/sec: 592.304\n",
      "INFO:tensorflow:loss = 11.293074, step = 34600 (0.170 sec)\n",
      "INFO:tensorflow:global_step/sec: 570.528\n",
      "INFO:tensorflow:loss = 29.280758, step = 34700 (0.168 sec)\n",
      "INFO:tensorflow:global_step/sec: 576.442\n",
      "INFO:tensorflow:loss = 10.931204, step = 34800 (0.173 sec)\n",
      "INFO:tensorflow:global_step/sec: 626.142\n",
      "INFO:tensorflow:loss = 10.521629, step = 34900 (0.160 sec)\n",
      "INFO:tensorflow:global_step/sec: 642.753\n",
      "INFO:tensorflow:loss = 12.697445, step = 35000 (0.156 sec)\n",
      "INFO:tensorflow:global_step/sec: 582.116\n",
      "INFO:tensorflow:loss = 18.80766, step = 35100 (0.172 sec)\n",
      "INFO:tensorflow:global_step/sec: 646.586\n",
      "INFO:tensorflow:loss = 18.938293, step = 35200 (0.155 sec)\n",
      "INFO:tensorflow:global_step/sec: 636.522\n",
      "INFO:tensorflow:loss = 9.140474, step = 35300 (0.157 sec)\n",
      "INFO:tensorflow:global_step/sec: 656.258\n",
      "INFO:tensorflow:loss = 5.0281215, step = 35400 (0.152 sec)\n",
      "INFO:tensorflow:global_step/sec: 644.066\n",
      "INFO:tensorflow:loss = 27.921911, step = 35500 (0.164 sec)\n",
      "INFO:tensorflow:global_step/sec: 467.804\n",
      "INFO:tensorflow:loss = 7.6062136, step = 35600 (0.210 sec)\n",
      "INFO:tensorflow:global_step/sec: 606.666\n",
      "INFO:tensorflow:loss = 20.06919, step = 35700 (0.160 sec)\n",
      "INFO:tensorflow:global_step/sec: 644.292\n",
      "INFO:tensorflow:loss = 6.3981514, step = 35800 (0.155 sec)\n",
      "INFO:tensorflow:global_step/sec: 714.636\n",
      "INFO:tensorflow:loss = 17.004452, step = 35900 (0.140 sec)\n",
      "INFO:tensorflow:global_step/sec: 670.132\n",
      "INFO:tensorflow:loss = 19.434418, step = 36000 (0.153 sec)\n",
      "INFO:tensorflow:global_step/sec: 519.453\n",
      "INFO:tensorflow:loss = 10.642099, step = 36100 (0.189 sec)\n",
      "INFO:tensorflow:global_step/sec: 635.059\n",
      "INFO:tensorflow:loss = 19.690664, step = 36200 (0.161 sec)\n",
      "INFO:tensorflow:global_step/sec: 578.462\n",
      "INFO:tensorflow:loss = 17.215988, step = 36300 (0.173 sec)\n",
      "INFO:tensorflow:global_step/sec: 620.727\n",
      "INFO:tensorflow:loss = 5.5184536, step = 36400 (0.163 sec)\n",
      "INFO:tensorflow:global_step/sec: 528.004\n",
      "INFO:tensorflow:loss = 25.57906, step = 36500 (0.189 sec)\n",
      "INFO:tensorflow:global_step/sec: 573.339\n",
      "INFO:tensorflow:loss = 8.01394, step = 36600 (0.177 sec)\n",
      "INFO:tensorflow:global_step/sec: 656.321\n",
      "INFO:tensorflow:loss = 4.2957726, step = 36700 (0.150 sec)\n",
      "INFO:tensorflow:global_step/sec: 617.38\n",
      "INFO:tensorflow:loss = 10.831184, step = 36800 (0.162 sec)\n",
      "INFO:tensorflow:global_step/sec: 522.15\n",
      "INFO:tensorflow:loss = 33.519146, step = 36900 (0.193 sec)\n",
      "INFO:tensorflow:global_step/sec: 695.933\n",
      "INFO:tensorflow:loss = 11.274862, step = 37000 (0.145 sec)\n",
      "INFO:tensorflow:global_step/sec: 567.196\n",
      "INFO:tensorflow:loss = 9.344334, step = 37100 (0.169 sec)\n",
      "INFO:tensorflow:global_step/sec: 660.896\n",
      "INFO:tensorflow:loss = 18.10641, step = 37200 (0.159 sec)\n",
      "INFO:tensorflow:global_step/sec: 573.553\n",
      "INFO:tensorflow:loss = 10.554738, step = 37300 (0.183 sec)\n",
      "INFO:tensorflow:global_step/sec: 584.025\n",
      "INFO:tensorflow:loss = 32.876762, step = 37400 (0.164 sec)\n",
      "INFO:tensorflow:global_step/sec: 587.688\n",
      "INFO:tensorflow:loss = 10.770575, step = 37500 (0.176 sec)\n",
      "INFO:tensorflow:global_step/sec: 567.592\n",
      "INFO:tensorflow:loss = 22.403667, step = 37600 (0.164 sec)\n",
      "INFO:tensorflow:global_step/sec: 662.841\n",
      "INFO:tensorflow:loss = 16.133944, step = 37700 (0.153 sec)\n",
      "INFO:tensorflow:global_step/sec: 601.873\n",
      "INFO:tensorflow:loss = 15.132257, step = 37800 (0.162 sec)\n",
      "INFO:tensorflow:global_step/sec: 648.429\n",
      "INFO:tensorflow:loss = 13.9779625, step = 37900 (0.154 sec)\n",
      "INFO:tensorflow:global_step/sec: 638.121\n",
      "INFO:tensorflow:loss = 7.880978, step = 38000 (0.157 sec)\n",
      "INFO:tensorflow:global_step/sec: 643.184\n",
      "INFO:tensorflow:loss = 4.9596863, step = 38100 (0.155 sec)\n",
      "INFO:tensorflow:global_step/sec: 616.235\n",
      "INFO:tensorflow:loss = 26.341269, step = 38200 (0.163 sec)\n",
      "INFO:tensorflow:global_step/sec: 629.468\n",
      "INFO:tensorflow:loss = 7.2534184, step = 38300 (0.160 sec)\n",
      "INFO:tensorflow:global_step/sec: 623.616\n",
      "INFO:tensorflow:loss = 9.96118, step = 38400 (0.159 sec)\n",
      "INFO:tensorflow:global_step/sec: 642.237\n",
      "INFO:tensorflow:loss = 9.112307, step = 38500 (0.156 sec)\n",
      "INFO:tensorflow:global_step/sec: 641.845\n",
      "INFO:tensorflow:loss = 6.1822104, step = 38600 (0.156 sec)\n",
      "INFO:tensorflow:global_step/sec: 647.734\n",
      "INFO:tensorflow:loss = 5.178202, step = 38700 (0.154 sec)\n",
      "INFO:tensorflow:global_step/sec: 692.569\n",
      "INFO:tensorflow:loss = 3.5028114, step = 38800 (0.151 sec)\n",
      "INFO:tensorflow:global_step/sec: 581.755\n",
      "INFO:tensorflow:loss = 22.909693, step = 38900 (0.165 sec)\n",
      "INFO:tensorflow:global_step/sec: 655.613\n",
      "INFO:tensorflow:loss = 43.34028, step = 39000 (0.153 sec)\n",
      "INFO:tensorflow:global_step/sec: 645.687\n",
      "INFO:tensorflow:loss = 22.396202, step = 39100 (0.155 sec)\n",
      "INFO:tensorflow:global_step/sec: 651.819\n",
      "INFO:tensorflow:loss = 10.322207, step = 39200 (0.159 sec)\n",
      "INFO:tensorflow:global_step/sec: 590.979\n",
      "INFO:tensorflow:loss = 12.919868, step = 39300 (0.163 sec)\n",
      "INFO:tensorflow:global_step/sec: 579.815\n",
      "INFO:tensorflow:loss = 2.8090646, step = 39400 (0.179 sec)\n",
      "INFO:tensorflow:global_step/sec: 553.27\n",
      "INFO:tensorflow:loss = 4.753768, step = 39500 (0.180 sec)\n",
      "INFO:tensorflow:global_step/sec: 576.592\n",
      "INFO:tensorflow:loss = 17.17072, step = 39600 (0.172 sec)\n",
      "INFO:tensorflow:global_step/sec: 613.025\n",
      "INFO:tensorflow:loss = 11.610214, step = 39700 (0.158 sec)\n",
      "INFO:tensorflow:global_step/sec: 567.203\n",
      "INFO:tensorflow:loss = 10.908457, step = 39800 (0.184 sec)\n",
      "INFO:tensorflow:global_step/sec: 638.789\n",
      "INFO:tensorflow:loss = 13.123747, step = 39900 (0.157 sec)\n",
      "INFO:tensorflow:Calling checkpoint listeners before saving checkpoint 40000...\n",
      "INFO:tensorflow:Saving checkpoints for 40000 into models/autompg-dnnregressor/model.ckpt.\n",
      "INFO:tensorflow:Calling checkpoint listeners after saving checkpoint 40000...\n",
      "INFO:tensorflow:Loss for final step: 1.422007.\n"
     ]
    },
    {
     "data": {
      "text/plain": [
       "<tensorflow_estimator.python.estimator.canned.dnn.DNNRegressorV2 at 0x7f2ec56c9210>"
      ]
     },
     "execution_count": 24,
     "metadata": {},
     "output_type": "execute_result"
    }
   ],
   "source": [
    "epochs = 1000\n",
    "batch_size = 8\n",
    "total_steps = epochs * int(np.ceil(len(df_train)/batch_size))\n",
    "regressor.train(input_fn=lambda:train_input_fn(df_train_norm, batch_size=batch_size), steps=total_steps)"
   ]
  },
  {
   "cell_type": "code",
   "execution_count": 25,
   "metadata": {
    "colab": {
     "base_uri": "https://localhost:8080/"
    },
    "id": "XZNRoTw6jvnl",
    "outputId": "59299e5f-f83a-4474-ab1f-350cd0dd085e"
   },
   "outputs": [
    {
     "name": "stdout",
     "output_type": "stream",
     "text": [
      "INFO:tensorflow:Using default config.\n",
      "INFO:tensorflow:Using config: {'_model_dir': 'models/autompg-dnnregressor/', '_tf_random_seed': None, '_save_summary_steps': 100, '_save_checkpoints_steps': None, '_save_checkpoints_secs': 600, '_session_config': allow_soft_placement: true\n",
      "graph_options {\n",
      "  rewrite_options {\n",
      "    meta_optimizer_iterations: ONE\n",
      "  }\n",
      "}\n",
      ", '_keep_checkpoint_max': 5, '_keep_checkpoint_every_n_hours': 10000, '_log_step_count_steps': 100, '_train_distribute': None, '_device_fn': None, '_protocol': None, '_eval_distribute': None, '_experimental_distribute': None, '_experimental_max_worker_delay_secs': None, '_session_creation_timeout_secs': 7200, '_checkpoint_save_graph_def': True, '_service': None, '_cluster_spec': ClusterSpec({}), '_task_type': 'worker', '_task_id': 0, '_global_id_in_cluster': 0, '_master': '', '_evaluation_master': '', '_is_chief': True, '_num_ps_replicas': 0, '_num_worker_replicas': 1}\n"
     ]
    }
   ],
   "source": [
    "#측정기는 자동으로 체크포인트를 만들어 model dir에 저장함. 이를 load할 수도 있음\n",
    "reloaded_regressor = tf.estimator.DNNRegressor(feature_columns=all_feature_columns, hidden_units=[32,10], warm_start_from='models/autompg-dnnregressor/', model_dir='models/autompg-dnnregressor/')"
   ]
  },
  {
   "cell_type": "code",
   "execution_count": 29,
   "metadata": {
    "colab": {
     "base_uri": "https://localhost:8080/"
    },
    "id": "inyflFSPkRBz",
    "outputId": "9df22cf9-6374-481f-fc65-5500cd6f623f"
   },
   "outputs": [
    {
     "name": "stdout",
     "output_type": "stream",
     "text": [
      "INFO:tensorflow:Calling model_fn.\n",
      "INFO:tensorflow:Done calling model_fn.\n",
      "INFO:tensorflow:Starting evaluation at 2022-04-30T08:25:04\n",
      "INFO:tensorflow:Graph was finalized.\n",
      "INFO:tensorflow:Restoring parameters from models/autompg-dnnregressor/model.ckpt-40000\n",
      "INFO:tensorflow:Running local_init_op.\n",
      "INFO:tensorflow:Done running local_init_op.\n",
      "INFO:tensorflow:Inference Time : 1.48056s\n",
      "INFO:tensorflow:Finished evaluation at 2022-04-30-08:25:05\n",
      "INFO:tensorflow:Saving dict for global step 40000: average_loss = 17.54741, global_step = 40000, label/mean = 23.862026, loss = 17.594727, prediction/mean = 23.969452\n",
      "INFO:tensorflow:Saving 'checkpoint_path' summary for global step 40000: models/autompg-dnnregressor/model.ckpt-40000\n",
      "average loss 17.5474\n"
     ]
    }
   ],
   "source": [
    "eval_results = reloaded_regressor.evaluate(input_fn=lambda:eval_input_fn(df_test_norm, batch_size=8))\n",
    "print('average loss {:.4f}'.format(eval_results['average_loss']))"
   ]
  },
  {
   "cell_type": "code",
   "execution_count": 30,
   "metadata": {
    "id": "dmcaj_wLklzZ"
   },
   "outputs": [],
   "source": [
    "#predict를 실전에서 사용할 땐 입력 함수가 특성만 들어 있는 데이터셋을 반환함. 새 데이터의 레이블은 구할 수 없다고 가정하기 때문"
   ]
  },
  {
   "cell_type": "code",
   "execution_count": 32,
   "metadata": {
    "colab": {
     "base_uri": "https://localhost:8080/"
    },
    "id": "PTDsO6l2lJ3U",
    "outputId": "26c59268-ea15-44ac-f1e9-b41453be1065"
   },
   "outputs": [
    {
     "name": "stdout",
     "output_type": "stream",
     "text": [
      "INFO:tensorflow:Using default config.\n",
      "WARNING:tensorflow:Using temporary folder as model directory: /tmp/tmpx75pba2i\n",
      "INFO:tensorflow:Using config: {'_model_dir': '/tmp/tmpx75pba2i', '_tf_random_seed': None, '_save_summary_steps': 100, '_save_checkpoints_steps': None, '_save_checkpoints_secs': 600, '_session_config': allow_soft_placement: true\n",
      "graph_options {\n",
      "  rewrite_options {\n",
      "    meta_optimizer_iterations: ONE\n",
      "  }\n",
      "}\n",
      ", '_keep_checkpoint_max': 5, '_keep_checkpoint_every_n_hours': 10000, '_log_step_count_steps': 100, '_train_distribute': None, '_device_fn': None, '_protocol': None, '_eval_distribute': None, '_experimental_distribute': None, '_experimental_max_worker_delay_secs': None, '_session_creation_timeout_secs': 7200, '_checkpoint_save_graph_def': True, '_service': None, '_cluster_spec': ClusterSpec({}), '_task_type': 'worker', '_task_id': 0, '_global_id_in_cluster': 0, '_master': '', '_evaluation_master': '', '_is_chief': True, '_num_ps_replicas': 0, '_num_worker_replicas': 1}\n",
      "WARNING:tensorflow:From /usr/local/lib/python3.7/dist-packages/tensorflow_estimator/python/estimator/canned/boosted_trees.py:398: VocabularyListCategoricalColumn._num_buckets (from tensorflow.python.feature_column.feature_column_v2) is deprecated and will be removed in a future version.\n",
      "Instructions for updating:\n",
      "The old _FeatureColumn APIs are being deprecated. Please use the new FeatureColumn APIs instead.\n",
      "INFO:tensorflow:Calling model_fn.\n",
      "INFO:tensorflow:Done calling model_fn.\n",
      "INFO:tensorflow:Create CheckpointSaverHook.\n",
      "WARNING:tensorflow:Issue encountered when serializing resources.\n",
      "Type is unsupported, or the types of the items don't match field type in CollectionDef. Note this is a warning and probably safe to ignore.\n",
      "'_Resource' object has no attribute 'name'\n",
      "INFO:tensorflow:Graph was finalized.\n",
      "INFO:tensorflow:Running local_init_op.\n",
      "INFO:tensorflow:Done running local_init_op.\n",
      "WARNING:tensorflow:Issue encountered when serializing resources.\n",
      "Type is unsupported, or the types of the items don't match field type in CollectionDef. Note this is a warning and probably safe to ignore.\n",
      "'_Resource' object has no attribute 'name'\n",
      "INFO:tensorflow:Calling checkpoint listeners before saving checkpoint 0...\n",
      "INFO:tensorflow:Saving checkpoints for 0 into /tmp/tmpx75pba2i/model.ckpt.\n",
      "WARNING:tensorflow:Issue encountered when serializing resources.\n",
      "Type is unsupported, or the types of the items don't match field type in CollectionDef. Note this is a warning and probably safe to ignore.\n",
      "'_Resource' object has no attribute 'name'\n",
      "INFO:tensorflow:Calling checkpoint listeners after saving checkpoint 0...\n",
      "INFO:tensorflow:loss = 675.48254, step = 0\n",
      "INFO:tensorflow:loss = 384.77884, step = 80 (0.738 sec)\n",
      "INFO:tensorflow:global_step/sec: 95.9408\n",
      "INFO:tensorflow:loss = 86.03501, step = 180 (0.499 sec)\n",
      "INFO:tensorflow:global_step/sec: 416.759\n",
      "INFO:tensorflow:loss = 37.14876, step = 280 (0.226 sec)\n",
      "INFO:tensorflow:global_step/sec: 424.263\n",
      "INFO:tensorflow:loss = 7.452036, step = 380 (0.253 sec)\n",
      "INFO:tensorflow:global_step/sec: 407.846\n",
      "INFO:tensorflow:loss = 1.6335008, step = 480 (0.252 sec)\n",
      "INFO:tensorflow:global_step/sec: 377.254\n",
      "INFO:tensorflow:loss = 4.275105, step = 580 (0.280 sec)\n",
      "INFO:tensorflow:global_step/sec: 338.331\n",
      "INFO:tensorflow:loss = 3.1507237, step = 680 (0.275 sec)\n",
      "INFO:tensorflow:global_step/sec: 381.436\n",
      "INFO:tensorflow:loss = 5.8329854, step = 780 (0.283 sec)\n",
      "INFO:tensorflow:global_step/sec: 373.563\n",
      "INFO:tensorflow:loss = 2.3027449, step = 880 (0.230 sec)\n",
      "INFO:tensorflow:global_step/sec: 405.493\n",
      "INFO:tensorflow:loss = 1.6058953, step = 980 (0.315 sec)\n",
      "INFO:tensorflow:global_step/sec: 306.549\n",
      "INFO:tensorflow:loss = 1.5217038, step = 1080 (0.312 sec)\n",
      "INFO:tensorflow:global_step/sec: 349.176\n",
      "INFO:tensorflow:loss = 1.4756367, step = 1180 (0.248 sec)\n",
      "INFO:tensorflow:global_step/sec: 368.923\n",
      "INFO:tensorflow:loss = 1.1915748, step = 1280 (0.249 sec)\n",
      "INFO:tensorflow:global_step/sec: 434.322\n",
      "INFO:tensorflow:loss = 1.9967338, step = 1380 (0.219 sec)\n",
      "INFO:tensorflow:global_step/sec: 435.865\n",
      "INFO:tensorflow:loss = 1.6385202, step = 1480 (0.269 sec)\n",
      "INFO:tensorflow:global_step/sec: 373.368\n",
      "INFO:tensorflow:loss = 1.4044944, step = 1580 (0.276 sec)\n",
      "INFO:tensorflow:global_step/sec: 372.467\n",
      "INFO:tensorflow:loss = 0.957459, step = 1680 (0.284 sec)\n",
      "INFO:tensorflow:global_step/sec: 335.429\n",
      "INFO:tensorflow:loss = 2.5628371, step = 1780 (0.332 sec)\n",
      "INFO:tensorflow:global_step/sec: 309.591\n",
      "INFO:tensorflow:loss = 1.628443, step = 1880 (0.262 sec)\n",
      "INFO:tensorflow:global_step/sec: 406.975\n",
      "INFO:tensorflow:loss = 0.56485397, step = 1980 (0.216 sec)\n",
      "INFO:tensorflow:global_step/sec: 445.155\n",
      "INFO:tensorflow:loss = 1.7262982, step = 2080 (0.257 sec)\n",
      "INFO:tensorflow:global_step/sec: 389.649\n",
      "INFO:tensorflow:loss = 1.2453841, step = 2180 (0.235 sec)\n",
      "INFO:tensorflow:global_step/sec: 423.917\n",
      "INFO:tensorflow:loss = 0.46448326, step = 2280 (0.306 sec)\n",
      "INFO:tensorflow:global_step/sec: 331.867\n",
      "INFO:tensorflow:loss = 0.9465096, step = 2380 (0.231 sec)\n",
      "INFO:tensorflow:global_step/sec: 402.893\n",
      "INFO:tensorflow:loss = 0.8191366, step = 2480 (0.238 sec)\n",
      "INFO:tensorflow:global_step/sec: 414.771\n",
      "INFO:tensorflow:loss = 0.53528816, step = 2580 (0.271 sec)\n",
      "INFO:tensorflow:global_step/sec: 396.446\n",
      "INFO:tensorflow:loss = 1.1693518, step = 2680 (0.261 sec)\n",
      "INFO:tensorflow:global_step/sec: 379.893\n",
      "INFO:tensorflow:loss = 1.677197, step = 2780 (0.265 sec)\n",
      "INFO:tensorflow:global_step/sec: 365.425\n",
      "INFO:tensorflow:loss = 1.1591604, step = 2880 (0.269 sec)\n",
      "INFO:tensorflow:global_step/sec: 365.241\n",
      "INFO:tensorflow:loss = 0.089509755, step = 2980 (0.254 sec)\n",
      "INFO:tensorflow:global_step/sec: 393.506\n",
      "INFO:tensorflow:loss = 0.78630793, step = 3080 (0.287 sec)\n",
      "INFO:tensorflow:global_step/sec: 356.11\n",
      "INFO:tensorflow:loss = 0.7223948, step = 3180 (0.304 sec)\n",
      "INFO:tensorflow:global_step/sec: 332.482\n",
      "INFO:tensorflow:loss = 0.82033324, step = 3280 (0.299 sec)\n",
      "INFO:tensorflow:global_step/sec: 324.135\n",
      "INFO:tensorflow:loss = 0.40070623, step = 3380 (0.350 sec)\n",
      "INFO:tensorflow:global_step/sec: 301.087\n",
      "INFO:tensorflow:loss = 0.28398964, step = 3480 (0.251 sec)\n",
      "INFO:tensorflow:global_step/sec: 394.568\n",
      "INFO:tensorflow:loss = 0.12041311, step = 3580 (0.258 sec)\n",
      "INFO:tensorflow:global_step/sec: 354.467\n",
      "INFO:tensorflow:loss = 2.2994914, step = 3680 (0.296 sec)\n",
      "INFO:tensorflow:global_step/sec: 311.218\n",
      "INFO:tensorflow:loss = 0.42845908, step = 3780 (0.369 sec)\n",
      "INFO:tensorflow:global_step/sec: 308.184\n",
      "INFO:tensorflow:loss = 0.24779223, step = 3880 (0.319 sec)\n",
      "INFO:tensorflow:global_step/sec: 312.563\n",
      "INFO:tensorflow:loss = 0.36006385, step = 3980 (0.328 sec)\n",
      "INFO:tensorflow:global_step/sec: 306.989\n",
      "INFO:tensorflow:loss = 0.36710224, step = 4080 (0.300 sec)\n",
      "INFO:tensorflow:global_step/sec: 306.242\n",
      "INFO:tensorflow:loss = 0.2909148, step = 4180 (0.378 sec)\n",
      "INFO:tensorflow:global_step/sec: 285.654\n",
      "INFO:tensorflow:loss = 0.27677545, step = 4280 (0.262 sec)\n",
      "INFO:tensorflow:global_step/sec: 358.963\n",
      "INFO:tensorflow:loss = 0.30155298, step = 4380 (0.293 sec)\n",
      "INFO:tensorflow:global_step/sec: 376.528\n",
      "INFO:tensorflow:loss = 1.1942496, step = 4480 (0.247 sec)\n",
      "INFO:tensorflow:global_step/sec: 385.387\n",
      "INFO:tensorflow:loss = 0.47594464, step = 4580 (0.270 sec)\n",
      "INFO:tensorflow:global_step/sec: 340.619\n",
      "INFO:tensorflow:loss = 0.17600557, step = 4680 (0.336 sec)\n",
      "INFO:tensorflow:global_step/sec: 300.611\n",
      "INFO:tensorflow:loss = 0.2333829, step = 4780 (0.288 sec)\n",
      "INFO:tensorflow:global_step/sec: 354.191\n",
      "INFO:tensorflow:loss = 0.5366193, step = 4880 (0.246 sec)\n",
      "INFO:tensorflow:global_step/sec: 413.292\n",
      "INFO:tensorflow:loss = 0.29624468, step = 4980 (0.287 sec)\n",
      "INFO:tensorflow:global_step/sec: 358.635\n",
      "INFO:tensorflow:loss = 0.043316472, step = 5080 (0.264 sec)\n",
      "INFO:tensorflow:global_step/sec: 371.428\n",
      "INFO:tensorflow:loss = 0.36500013, step = 5180 (0.295 sec)\n",
      "INFO:tensorflow:global_step/sec: 335.561\n",
      "INFO:tensorflow:loss = 0.25850254, step = 5280 (0.296 sec)\n",
      "INFO:tensorflow:global_step/sec: 364.27\n",
      "INFO:tensorflow:loss = 0.22251934, step = 5380 (0.225 sec)\n",
      "INFO:tensorflow:global_step/sec: 405.21\n",
      "INFO:tensorflow:loss = 0.12940584, step = 5480 (0.264 sec)\n",
      "INFO:tensorflow:global_step/sec: 376.397\n",
      "INFO:tensorflow:loss = 0.14221035, step = 5580 (0.247 sec)\n",
      "INFO:tensorflow:global_step/sec: 416.971\n",
      "INFO:tensorflow:loss = 0.19279641, step = 5680 (0.275 sec)\n",
      "INFO:tensorflow:global_step/sec: 368.411\n",
      "INFO:tensorflow:loss = 0.13084808, step = 5780 (0.342 sec)\n",
      "INFO:tensorflow:global_step/sec: 276.498\n",
      "INFO:tensorflow:loss = 0.16682139, step = 5880 (0.329 sec)\n",
      "INFO:tensorflow:global_step/sec: 303.543\n",
      "INFO:tensorflow:loss = 0.15163594, step = 5980 (0.265 sec)\n",
      "INFO:tensorflow:global_step/sec: 395.271\n",
      "INFO:tensorflow:loss = 0.23089433, step = 6080 (0.250 sec)\n",
      "INFO:tensorflow:global_step/sec: 424.378\n",
      "INFO:tensorflow:loss = 0.16808817, step = 6180 (0.243 sec)\n",
      "INFO:tensorflow:global_step/sec: 356.027\n",
      "INFO:tensorflow:loss = 0.17374343, step = 6280 (0.343 sec)\n",
      "INFO:tensorflow:global_step/sec: 315.305\n",
      "INFO:tensorflow:loss = 0.29633385, step = 6380 (0.283 sec)\n",
      "INFO:tensorflow:global_step/sec: 353.657\n",
      "INFO:tensorflow:loss = 0.19667944, step = 6480 (0.266 sec)\n",
      "INFO:tensorflow:global_step/sec: 364.741\n",
      "INFO:tensorflow:loss = 0.21608749, step = 6580 (0.327 sec)\n",
      "INFO:tensorflow:global_step/sec: 275.214\n",
      "INFO:tensorflow:loss = 1.2652216, step = 6680 (0.405 sec)\n",
      "INFO:tensorflow:global_step/sec: 268.291\n",
      "INFO:tensorflow:loss = 0.08913505, step = 6780 (0.319 sec)\n",
      "INFO:tensorflow:global_step/sec: 314.261\n",
      "INFO:tensorflow:loss = 0.068966046, step = 6880 (0.337 sec)\n",
      "INFO:tensorflow:global_step/sec: 313.67\n",
      "INFO:tensorflow:loss = 0.13018335, step = 6980 (0.298 sec)\n",
      "INFO:tensorflow:global_step/sec: 329.047\n",
      "INFO:tensorflow:loss = 0.08973318, step = 7080 (0.339 sec)\n",
      "INFO:tensorflow:global_step/sec: 282.832\n",
      "INFO:tensorflow:loss = 0.063255265, step = 7180 (0.402 sec)\n",
      "INFO:tensorflow:global_step/sec: 243.333\n",
      "INFO:tensorflow:loss = 0.12133704, step = 7280 (0.358 sec)\n",
      "INFO:tensorflow:global_step/sec: 293.774\n",
      "INFO:tensorflow:loss = 0.12882687, step = 7380 (0.319 sec)\n",
      "INFO:tensorflow:global_step/sec: 311.475\n",
      "INFO:tensorflow:loss = 0.0855387, step = 7480 (0.325 sec)\n",
      "INFO:tensorflow:global_step/sec: 306.553\n",
      "INFO:tensorflow:loss = 0.10710813, step = 7580 (0.343 sec)\n",
      "INFO:tensorflow:global_step/sec: 299.884\n",
      "INFO:tensorflow:loss = 0.16191319, step = 7680 (0.307 sec)\n",
      "INFO:tensorflow:global_step/sec: 335.491\n",
      "INFO:tensorflow:loss = 0.104720265, step = 7780 (0.266 sec)\n",
      "INFO:tensorflow:global_step/sec: 363.481\n",
      "INFO:tensorflow:loss = 0.115652636, step = 7880 (0.256 sec)\n",
      "INFO:tensorflow:global_step/sec: 359.076\n",
      "INFO:tensorflow:loss = 0.1508222, step = 7980 (0.346 sec)\n",
      "INFO:tensorflow:global_step/sec: 314.174\n",
      "INFO:tensorflow:loss = 0.0314554, step = 8080 (0.315 sec)\n",
      "INFO:tensorflow:global_step/sec: 296.624\n",
      "INFO:tensorflow:loss = 0.064549156, step = 8180 (0.342 sec)\n",
      "INFO:tensorflow:global_step/sec: 296.78\n",
      "INFO:tensorflow:loss = 0.0635653, step = 8280 (0.296 sec)\n",
      "INFO:tensorflow:global_step/sec: 357.415\n",
      "INFO:tensorflow:loss = 1.2780832, step = 8380 (0.304 sec)\n",
      "INFO:tensorflow:global_step/sec: 319.161\n",
      "INFO:tensorflow:loss = 0.07933934, step = 8480 (0.335 sec)\n",
      "INFO:tensorflow:global_step/sec: 306.529\n",
      "INFO:tensorflow:loss = 0.048900843, step = 8580 (0.308 sec)\n",
      "INFO:tensorflow:global_step/sec: 314.931\n",
      "INFO:tensorflow:loss = 0.16394149, step = 8680 (0.393 sec)\n",
      "INFO:tensorflow:global_step/sec: 253.014\n",
      "INFO:tensorflow:loss = 0.8761898, step = 8780 (0.325 sec)\n",
      "INFO:tensorflow:global_step/sec: 319.073\n",
      "INFO:tensorflow:loss = 0.0462894, step = 8880 (0.284 sec)\n",
      "INFO:tensorflow:global_step/sec: 355.556\n",
      "INFO:tensorflow:loss = 1.6409457, step = 8980 (0.293 sec)\n",
      "INFO:tensorflow:global_step/sec: 332.888\n",
      "INFO:tensorflow:loss = 0.068266526, step = 9080 (0.317 sec)\n",
      "INFO:tensorflow:global_step/sec: 305.39\n",
      "INFO:tensorflow:loss = 0.081949085, step = 9180 (0.313 sec)\n",
      "INFO:tensorflow:global_step/sec: 341.094\n",
      "INFO:tensorflow:loss = 0.07116005, step = 9280 (0.280 sec)\n",
      "INFO:tensorflow:global_step/sec: 350.171\n",
      "INFO:tensorflow:loss = 0.04816719, step = 9380 (0.323 sec)\n",
      "INFO:tensorflow:global_step/sec: 309.33\n",
      "INFO:tensorflow:loss = 0.06483213, step = 9480 (0.308 sec)\n",
      "INFO:tensorflow:global_step/sec: 303.711\n",
      "INFO:tensorflow:loss = 0.037525363, step = 9580 (0.327 sec)\n",
      "INFO:tensorflow:global_step/sec: 304.761\n",
      "INFO:tensorflow:loss = 0.09577896, step = 9680 (0.308 sec)\n",
      "INFO:tensorflow:global_step/sec: 335.672\n",
      "INFO:tensorflow:loss = 0.043168746, step = 9780 (0.309 sec)\n",
      "INFO:tensorflow:global_step/sec: 324.184\n",
      "INFO:tensorflow:loss = 0.019891214, step = 9880 (0.304 sec)\n",
      "INFO:tensorflow:global_step/sec: 330.101\n",
      "INFO:tensorflow:loss = 0.056935385, step = 9980 (0.338 sec)\n",
      "INFO:tensorflow:global_step/sec: 287.219\n",
      "INFO:tensorflow:loss = 0.017784048, step = 10080 (0.359 sec)\n",
      "INFO:tensorflow:global_step/sec: 295.013\n",
      "INFO:tensorflow:loss = 0.0467586, step = 10180 (0.261 sec)\n",
      "INFO:tensorflow:global_step/sec: 375.383\n",
      "INFO:tensorflow:loss = 1.2243918, step = 10280 (0.284 sec)\n",
      "INFO:tensorflow:global_step/sec: 341.038\n",
      "INFO:tensorflow:loss = 0.026945982, step = 10380 (0.333 sec)\n",
      "INFO:tensorflow:global_step/sec: 287.9\n",
      "INFO:tensorflow:loss = 0.040870123, step = 10480 (0.348 sec)\n",
      "INFO:tensorflow:global_step/sec: 306.66\n",
      "INFO:tensorflow:loss = 0.024226483, step = 10580 (0.308 sec)\n",
      "INFO:tensorflow:global_step/sec: 338.908\n",
      "INFO:tensorflow:loss = 0.21449482, step = 10680 (0.281 sec)\n",
      "INFO:tensorflow:global_step/sec: 359.415\n",
      "INFO:tensorflow:loss = 0.01921577, step = 10780 (0.305 sec)\n",
      "INFO:tensorflow:global_step/sec: 313.764\n",
      "INFO:tensorflow:loss = 0.0256577, step = 10880 (0.274 sec)\n",
      "INFO:tensorflow:global_step/sec: 327.762\n",
      "INFO:tensorflow:loss = 0.059906762, step = 10980 (0.342 sec)\n",
      "INFO:tensorflow:global_step/sec: 332.682\n",
      "INFO:tensorflow:loss = 1.0261158, step = 11080 (0.283 sec)\n",
      "INFO:tensorflow:global_step/sec: 349.885\n",
      "INFO:tensorflow:loss = 0.02140638, step = 11180 (0.272 sec)\n",
      "INFO:tensorflow:global_step/sec: 376.83\n",
      "INFO:tensorflow:loss = 0.2226535, step = 11280 (0.323 sec)\n",
      "INFO:tensorflow:global_step/sec: 292.549\n",
      "INFO:tensorflow:loss = 1.2492164, step = 11380 (0.324 sec)\n",
      "INFO:tensorflow:global_step/sec: 293.069\n",
      "INFO:tensorflow:loss = 0.043158613, step = 11480 (0.331 sec)\n",
      "INFO:tensorflow:global_step/sec: 316.554\n",
      "INFO:tensorflow:loss = 0.022528954, step = 11580 (0.325 sec)\n",
      "INFO:tensorflow:global_step/sec: 320.215\n",
      "INFO:tensorflow:loss = 0.007442375, step = 11680 (0.294 sec)\n",
      "INFO:tensorflow:global_step/sec: 341.585\n",
      "INFO:tensorflow:loss = 0.03185059, step = 11780 (0.342 sec)\n",
      "INFO:tensorflow:global_step/sec: 287.406\n",
      "INFO:tensorflow:loss = 0.019235002, step = 11880 (0.299 sec)\n",
      "INFO:tensorflow:global_step/sec: 339.211\n",
      "INFO:tensorflow:loss = 0.79221946, step = 11980 (0.303 sec)\n",
      "INFO:tensorflow:global_step/sec: 322.793\n",
      "INFO:tensorflow:loss = 0.029702373, step = 12080 (0.331 sec)\n",
      "INFO:tensorflow:global_step/sec: 307.208\n",
      "INFO:tensorflow:loss = 0.035092477, step = 12180 (0.388 sec)\n",
      "INFO:tensorflow:global_step/sec: 223.956\n",
      "INFO:tensorflow:loss = 0.017179528, step = 12280 (0.594 sec)\n",
      "INFO:tensorflow:global_step/sec: 178.308\n",
      "INFO:tensorflow:loss = 0.06642929, step = 12380 (0.510 sec)\n",
      "INFO:tensorflow:global_step/sec: 193.734\n",
      "INFO:tensorflow:loss = 0.020382382, step = 12480 (0.577 sec)\n",
      "INFO:tensorflow:global_step/sec: 175.031\n",
      "INFO:tensorflow:loss = 0.015788289, step = 12580 (0.408 sec)\n",
      "INFO:tensorflow:global_step/sec: 251.153\n",
      "INFO:tensorflow:loss = 0.0144492965, step = 12680 (0.411 sec)\n",
      "INFO:tensorflow:global_step/sec: 230.034\n",
      "INFO:tensorflow:loss = 0.019921914, step = 12780 (0.377 sec)\n",
      "INFO:tensorflow:global_step/sec: 295.956\n",
      "INFO:tensorflow:loss = 0.02205259, step = 12880 (0.408 sec)\n",
      "INFO:tensorflow:global_step/sec: 242.32\n",
      "INFO:tensorflow:loss = 0.013335422, step = 12980 (0.374 sec)\n",
      "INFO:tensorflow:global_step/sec: 271.641\n",
      "INFO:tensorflow:loss = 0.018847033, step = 13080 (0.330 sec)\n",
      "INFO:tensorflow:global_step/sec: 286.96\n",
      "INFO:tensorflow:loss = 0.0037103603, step = 13180 (0.399 sec)\n",
      "INFO:tensorflow:global_step/sec: 244.786\n",
      "INFO:tensorflow:loss = 0.03052736, step = 13280 (0.361 sec)\n",
      "INFO:tensorflow:global_step/sec: 296.645\n",
      "INFO:tensorflow:loss = 0.012722269, step = 13380 (0.273 sec)\n",
      "INFO:tensorflow:global_step/sec: 382.897\n",
      "INFO:tensorflow:loss = 0.101859696, step = 13480 (0.280 sec)\n",
      "INFO:tensorflow:global_step/sec: 365.846\n",
      "INFO:tensorflow:loss = 0.01852104, step = 13580 (0.269 sec)\n",
      "INFO:tensorflow:global_step/sec: 358.771\n",
      "INFO:tensorflow:loss = 0.013424832, step = 13680 (0.309 sec)\n",
      "INFO:tensorflow:global_step/sec: 315.141\n",
      "INFO:tensorflow:loss = 0.00407766, step = 13780 (0.334 sec)\n",
      "INFO:tensorflow:global_step/sec: 286.571\n",
      "INFO:tensorflow:loss = 0.00944398, step = 13880 (0.319 sec)\n",
      "INFO:tensorflow:global_step/sec: 319.309\n",
      "INFO:tensorflow:loss = 0.01332693, step = 13980 (0.341 sec)\n",
      "INFO:tensorflow:global_step/sec: 291.662\n",
      "INFO:tensorflow:loss = 0.011266079, step = 14080 (0.365 sec)\n",
      "INFO:tensorflow:global_step/sec: 273.709\n",
      "INFO:tensorflow:loss = 0.012577681, step = 14180 (0.353 sec)\n",
      "INFO:tensorflow:global_step/sec: 277.403\n",
      "INFO:tensorflow:loss = 1.3825268, step = 14280 (0.358 sec)\n",
      "INFO:tensorflow:global_step/sec: 290.851\n",
      "INFO:tensorflow:loss = 1.4289612, step = 14380 (0.314 sec)\n",
      "INFO:tensorflow:global_step/sec: 307.156\n",
      "INFO:tensorflow:loss = 0.013938688, step = 14480 (0.344 sec)\n",
      "INFO:tensorflow:global_step/sec: 281.19\n",
      "INFO:tensorflow:loss = 0.013621339, step = 14580 (0.379 sec)\n",
      "INFO:tensorflow:global_step/sec: 279.7\n",
      "INFO:tensorflow:loss = 0.007288092, step = 14680 (0.306 sec)\n",
      "INFO:tensorflow:global_step/sec: 332.153\n",
      "INFO:tensorflow:loss = 0.0159753, step = 14780 (0.348 sec)\n",
      "INFO:tensorflow:global_step/sec: 280.797\n",
      "INFO:tensorflow:loss = 0.01047033, step = 14880 (0.387 sec)\n",
      "INFO:tensorflow:global_step/sec: 267.16\n",
      "INFO:tensorflow:loss = 0.016495705, step = 14980 (0.327 sec)\n",
      "INFO:tensorflow:global_step/sec: 305.612\n",
      "INFO:tensorflow:loss = 0.009813684, step = 15080 (0.300 sec)\n",
      "INFO:tensorflow:global_step/sec: 329.661\n",
      "INFO:tensorflow:loss = 0.012386357, step = 15180 (0.364 sec)\n",
      "INFO:tensorflow:global_step/sec: 277.57\n",
      "INFO:tensorflow:loss = 0.017581392, step = 15280 (0.367 sec)\n",
      "INFO:tensorflow:global_step/sec: 260.521\n",
      "INFO:tensorflow:loss = 0.00966475, step = 15380 (0.367 sec)\n",
      "INFO:tensorflow:global_step/sec: 278.981\n",
      "INFO:tensorflow:loss = 0.014507095, step = 15480 (0.346 sec)\n",
      "INFO:tensorflow:global_step/sec: 303.254\n",
      "INFO:tensorflow:loss = 0.0031341496, step = 15580 (0.272 sec)\n",
      "INFO:tensorflow:global_step/sec: 358.405\n",
      "INFO:tensorflow:loss = 1.0171378, step = 15680 (0.270 sec)\n",
      "INFO:tensorflow:global_step/sec: 380.754\n",
      "INFO:tensorflow:loss = 0.017456926, step = 15780 (0.304 sec)\n",
      "INFO:tensorflow:global_step/sec: 311.113\n",
      "INFO:tensorflow:loss = 0.004657387, step = 15880 (0.351 sec)\n",
      "INFO:tensorflow:global_step/sec: 287.76\n",
      "INFO:tensorflow:loss = 0.008377248, step = 15980 (0.346 sec)\n",
      "INFO:tensorflow:global_step/sec: 285.815\n",
      "INFO:tensorflow:loss = 0.006219495, step = 16080 (0.395 sec)\n",
      "INFO:tensorflow:global_step/sec: 246.482\n",
      "INFO:tensorflow:loss = 0.0027886315, step = 16180 (0.373 sec)\n",
      "INFO:tensorflow:global_step/sec: 264.948\n",
      "INFO:tensorflow:loss = 0.008295959, step = 16280 (0.389 sec)\n",
      "INFO:tensorflow:global_step/sec: 262.836\n",
      "INFO:tensorflow:loss = 0.013770501, step = 16380 (0.343 sec)\n",
      "INFO:tensorflow:global_step/sec: 303.03\n",
      "INFO:tensorflow:loss = 0.0039979927, step = 16480 (0.356 sec)\n",
      "INFO:tensorflow:global_step/sec: 270.741\n",
      "INFO:tensorflow:loss = 0.00035980754, step = 16580 (0.348 sec)\n",
      "INFO:tensorflow:global_step/sec: 303.372\n",
      "INFO:tensorflow:loss = 0.012069421, step = 16680 (0.353 sec)\n",
      "INFO:tensorflow:global_step/sec: 270.082\n",
      "INFO:tensorflow:loss = 0.0021983949, step = 16780 (0.316 sec)\n",
      "INFO:tensorflow:global_step/sec: 320.922\n",
      "INFO:tensorflow:loss = 0.0033905646, step = 16880 (0.274 sec)\n",
      "INFO:tensorflow:global_step/sec: 348.466\n",
      "INFO:tensorflow:loss = 0.0132263545, step = 16980 (0.384 sec)\n",
      "INFO:tensorflow:global_step/sec: 270.757\n",
      "INFO:tensorflow:loss = 0.0043914663, step = 17080 (0.399 sec)\n",
      "INFO:tensorflow:global_step/sec: 247.673\n",
      "INFO:tensorflow:loss = 0.0040656743, step = 17180 (0.381 sec)\n",
      "INFO:tensorflow:global_step/sec: 251.997\n",
      "INFO:tensorflow:loss = 0.008516155, step = 17280 (0.399 sec)\n",
      "INFO:tensorflow:global_step/sec: 266.248\n",
      "INFO:tensorflow:loss = 0.006536807, step = 17380 (0.363 sec)\n",
      "INFO:tensorflow:global_step/sec: 262.716\n",
      "INFO:tensorflow:loss = 0.0028415867, step = 17480 (0.402 sec)\n",
      "INFO:tensorflow:global_step/sec: 259.762\n",
      "INFO:tensorflow:loss = 0.014395496, step = 17580 (0.395 sec)\n",
      "INFO:tensorflow:global_step/sec: 249.098\n",
      "INFO:tensorflow:loss = 0.006661538, step = 17680 (0.421 sec)\n",
      "INFO:tensorflow:global_step/sec: 241.526\n",
      "INFO:tensorflow:loss = 0.005028266, step = 17780 (0.401 sec)\n",
      "INFO:tensorflow:global_step/sec: 215.421\n",
      "INFO:tensorflow:loss = 0.003259709, step = 17880 (0.423 sec)\n",
      "INFO:tensorflow:global_step/sec: 267.334\n",
      "INFO:tensorflow:loss = 0.005155778, step = 17980 (0.428 sec)\n",
      "INFO:tensorflow:global_step/sec: 232.858\n",
      "INFO:tensorflow:loss = 0.0032540823, step = 18080 (0.377 sec)\n",
      "INFO:tensorflow:global_step/sec: 262.227\n",
      "INFO:tensorflow:loss = 0.0024197903, step = 18180 (0.434 sec)\n",
      "INFO:tensorflow:global_step/sec: 228.637\n",
      "INFO:tensorflow:loss = 0.002932594, step = 18280 (0.414 sec)\n",
      "INFO:tensorflow:global_step/sec: 251.458\n",
      "INFO:tensorflow:loss = 0.006236421, step = 18380 (0.385 sec)\n",
      "INFO:tensorflow:global_step/sec: 253.638\n",
      "INFO:tensorflow:loss = 0.006666609, step = 18480 (0.435 sec)\n",
      "INFO:tensorflow:global_step/sec: 222.236\n",
      "INFO:tensorflow:loss = 0.0048321434, step = 18580 (0.488 sec)\n",
      "INFO:tensorflow:global_step/sec: 210.372\n",
      "INFO:tensorflow:loss = 0.006685294, step = 18680 (0.367 sec)\n",
      "INFO:tensorflow:global_step/sec: 273.672\n",
      "INFO:tensorflow:loss = 0.0057640392, step = 18780 (0.448 sec)\n",
      "INFO:tensorflow:global_step/sec: 227.737\n",
      "INFO:tensorflow:loss = 0.0027907356, step = 18880 (0.358 sec)\n",
      "INFO:tensorflow:global_step/sec: 278.224\n",
      "INFO:tensorflow:loss = 1.0132643, step = 18980 (0.383 sec)\n",
      "INFO:tensorflow:global_step/sec: 268.65\n",
      "INFO:tensorflow:loss = 0.15828912, step = 19080 (0.341 sec)\n",
      "INFO:tensorflow:global_step/sec: 291.87\n",
      "INFO:tensorflow:loss = 0.0019343868, step = 19180 (0.339 sec)\n",
      "INFO:tensorflow:global_step/sec: 291.052\n",
      "INFO:tensorflow:loss = 0.002435888, step = 19280 (0.344 sec)\n",
      "INFO:tensorflow:global_step/sec: 280.733\n",
      "INFO:tensorflow:loss = 0.004282372, step = 19380 (0.362 sec)\n",
      "INFO:tensorflow:global_step/sec: 284.613\n",
      "INFO:tensorflow:loss = 0.00336849, step = 19480 (0.457 sec)\n",
      "INFO:tensorflow:global_step/sec: 183.787\n",
      "INFO:tensorflow:loss = 0.9414122, step = 19580 (0.681 sec)\n",
      "INFO:tensorflow:global_step/sec: 160.031\n",
      "INFO:tensorflow:loss = 0.0015931404, step = 19680 (0.461 sec)\n",
      "INFO:tensorflow:global_step/sec: 210.017\n",
      "INFO:tensorflow:loss = 0.0063995533, step = 19780 (0.400 sec)\n",
      "INFO:tensorflow:global_step/sec: 293.381\n",
      "INFO:tensorflow:loss = 0.0032817326, step = 19880 (0.260 sec)\n",
      "INFO:tensorflow:global_step/sec: 378.683\n",
      "INFO:tensorflow:loss = 0.0043455763, step = 19980 (0.261 sec)\n",
      "INFO:tensorflow:global_step/sec: 396.463\n",
      "INFO:tensorflow:loss = 0.002409581, step = 20080 (0.260 sec)\n",
      "INFO:tensorflow:global_step/sec: 385.954\n",
      "INFO:tensorflow:loss = 0.0046702097, step = 20180 (0.241 sec)\n",
      "INFO:tensorflow:global_step/sec: 431.542\n",
      "INFO:tensorflow:loss = 0.0020769355, step = 20280 (0.256 sec)\n",
      "INFO:tensorflow:global_step/sec: 378.708\n",
      "INFO:tensorflow:loss = 0.004325981, step = 20380 (0.260 sec)\n",
      "INFO:tensorflow:global_step/sec: 379.695\n",
      "INFO:tensorflow:loss = 0.006251437, step = 20480 (0.285 sec)\n",
      "INFO:tensorflow:global_step/sec: 361.24\n",
      "INFO:tensorflow:loss = 0.0026743636, step = 20580 (0.253 sec)\n",
      "INFO:tensorflow:global_step/sec: 386.156\n",
      "INFO:tensorflow:loss = 0.0043786806, step = 20680 (0.262 sec)\n",
      "INFO:tensorflow:global_step/sec: 384.718\n",
      "INFO:tensorflow:loss = 1.1476066, step = 20780 (0.252 sec)\n",
      "INFO:tensorflow:global_step/sec: 400.332\n",
      "INFO:tensorflow:loss = 0.0030509064, step = 20880 (0.288 sec)\n",
      "INFO:tensorflow:global_step/sec: 343.876\n",
      "INFO:tensorflow:loss = 0.0023188978, step = 20980 (0.242 sec)\n",
      "INFO:tensorflow:global_step/sec: 414.52\n",
      "INFO:tensorflow:loss = 0.008427921, step = 21080 (0.252 sec)\n",
      "INFO:tensorflow:global_step/sec: 388.602\n",
      "INFO:tensorflow:loss = 0.0009827053, step = 21180 (0.271 sec)\n",
      "INFO:tensorflow:global_step/sec: 362.13\n",
      "INFO:tensorflow:loss = 0.0016257341, step = 21280 (0.250 sec)\n",
      "INFO:tensorflow:global_step/sec: 431.447\n",
      "INFO:tensorflow:loss = 0.0013601027, step = 21380 (0.227 sec)\n",
      "INFO:tensorflow:global_step/sec: 439.384\n",
      "INFO:tensorflow:loss = 0.00066917506, step = 21480 (0.221 sec)\n",
      "INFO:tensorflow:global_step/sec: 450.349\n",
      "INFO:tensorflow:loss = 0.9545942, step = 21580 (0.250 sec)\n",
      "INFO:tensorflow:global_step/sec: 389.831\n",
      "INFO:tensorflow:loss = 0.011576867, step = 21680 (0.258 sec)\n",
      "INFO:tensorflow:global_step/sec: 387.254\n",
      "INFO:tensorflow:loss = 1.1686393, step = 21780 (0.230 sec)\n",
      "INFO:tensorflow:global_step/sec: 449.164\n",
      "INFO:tensorflow:loss = 0.0014745244, step = 21880 (0.238 sec)\n",
      "INFO:tensorflow:global_step/sec: 422.939\n",
      "INFO:tensorflow:loss = 0.0023757508, step = 21980 (0.234 sec)\n",
      "INFO:tensorflow:global_step/sec: 418.8\n",
      "INFO:tensorflow:loss = 0.0047445185, step = 22080 (0.319 sec)\n",
      "INFO:tensorflow:global_step/sec: 304.855\n",
      "INFO:tensorflow:loss = 1.3178813, step = 22180 (0.257 sec)\n",
      "INFO:tensorflow:global_step/sec: 383.189\n",
      "INFO:tensorflow:loss = 0.0053801434, step = 22280 (0.277 sec)\n",
      "INFO:tensorflow:global_step/sec: 363.268\n",
      "INFO:tensorflow:loss = 0.011176974, step = 22380 (0.263 sec)\n",
      "INFO:tensorflow:global_step/sec: 397.91\n",
      "INFO:tensorflow:loss = 0.0020280774, step = 22480 (0.263 sec)\n",
      "INFO:tensorflow:global_step/sec: 370.959\n",
      "INFO:tensorflow:loss = 0.003097861, step = 22580 (0.308 sec)\n",
      "INFO:tensorflow:global_step/sec: 311.538\n",
      "INFO:tensorflow:loss = 0.0026261853, step = 22680 (0.308 sec)\n",
      "INFO:tensorflow:global_step/sec: 329.165\n",
      "INFO:tensorflow:loss = 1.0878028, step = 22780 (0.295 sec)\n",
      "INFO:tensorflow:global_step/sec: 343.793\n",
      "INFO:tensorflow:loss = 0.0044889357, step = 22880 (0.241 sec)\n",
      "INFO:tensorflow:global_step/sec: 434.821\n",
      "INFO:tensorflow:loss = 0.00953776, step = 22980 (0.256 sec)\n",
      "INFO:tensorflow:global_step/sec: 378.902\n",
      "INFO:tensorflow:loss = 0.00037065288, step = 23080 (0.261 sec)\n",
      "INFO:tensorflow:global_step/sec: 381.441\n",
      "INFO:tensorflow:loss = 0.0016104087, step = 23180 (0.318 sec)\n",
      "INFO:tensorflow:global_step/sec: 318.737\n",
      "INFO:tensorflow:loss = 0.0024470105, step = 23280 (0.260 sec)\n",
      "INFO:tensorflow:global_step/sec: 389.142\n",
      "INFO:tensorflow:loss = 0.0010807356, step = 23380 (0.228 sec)\n",
      "INFO:tensorflow:global_step/sec: 427.678\n",
      "INFO:tensorflow:loss = 0.97015774, step = 23480 (0.243 sec)\n",
      "INFO:tensorflow:global_step/sec: 408.776\n",
      "INFO:tensorflow:loss = 0.0014162641, step = 23580 (0.293 sec)\n",
      "INFO:tensorflow:global_step/sec: 348.407\n",
      "INFO:tensorflow:loss = 0.003886398, step = 23680 (0.245 sec)\n",
      "INFO:tensorflow:global_step/sec: 410.244\n",
      "INFO:tensorflow:loss = 0.001923148, step = 23780 (0.245 sec)\n",
      "INFO:tensorflow:global_step/sec: 419.023\n",
      "INFO:tensorflow:loss = 0.00050324283, step = 23880 (0.239 sec)\n",
      "INFO:tensorflow:global_step/sec: 386.478\n",
      "INFO:tensorflow:loss = 0.0011436926, step = 23980 (0.279 sec)\n",
      "INFO:tensorflow:global_step/sec: 371.857\n",
      "INFO:tensorflow:Calling checkpoint listeners before saving checkpoint 24000...\n",
      "INFO:tensorflow:Saving checkpoints for 24000 into /tmp/tmpx75pba2i/model.ckpt.\n",
      "WARNING:tensorflow:Issue encountered when serializing resources.\n",
      "Type is unsupported, or the types of the items don't match field type in CollectionDef. Note this is a warning and probably safe to ignore.\n",
      "'_Resource' object has no attribute 'name'\n",
      "INFO:tensorflow:Calling checkpoint listeners after saving checkpoint 24000...\n",
      "INFO:tensorflow:Loss for final step: 0.0024732272.\n",
      "INFO:tensorflow:Calling model_fn.\n",
      "INFO:tensorflow:Done calling model_fn.\n",
      "INFO:tensorflow:Starting evaluation at 2022-04-30T08:30:15\n",
      "INFO:tensorflow:Graph was finalized.\n",
      "INFO:tensorflow:Restoring parameters from /tmp/tmpx75pba2i/model.ckpt-24000\n",
      "INFO:tensorflow:Running local_init_op.\n",
      "INFO:tensorflow:Done running local_init_op.\n",
      "INFO:tensorflow:Inference Time : 0.29835s\n",
      "INFO:tensorflow:Finished evaluation at 2022-04-30-08:30:16\n",
      "INFO:tensorflow:Saving dict for global step 24000: average_loss = 12.4288025, global_step = 24000, label/mean = 23.862026, loss = 12.514331, prediction/mean = 24.347456\n",
      "WARNING:tensorflow:Issue encountered when serializing resources.\n",
      "Type is unsupported, or the types of the items don't match field type in CollectionDef. Note this is a warning and probably safe to ignore.\n",
      "'_Resource' object has no attribute 'name'\n",
      "INFO:tensorflow:Saving 'checkpoint_path' summary for global step 24000: /tmp/tmpx75pba2i/model.ckpt-24000\n",
      "average loss 12.4288\n"
     ]
    }
   ],
   "source": [
    "boosted_tree = tf.estimator.BoostedTreesRegressor(feature_columns=all_feature_columns, n_batches_per_layer=20, n_trees=200)\n",
    "boosted_tree.train(input_fn=lambda:train_input_fn(df_train_norm, batch_size=batch_size))\n",
    "eval_results = boosted_tree.evaluate(input_fn=lambda:eval_input_fn(df_test_norm, batch_size=8))\n",
    "print('average loss {:.4f}'.format(eval_results['average_loss']))"
   ]
  },
  {
   "cell_type": "code",
   "execution_count": 39,
   "metadata": {
    "id": "7pL49B-sljAd"
   },
   "outputs": [],
   "source": [
    "import tensorflow_datasets as tfds\n",
    "\n",
    "buffer_size = 10000\n",
    "batch_size = 64\n",
    "num_epochs = 20\n",
    "steps_per_epoch = np.ceil(60000/batch_size)"
   ]
  },
  {
   "cell_type": "code",
   "execution_count": 34,
   "metadata": {
    "id": "5WYHCXhMmkyM"
   },
   "outputs": [],
   "source": [
    "def preprocess(item):\n",
    "  image = item['image']\n",
    "  label = item['label']\n",
    "  image = tf.image.convert_image_dtype(image, tf.float32)\n",
    "  image = tf.reshape(image, (-1,))\n",
    "\n",
    "  return {'image-pixels':image}, label[..., tf.newaxis]"
   ]
  },
  {
   "cell_type": "code",
   "execution_count": 45,
   "metadata": {
    "id": "By4h8m-ym_o1"
   },
   "outputs": [],
   "source": [
    "#1 입력 함수를 정의\n",
    "def train_input_fn():\n",
    "  datasets = tfds.load(name='mnist')\n",
    "  mnist_train = datasets['train']\n",
    "  dataset = mnist_train.map(preprocess)\n",
    "  dataset = dataset.shuffle(buffer_size).batch(batch_size).repeat()\n",
    "  return dataset\n",
    "\n",
    "def eval_input_fn():\n",
    "  datasets= tfds.load(name='mnist')\n",
    "  mnist_test = datasets['test']\n",
    "  dataset = mnist_test.map(preprocess).batch(batch_size)\n",
    "  return dataset"
   ]
  },
  {
   "cell_type": "code",
   "execution_count": 42,
   "metadata": {
    "id": "qW5CsV8gnd2M"
   },
   "outputs": [],
   "source": [
    "#2 특성 열을 정의\n",
    "image_feature_column = tf.feature_column.numeric_column(key='image-pixels', shape=(28*28))"
   ]
  },
  {
   "cell_type": "code",
   "execution_count": 43,
   "metadata": {
    "colab": {
     "base_uri": "https://localhost:8080/"
    },
    "id": "4SUIsVBYnsqM",
    "outputId": "2e066bf7-ee15-4d5f-9246-59ec20990580"
   },
   "outputs": [
    {
     "name": "stdout",
     "output_type": "stream",
     "text": [
      "INFO:tensorflow:Using default config.\n"
     ]
    },
    {
     "name": "stderr",
     "output_type": "stream",
     "text": [
      "INFO:tensorflow:Using default config.\n"
     ]
    },
    {
     "name": "stdout",
     "output_type": "stream",
     "text": [
      "INFO:tensorflow:Using config: {'_model_dir': 'models/mnist-dnn/', '_tf_random_seed': None, '_save_summary_steps': 100, '_save_checkpoints_steps': None, '_save_checkpoints_secs': 600, '_session_config': allow_soft_placement: true\n",
      "graph_options {\n",
      "  rewrite_options {\n",
      "    meta_optimizer_iterations: ONE\n",
      "  }\n",
      "}\n",
      ", '_keep_checkpoint_max': 5, '_keep_checkpoint_every_n_hours': 10000, '_log_step_count_steps': 100, '_train_distribute': None, '_device_fn': None, '_protocol': None, '_eval_distribute': None, '_experimental_distribute': None, '_experimental_max_worker_delay_secs': None, '_session_creation_timeout_secs': 7200, '_checkpoint_save_graph_def': True, '_service': None, '_cluster_spec': ClusterSpec({}), '_task_type': 'worker', '_task_id': 0, '_global_id_in_cluster': 0, '_master': '', '_evaluation_master': '', '_is_chief': True, '_num_ps_replicas': 0, '_num_worker_replicas': 1}\n"
     ]
    },
    {
     "name": "stderr",
     "output_type": "stream",
     "text": [
      "INFO:tensorflow:Using config: {'_model_dir': 'models/mnist-dnn/', '_tf_random_seed': None, '_save_summary_steps': 100, '_save_checkpoints_steps': None, '_save_checkpoints_secs': 600, '_session_config': allow_soft_placement: true\n",
      "graph_options {\n",
      "  rewrite_options {\n",
      "    meta_optimizer_iterations: ONE\n",
      "  }\n",
      "}\n",
      ", '_keep_checkpoint_max': 5, '_keep_checkpoint_every_n_hours': 10000, '_log_step_count_steps': 100, '_train_distribute': None, '_device_fn': None, '_protocol': None, '_eval_distribute': None, '_experimental_distribute': None, '_experimental_max_worker_delay_secs': None, '_session_creation_timeout_secs': 7200, '_checkpoint_save_graph_def': True, '_service': None, '_cluster_spec': ClusterSpec({}), '_task_type': 'worker', '_task_id': 0, '_global_id_in_cluster': 0, '_master': '', '_evaluation_master': '', '_is_chief': True, '_num_ps_replicas': 0, '_num_worker_replicas': 1}\n"
     ]
    }
   ],
   "source": [
    "#3 새로운 추정기를 만듬. 여기선 두 개의 은닉층을 가진 추정기를 만듬\n",
    "dnn_classifier = tf.estimator.DNNClassifier(feature_columns=[image_feature_column], hidden_units=[32,16], n_classes=10, model_dir='models/mnist-dnn/')"
   ]
  },
  {
   "cell_type": "code",
   "execution_count": 46,
   "metadata": {
    "colab": {
     "base_uri": "https://localhost:8080/"
    },
    "id": "7iYeR5G2n86a",
    "outputId": "4136b4f3-ebbb-452d-deac-a48ebde8904e"
   },
   "outputs": [
    {
     "name": "stdout",
     "output_type": "stream",
     "text": [
      "INFO:tensorflow:Calling model_fn.\n"
     ]
    },
    {
     "name": "stderr",
     "output_type": "stream",
     "text": [
      "INFO:tensorflow:Calling model_fn.\n"
     ]
    },
    {
     "name": "stdout",
     "output_type": "stream",
     "text": [
      "INFO:tensorflow:Done calling model_fn.\n"
     ]
    },
    {
     "name": "stderr",
     "output_type": "stream",
     "text": [
      "INFO:tensorflow:Done calling model_fn.\n"
     ]
    },
    {
     "name": "stdout",
     "output_type": "stream",
     "text": [
      "INFO:tensorflow:Create CheckpointSaverHook.\n"
     ]
    },
    {
     "name": "stderr",
     "output_type": "stream",
     "text": [
      "INFO:tensorflow:Create CheckpointSaverHook.\n"
     ]
    },
    {
     "name": "stdout",
     "output_type": "stream",
     "text": [
      "INFO:tensorflow:Graph was finalized.\n"
     ]
    },
    {
     "name": "stderr",
     "output_type": "stream",
     "text": [
      "INFO:tensorflow:Graph was finalized.\n"
     ]
    },
    {
     "name": "stdout",
     "output_type": "stream",
     "text": [
      "INFO:tensorflow:Running local_init_op.\n"
     ]
    },
    {
     "name": "stderr",
     "output_type": "stream",
     "text": [
      "INFO:tensorflow:Running local_init_op.\n"
     ]
    },
    {
     "name": "stdout",
     "output_type": "stream",
     "text": [
      "INFO:tensorflow:Done running local_init_op.\n"
     ]
    },
    {
     "name": "stderr",
     "output_type": "stream",
     "text": [
      "INFO:tensorflow:Done running local_init_op.\n"
     ]
    },
    {
     "name": "stdout",
     "output_type": "stream",
     "text": [
      "INFO:tensorflow:Calling checkpoint listeners before saving checkpoint 0...\n"
     ]
    },
    {
     "name": "stderr",
     "output_type": "stream",
     "text": [
      "INFO:tensorflow:Calling checkpoint listeners before saving checkpoint 0...\n"
     ]
    },
    {
     "name": "stdout",
     "output_type": "stream",
     "text": [
      "INFO:tensorflow:Saving checkpoints for 0 into models/mnist-dnn/model.ckpt.\n"
     ]
    },
    {
     "name": "stderr",
     "output_type": "stream",
     "text": [
      "INFO:tensorflow:Saving checkpoints for 0 into models/mnist-dnn/model.ckpt.\n"
     ]
    },
    {
     "name": "stdout",
     "output_type": "stream",
     "text": [
      "INFO:tensorflow:Calling checkpoint listeners after saving checkpoint 0...\n"
     ]
    },
    {
     "name": "stderr",
     "output_type": "stream",
     "text": [
      "INFO:tensorflow:Calling checkpoint listeners after saving checkpoint 0...\n"
     ]
    },
    {
     "name": "stdout",
     "output_type": "stream",
     "text": [
      "INFO:tensorflow:loss = 2.2781436, step = 0\n"
     ]
    },
    {
     "name": "stderr",
     "output_type": "stream",
     "text": [
      "INFO:tensorflow:loss = 2.2781436, step = 0\n"
     ]
    },
    {
     "name": "stdout",
     "output_type": "stream",
     "text": [
      "INFO:tensorflow:global_step/sec: 119.091\n"
     ]
    },
    {
     "name": "stderr",
     "output_type": "stream",
     "text": [
      "INFO:tensorflow:global_step/sec: 119.091\n"
     ]
    },
    {
     "name": "stdout",
     "output_type": "stream",
     "text": [
      "INFO:tensorflow:loss = 2.2074742, step = 100 (0.851 sec)\n"
     ]
    },
    {
     "name": "stderr",
     "output_type": "stream",
     "text": [
      "INFO:tensorflow:loss = 2.2074742, step = 100 (0.851 sec)\n"
     ]
    },
    {
     "name": "stdout",
     "output_type": "stream",
     "text": [
      "INFO:tensorflow:global_step/sec: 120.252\n"
     ]
    },
    {
     "name": "stderr",
     "output_type": "stream",
     "text": [
      "INFO:tensorflow:global_step/sec: 120.252\n"
     ]
    },
    {
     "name": "stdout",
     "output_type": "stream",
     "text": [
      "INFO:tensorflow:loss = 2.1704547, step = 200 (0.829 sec)\n"
     ]
    },
    {
     "name": "stderr",
     "output_type": "stream",
     "text": [
      "INFO:tensorflow:loss = 2.1704547, step = 200 (0.829 sec)\n"
     ]
    },
    {
     "name": "stdout",
     "output_type": "stream",
     "text": [
      "INFO:tensorflow:global_step/sec: 109.883\n"
     ]
    },
    {
     "name": "stderr",
     "output_type": "stream",
     "text": [
      "INFO:tensorflow:global_step/sec: 109.883\n"
     ]
    },
    {
     "name": "stdout",
     "output_type": "stream",
     "text": [
      "INFO:tensorflow:loss = 2.0679646, step = 300 (0.912 sec)\n"
     ]
    },
    {
     "name": "stderr",
     "output_type": "stream",
     "text": [
      "INFO:tensorflow:loss = 2.0679646, step = 300 (0.912 sec)\n"
     ]
    },
    {
     "name": "stdout",
     "output_type": "stream",
     "text": [
      "INFO:tensorflow:global_step/sec: 111.224\n"
     ]
    },
    {
     "name": "stderr",
     "output_type": "stream",
     "text": [
      "INFO:tensorflow:global_step/sec: 111.224\n"
     ]
    },
    {
     "name": "stdout",
     "output_type": "stream",
     "text": [
      "INFO:tensorflow:loss = 2.028031, step = 400 (0.898 sec)\n"
     ]
    },
    {
     "name": "stderr",
     "output_type": "stream",
     "text": [
      "INFO:tensorflow:loss = 2.028031, step = 400 (0.898 sec)\n"
     ]
    },
    {
     "name": "stdout",
     "output_type": "stream",
     "text": [
      "INFO:tensorflow:global_step/sec: 108.484\n"
     ]
    },
    {
     "name": "stderr",
     "output_type": "stream",
     "text": [
      "INFO:tensorflow:global_step/sec: 108.484\n"
     ]
    },
    {
     "name": "stdout",
     "output_type": "stream",
     "text": [
      "INFO:tensorflow:loss = 1.9947664, step = 500 (0.924 sec)\n"
     ]
    },
    {
     "name": "stderr",
     "output_type": "stream",
     "text": [
      "INFO:tensorflow:loss = 1.9947664, step = 500 (0.924 sec)\n"
     ]
    },
    {
     "name": "stdout",
     "output_type": "stream",
     "text": [
      "INFO:tensorflow:global_step/sec: 106.527\n"
     ]
    },
    {
     "name": "stderr",
     "output_type": "stream",
     "text": [
      "INFO:tensorflow:global_step/sec: 106.527\n"
     ]
    },
    {
     "name": "stdout",
     "output_type": "stream",
     "text": [
      "INFO:tensorflow:loss = 1.8420081, step = 600 (0.938 sec)\n"
     ]
    },
    {
     "name": "stderr",
     "output_type": "stream",
     "text": [
      "INFO:tensorflow:loss = 1.8420081, step = 600 (0.938 sec)\n"
     ]
    },
    {
     "name": "stdout",
     "output_type": "stream",
     "text": [
      "INFO:tensorflow:global_step/sec: 112.949\n"
     ]
    },
    {
     "name": "stderr",
     "output_type": "stream",
     "text": [
      "INFO:tensorflow:global_step/sec: 112.949\n"
     ]
    },
    {
     "name": "stdout",
     "output_type": "stream",
     "text": [
      "INFO:tensorflow:loss = 1.9922495, step = 700 (0.883 sec)\n"
     ]
    },
    {
     "name": "stderr",
     "output_type": "stream",
     "text": [
      "INFO:tensorflow:loss = 1.9922495, step = 700 (0.883 sec)\n"
     ]
    },
    {
     "name": "stdout",
     "output_type": "stream",
     "text": [
      "INFO:tensorflow:global_step/sec: 142.041\n"
     ]
    },
    {
     "name": "stderr",
     "output_type": "stream",
     "text": [
      "INFO:tensorflow:global_step/sec: 142.041\n"
     ]
    },
    {
     "name": "stdout",
     "output_type": "stream",
     "text": [
      "INFO:tensorflow:loss = 1.7958493, step = 800 (0.704 sec)\n"
     ]
    },
    {
     "name": "stderr",
     "output_type": "stream",
     "text": [
      "INFO:tensorflow:loss = 1.7958493, step = 800 (0.704 sec)\n"
     ]
    },
    {
     "name": "stdout",
     "output_type": "stream",
     "text": [
      "INFO:tensorflow:global_step/sec: 606.097\n"
     ]
    },
    {
     "name": "stderr",
     "output_type": "stream",
     "text": [
      "INFO:tensorflow:global_step/sec: 606.097\n"
     ]
    },
    {
     "name": "stdout",
     "output_type": "stream",
     "text": [
      "INFO:tensorflow:loss = 1.7105619, step = 900 (0.159 sec)\n"
     ]
    },
    {
     "name": "stderr",
     "output_type": "stream",
     "text": [
      "INFO:tensorflow:loss = 1.7105619, step = 900 (0.159 sec)\n"
     ]
    },
    {
     "name": "stdout",
     "output_type": "stream",
     "text": [
      "INFO:tensorflow:global_step/sec: 132.916\n"
     ]
    },
    {
     "name": "stderr",
     "output_type": "stream",
     "text": [
      "INFO:tensorflow:global_step/sec: 132.916\n"
     ]
    },
    {
     "name": "stdout",
     "output_type": "stream",
     "text": [
      "INFO:tensorflow:loss = 1.6935196, step = 1000 (0.761 sec)\n"
     ]
    },
    {
     "name": "stderr",
     "output_type": "stream",
     "text": [
      "INFO:tensorflow:loss = 1.6935196, step = 1000 (0.761 sec)\n"
     ]
    },
    {
     "name": "stdout",
     "output_type": "stream",
     "text": [
      "INFO:tensorflow:global_step/sec: 207.596\n"
     ]
    },
    {
     "name": "stderr",
     "output_type": "stream",
     "text": [
      "INFO:tensorflow:global_step/sec: 207.596\n"
     ]
    },
    {
     "name": "stdout",
     "output_type": "stream",
     "text": [
      "INFO:tensorflow:loss = 1.7019994, step = 1100 (0.473 sec)\n"
     ]
    },
    {
     "name": "stderr",
     "output_type": "stream",
     "text": [
      "INFO:tensorflow:loss = 1.7019994, step = 1100 (0.473 sec)\n"
     ]
    },
    {
     "name": "stdout",
     "output_type": "stream",
     "text": [
      "INFO:tensorflow:global_step/sec: 218.76\n"
     ]
    },
    {
     "name": "stderr",
     "output_type": "stream",
     "text": [
      "INFO:tensorflow:global_step/sec: 218.76\n"
     ]
    },
    {
     "name": "stdout",
     "output_type": "stream",
     "text": [
      "INFO:tensorflow:loss = 1.512774, step = 1200 (0.462 sec)\n"
     ]
    },
    {
     "name": "stderr",
     "output_type": "stream",
     "text": [
      "INFO:tensorflow:loss = 1.512774, step = 1200 (0.462 sec)\n"
     ]
    },
    {
     "name": "stdout",
     "output_type": "stream",
     "text": [
      "INFO:tensorflow:global_step/sec: 225.086\n"
     ]
    },
    {
     "name": "stderr",
     "output_type": "stream",
     "text": [
      "INFO:tensorflow:global_step/sec: 225.086\n"
     ]
    },
    {
     "name": "stdout",
     "output_type": "stream",
     "text": [
      "INFO:tensorflow:loss = 1.4816102, step = 1300 (0.449 sec)\n"
     ]
    },
    {
     "name": "stderr",
     "output_type": "stream",
     "text": [
      "INFO:tensorflow:loss = 1.4816102, step = 1300 (0.449 sec)\n"
     ]
    },
    {
     "name": "stdout",
     "output_type": "stream",
     "text": [
      "INFO:tensorflow:global_step/sec: 223.316\n"
     ]
    },
    {
     "name": "stderr",
     "output_type": "stream",
     "text": [
      "INFO:tensorflow:global_step/sec: 223.316\n"
     ]
    },
    {
     "name": "stdout",
     "output_type": "stream",
     "text": [
      "INFO:tensorflow:loss = 1.4856772, step = 1400 (0.443 sec)\n"
     ]
    },
    {
     "name": "stderr",
     "output_type": "stream",
     "text": [
      "INFO:tensorflow:loss = 1.4856772, step = 1400 (0.443 sec)\n"
     ]
    },
    {
     "name": "stdout",
     "output_type": "stream",
     "text": [
      "INFO:tensorflow:global_step/sec: 229.838\n"
     ]
    },
    {
     "name": "stderr",
     "output_type": "stream",
     "text": [
      "INFO:tensorflow:global_step/sec: 229.838\n"
     ]
    },
    {
     "name": "stdout",
     "output_type": "stream",
     "text": [
      "INFO:tensorflow:loss = 1.4526641, step = 1500 (0.434 sec)\n"
     ]
    },
    {
     "name": "stderr",
     "output_type": "stream",
     "text": [
      "INFO:tensorflow:loss = 1.4526641, step = 1500 (0.434 sec)\n"
     ]
    },
    {
     "name": "stdout",
     "output_type": "stream",
     "text": [
      "INFO:tensorflow:global_step/sec: 225.186\n"
     ]
    },
    {
     "name": "stderr",
     "output_type": "stream",
     "text": [
      "INFO:tensorflow:global_step/sec: 225.186\n"
     ]
    },
    {
     "name": "stdout",
     "output_type": "stream",
     "text": [
      "INFO:tensorflow:loss = 1.4749149, step = 1600 (0.443 sec)\n"
     ]
    },
    {
     "name": "stderr",
     "output_type": "stream",
     "text": [
      "INFO:tensorflow:loss = 1.4749149, step = 1600 (0.443 sec)\n"
     ]
    },
    {
     "name": "stdout",
     "output_type": "stream",
     "text": [
      "INFO:tensorflow:global_step/sec: 220.043\n"
     ]
    },
    {
     "name": "stderr",
     "output_type": "stream",
     "text": [
      "INFO:tensorflow:global_step/sec: 220.043\n"
     ]
    },
    {
     "name": "stdout",
     "output_type": "stream",
     "text": [
      "INFO:tensorflow:loss = 1.5992727, step = 1700 (0.457 sec)\n"
     ]
    },
    {
     "name": "stderr",
     "output_type": "stream",
     "text": [
      "INFO:tensorflow:loss = 1.5992727, step = 1700 (0.457 sec)\n"
     ]
    },
    {
     "name": "stdout",
     "output_type": "stream",
     "text": [
      "INFO:tensorflow:global_step/sec: 439.173\n"
     ]
    },
    {
     "name": "stderr",
     "output_type": "stream",
     "text": [
      "INFO:tensorflow:global_step/sec: 439.173\n"
     ]
    },
    {
     "name": "stdout",
     "output_type": "stream",
     "text": [
      "INFO:tensorflow:loss = 1.4342227, step = 1800 (0.228 sec)\n"
     ]
    },
    {
     "name": "stderr",
     "output_type": "stream",
     "text": [
      "INFO:tensorflow:loss = 1.4342227, step = 1800 (0.228 sec)\n"
     ]
    },
    {
     "name": "stdout",
     "output_type": "stream",
     "text": [
      "INFO:tensorflow:global_step/sec: 132.671\n"
     ]
    },
    {
     "name": "stderr",
     "output_type": "stream",
     "text": [
      "INFO:tensorflow:global_step/sec: 132.671\n"
     ]
    },
    {
     "name": "stdout",
     "output_type": "stream",
     "text": [
      "INFO:tensorflow:loss = 1.4406226, step = 1900 (0.751 sec)\n"
     ]
    },
    {
     "name": "stderr",
     "output_type": "stream",
     "text": [
      "INFO:tensorflow:loss = 1.4406226, step = 1900 (0.751 sec)\n"
     ]
    },
    {
     "name": "stdout",
     "output_type": "stream",
     "text": [
      "INFO:tensorflow:global_step/sec: 223.018\n"
     ]
    },
    {
     "name": "stderr",
     "output_type": "stream",
     "text": [
      "INFO:tensorflow:global_step/sec: 223.018\n"
     ]
    },
    {
     "name": "stdout",
     "output_type": "stream",
     "text": [
      "INFO:tensorflow:loss = 1.2350149, step = 2000 (0.452 sec)\n"
     ]
    },
    {
     "name": "stderr",
     "output_type": "stream",
     "text": [
      "INFO:tensorflow:loss = 1.2350149, step = 2000 (0.452 sec)\n"
     ]
    },
    {
     "name": "stdout",
     "output_type": "stream",
     "text": [
      "INFO:tensorflow:global_step/sec: 217.987\n"
     ]
    },
    {
     "name": "stderr",
     "output_type": "stream",
     "text": [
      "INFO:tensorflow:global_step/sec: 217.987\n"
     ]
    },
    {
     "name": "stdout",
     "output_type": "stream",
     "text": [
      "INFO:tensorflow:loss = 1.2060045, step = 2100 (0.457 sec)\n"
     ]
    },
    {
     "name": "stderr",
     "output_type": "stream",
     "text": [
      "INFO:tensorflow:loss = 1.2060045, step = 2100 (0.457 sec)\n"
     ]
    },
    {
     "name": "stdout",
     "output_type": "stream",
     "text": [
      "INFO:tensorflow:global_step/sec: 211.168\n"
     ]
    },
    {
     "name": "stderr",
     "output_type": "stream",
     "text": [
      "INFO:tensorflow:global_step/sec: 211.168\n"
     ]
    },
    {
     "name": "stdout",
     "output_type": "stream",
     "text": [
      "INFO:tensorflow:loss = 1.1069894, step = 2200 (0.471 sec)\n"
     ]
    },
    {
     "name": "stderr",
     "output_type": "stream",
     "text": [
      "INFO:tensorflow:loss = 1.1069894, step = 2200 (0.471 sec)\n"
     ]
    },
    {
     "name": "stdout",
     "output_type": "stream",
     "text": [
      "INFO:tensorflow:global_step/sec: 214.55\n"
     ]
    },
    {
     "name": "stderr",
     "output_type": "stream",
     "text": [
      "INFO:tensorflow:global_step/sec: 214.55\n"
     ]
    },
    {
     "name": "stdout",
     "output_type": "stream",
     "text": [
      "INFO:tensorflow:loss = 1.324478, step = 2300 (0.470 sec)\n"
     ]
    },
    {
     "name": "stderr",
     "output_type": "stream",
     "text": [
      "INFO:tensorflow:loss = 1.324478, step = 2300 (0.470 sec)\n"
     ]
    },
    {
     "name": "stdout",
     "output_type": "stream",
     "text": [
      "INFO:tensorflow:global_step/sec: 232.788\n"
     ]
    },
    {
     "name": "stderr",
     "output_type": "stream",
     "text": [
      "INFO:tensorflow:global_step/sec: 232.788\n"
     ]
    },
    {
     "name": "stdout",
     "output_type": "stream",
     "text": [
      "INFO:tensorflow:loss = 1.3372977, step = 2400 (0.429 sec)\n"
     ]
    },
    {
     "name": "stderr",
     "output_type": "stream",
     "text": [
      "INFO:tensorflow:loss = 1.3372977, step = 2400 (0.429 sec)\n"
     ]
    },
    {
     "name": "stdout",
     "output_type": "stream",
     "text": [
      "INFO:tensorflow:global_step/sec: 238.582\n"
     ]
    },
    {
     "name": "stderr",
     "output_type": "stream",
     "text": [
      "INFO:tensorflow:global_step/sec: 238.582\n"
     ]
    },
    {
     "name": "stdout",
     "output_type": "stream",
     "text": [
      "INFO:tensorflow:loss = 1.1117249, step = 2500 (0.415 sec)\n"
     ]
    },
    {
     "name": "stderr",
     "output_type": "stream",
     "text": [
      "INFO:tensorflow:loss = 1.1117249, step = 2500 (0.415 sec)\n"
     ]
    },
    {
     "name": "stdout",
     "output_type": "stream",
     "text": [
      "INFO:tensorflow:global_step/sec: 216.717\n"
     ]
    },
    {
     "name": "stderr",
     "output_type": "stream",
     "text": [
      "INFO:tensorflow:global_step/sec: 216.717\n"
     ]
    },
    {
     "name": "stdout",
     "output_type": "stream",
     "text": [
      "INFO:tensorflow:loss = 1.1053987, step = 2600 (0.465 sec)\n"
     ]
    },
    {
     "name": "stderr",
     "output_type": "stream",
     "text": [
      "INFO:tensorflow:loss = 1.1053987, step = 2600 (0.465 sec)\n"
     ]
    },
    {
     "name": "stdout",
     "output_type": "stream",
     "text": [
      "INFO:tensorflow:global_step/sec: 316.238\n"
     ]
    },
    {
     "name": "stderr",
     "output_type": "stream",
     "text": [
      "INFO:tensorflow:global_step/sec: 316.238\n"
     ]
    },
    {
     "name": "stdout",
     "output_type": "stream",
     "text": [
      "INFO:tensorflow:loss = 1.0833194, step = 2700 (0.315 sec)\n"
     ]
    },
    {
     "name": "stderr",
     "output_type": "stream",
     "text": [
      "INFO:tensorflow:loss = 1.0833194, step = 2700 (0.315 sec)\n"
     ]
    },
    {
     "name": "stdout",
     "output_type": "stream",
     "text": [
      "INFO:tensorflow:global_step/sec: 551.945\n"
     ]
    },
    {
     "name": "stderr",
     "output_type": "stream",
     "text": [
      "INFO:tensorflow:global_step/sec: 551.945\n"
     ]
    },
    {
     "name": "stdout",
     "output_type": "stream",
     "text": [
      "INFO:tensorflow:loss = 1.1229191, step = 2800 (0.184 sec)\n"
     ]
    },
    {
     "name": "stderr",
     "output_type": "stream",
     "text": [
      "INFO:tensorflow:loss = 1.1229191, step = 2800 (0.184 sec)\n"
     ]
    },
    {
     "name": "stdout",
     "output_type": "stream",
     "text": [
      "INFO:tensorflow:global_step/sec: 115.52\n"
     ]
    },
    {
     "name": "stderr",
     "output_type": "stream",
     "text": [
      "INFO:tensorflow:global_step/sec: 115.52\n"
     ]
    },
    {
     "name": "stdout",
     "output_type": "stream",
     "text": [
      "INFO:tensorflow:loss = 1.1438639, step = 2900 (0.866 sec)\n"
     ]
    },
    {
     "name": "stderr",
     "output_type": "stream",
     "text": [
      "INFO:tensorflow:loss = 1.1438639, step = 2900 (0.866 sec)\n"
     ]
    },
    {
     "name": "stdout",
     "output_type": "stream",
     "text": [
      "INFO:tensorflow:global_step/sec: 230.742\n"
     ]
    },
    {
     "name": "stderr",
     "output_type": "stream",
     "text": [
      "INFO:tensorflow:global_step/sec: 230.742\n"
     ]
    },
    {
     "name": "stdout",
     "output_type": "stream",
     "text": [
      "INFO:tensorflow:loss = 1.1617831, step = 3000 (0.432 sec)\n"
     ]
    },
    {
     "name": "stderr",
     "output_type": "stream",
     "text": [
      "INFO:tensorflow:loss = 1.1617831, step = 3000 (0.432 sec)\n"
     ]
    },
    {
     "name": "stdout",
     "output_type": "stream",
     "text": [
      "INFO:tensorflow:global_step/sec: 228.272\n"
     ]
    },
    {
     "name": "stderr",
     "output_type": "stream",
     "text": [
      "INFO:tensorflow:global_step/sec: 228.272\n"
     ]
    },
    {
     "name": "stdout",
     "output_type": "stream",
     "text": [
      "INFO:tensorflow:loss = 1.0059978, step = 3100 (0.438 sec)\n"
     ]
    },
    {
     "name": "stderr",
     "output_type": "stream",
     "text": [
      "INFO:tensorflow:loss = 1.0059978, step = 3100 (0.438 sec)\n"
     ]
    },
    {
     "name": "stdout",
     "output_type": "stream",
     "text": [
      "INFO:tensorflow:global_step/sec: 222.86\n"
     ]
    },
    {
     "name": "stderr",
     "output_type": "stream",
     "text": [
      "INFO:tensorflow:global_step/sec: 222.86\n"
     ]
    },
    {
     "name": "stdout",
     "output_type": "stream",
     "text": [
      "INFO:tensorflow:loss = 1.1578555, step = 3200 (0.458 sec)\n"
     ]
    },
    {
     "name": "stderr",
     "output_type": "stream",
     "text": [
      "INFO:tensorflow:loss = 1.1578555, step = 3200 (0.458 sec)\n"
     ]
    },
    {
     "name": "stdout",
     "output_type": "stream",
     "text": [
      "INFO:tensorflow:global_step/sec: 198.68\n"
     ]
    },
    {
     "name": "stderr",
     "output_type": "stream",
     "text": [
      "INFO:tensorflow:global_step/sec: 198.68\n"
     ]
    },
    {
     "name": "stdout",
     "output_type": "stream",
     "text": [
      "INFO:tensorflow:loss = 1.1141335, step = 3300 (0.496 sec)\n"
     ]
    },
    {
     "name": "stderr",
     "output_type": "stream",
     "text": [
      "INFO:tensorflow:loss = 1.1141335, step = 3300 (0.496 sec)\n"
     ]
    },
    {
     "name": "stdout",
     "output_type": "stream",
     "text": [
      "INFO:tensorflow:global_step/sec: 233.147\n"
     ]
    },
    {
     "name": "stderr",
     "output_type": "stream",
     "text": [
      "INFO:tensorflow:global_step/sec: 233.147\n"
     ]
    },
    {
     "name": "stdout",
     "output_type": "stream",
     "text": [
      "INFO:tensorflow:loss = 1.0701411, step = 3400 (0.423 sec)\n"
     ]
    },
    {
     "name": "stderr",
     "output_type": "stream",
     "text": [
      "INFO:tensorflow:loss = 1.0701411, step = 3400 (0.423 sec)\n"
     ]
    },
    {
     "name": "stdout",
     "output_type": "stream",
     "text": [
      "INFO:tensorflow:global_step/sec: 224.983\n"
     ]
    },
    {
     "name": "stderr",
     "output_type": "stream",
     "text": [
      "INFO:tensorflow:global_step/sec: 224.983\n"
     ]
    },
    {
     "name": "stdout",
     "output_type": "stream",
     "text": [
      "INFO:tensorflow:loss = 0.9100093, step = 3500 (0.451 sec)\n"
     ]
    },
    {
     "name": "stderr",
     "output_type": "stream",
     "text": [
      "INFO:tensorflow:loss = 0.9100093, step = 3500 (0.451 sec)\n"
     ]
    },
    {
     "name": "stdout",
     "output_type": "stream",
     "text": [
      "INFO:tensorflow:global_step/sec: 234.928\n"
     ]
    },
    {
     "name": "stderr",
     "output_type": "stream",
     "text": [
      "INFO:tensorflow:global_step/sec: 234.928\n"
     ]
    },
    {
     "name": "stdout",
     "output_type": "stream",
     "text": [
      "INFO:tensorflow:loss = 0.9581045, step = 3600 (0.424 sec)\n"
     ]
    },
    {
     "name": "stderr",
     "output_type": "stream",
     "text": [
      "INFO:tensorflow:loss = 0.9581045, step = 3600 (0.424 sec)\n"
     ]
    },
    {
     "name": "stdout",
     "output_type": "stream",
     "text": [
      "INFO:tensorflow:global_step/sec: 599.988\n"
     ]
    },
    {
     "name": "stderr",
     "output_type": "stream",
     "text": [
      "INFO:tensorflow:global_step/sec: 599.988\n"
     ]
    },
    {
     "name": "stdout",
     "output_type": "stream",
     "text": [
      "INFO:tensorflow:loss = 0.8914411, step = 3700 (0.167 sec)\n"
     ]
    },
    {
     "name": "stderr",
     "output_type": "stream",
     "text": [
      "INFO:tensorflow:loss = 0.8914411, step = 3700 (0.167 sec)\n"
     ]
    },
    {
     "name": "stdout",
     "output_type": "stream",
     "text": [
      "INFO:tensorflow:global_step/sec: 135.303\n"
     ]
    },
    {
     "name": "stderr",
     "output_type": "stream",
     "text": [
      "INFO:tensorflow:global_step/sec: 135.303\n"
     ]
    },
    {
     "name": "stdout",
     "output_type": "stream",
     "text": [
      "INFO:tensorflow:loss = 1.0161479, step = 3800 (0.743 sec)\n"
     ]
    },
    {
     "name": "stderr",
     "output_type": "stream",
     "text": [
      "INFO:tensorflow:loss = 1.0161479, step = 3800 (0.743 sec)\n"
     ]
    },
    {
     "name": "stdout",
     "output_type": "stream",
     "text": [
      "INFO:tensorflow:global_step/sec: 206.418\n"
     ]
    },
    {
     "name": "stderr",
     "output_type": "stream",
     "text": [
      "INFO:tensorflow:global_step/sec: 206.418\n"
     ]
    },
    {
     "name": "stdout",
     "output_type": "stream",
     "text": [
      "INFO:tensorflow:loss = 0.9911691, step = 3900 (0.481 sec)\n"
     ]
    },
    {
     "name": "stderr",
     "output_type": "stream",
     "text": [
      "INFO:tensorflow:loss = 0.9911691, step = 3900 (0.481 sec)\n"
     ]
    },
    {
     "name": "stdout",
     "output_type": "stream",
     "text": [
      "INFO:tensorflow:global_step/sec: 227.25\n"
     ]
    },
    {
     "name": "stderr",
     "output_type": "stream",
     "text": [
      "INFO:tensorflow:global_step/sec: 227.25\n"
     ]
    },
    {
     "name": "stdout",
     "output_type": "stream",
     "text": [
      "INFO:tensorflow:loss = 0.9545077, step = 4000 (0.441 sec)\n"
     ]
    },
    {
     "name": "stderr",
     "output_type": "stream",
     "text": [
      "INFO:tensorflow:loss = 0.9545077, step = 4000 (0.441 sec)\n"
     ]
    },
    {
     "name": "stdout",
     "output_type": "stream",
     "text": [
      "INFO:tensorflow:global_step/sec: 215.987\n"
     ]
    },
    {
     "name": "stderr",
     "output_type": "stream",
     "text": [
      "INFO:tensorflow:global_step/sec: 215.987\n"
     ]
    },
    {
     "name": "stdout",
     "output_type": "stream",
     "text": [
      "INFO:tensorflow:loss = 0.91195387, step = 4100 (0.459 sec)\n"
     ]
    },
    {
     "name": "stderr",
     "output_type": "stream",
     "text": [
      "INFO:tensorflow:loss = 0.91195387, step = 4100 (0.459 sec)\n"
     ]
    },
    {
     "name": "stdout",
     "output_type": "stream",
     "text": [
      "INFO:tensorflow:global_step/sec: 209.622\n"
     ]
    },
    {
     "name": "stderr",
     "output_type": "stream",
     "text": [
      "INFO:tensorflow:global_step/sec: 209.622\n"
     ]
    },
    {
     "name": "stdout",
     "output_type": "stream",
     "text": [
      "INFO:tensorflow:loss = 0.96547586, step = 4200 (0.479 sec)\n"
     ]
    },
    {
     "name": "stderr",
     "output_type": "stream",
     "text": [
      "INFO:tensorflow:loss = 0.96547586, step = 4200 (0.479 sec)\n"
     ]
    },
    {
     "name": "stdout",
     "output_type": "stream",
     "text": [
      "INFO:tensorflow:global_step/sec: 228.27\n"
     ]
    },
    {
     "name": "stderr",
     "output_type": "stream",
     "text": [
      "INFO:tensorflow:global_step/sec: 228.27\n"
     ]
    },
    {
     "name": "stdout",
     "output_type": "stream",
     "text": [
      "INFO:tensorflow:loss = 0.8703232, step = 4300 (0.432 sec)\n"
     ]
    },
    {
     "name": "stderr",
     "output_type": "stream",
     "text": [
      "INFO:tensorflow:loss = 0.8703232, step = 4300 (0.432 sec)\n"
     ]
    },
    {
     "name": "stdout",
     "output_type": "stream",
     "text": [
      "INFO:tensorflow:global_step/sec: 205.843\n"
     ]
    },
    {
     "name": "stderr",
     "output_type": "stream",
     "text": [
      "INFO:tensorflow:global_step/sec: 205.843\n"
     ]
    },
    {
     "name": "stdout",
     "output_type": "stream",
     "text": [
      "INFO:tensorflow:loss = 1.0104941, step = 4400 (0.491 sec)\n"
     ]
    },
    {
     "name": "stderr",
     "output_type": "stream",
     "text": [
      "INFO:tensorflow:loss = 1.0104941, step = 4400 (0.491 sec)\n"
     ]
    },
    {
     "name": "stdout",
     "output_type": "stream",
     "text": [
      "INFO:tensorflow:global_step/sec: 238.676\n"
     ]
    },
    {
     "name": "stderr",
     "output_type": "stream",
     "text": [
      "INFO:tensorflow:global_step/sec: 238.676\n"
     ]
    },
    {
     "name": "stdout",
     "output_type": "stream",
     "text": [
      "INFO:tensorflow:loss = 0.9325938, step = 4500 (0.416 sec)\n"
     ]
    },
    {
     "name": "stderr",
     "output_type": "stream",
     "text": [
      "INFO:tensorflow:loss = 0.9325938, step = 4500 (0.416 sec)\n"
     ]
    },
    {
     "name": "stdout",
     "output_type": "stream",
     "text": [
      "INFO:tensorflow:global_step/sec: 375.965\n"
     ]
    },
    {
     "name": "stderr",
     "output_type": "stream",
     "text": [
      "INFO:tensorflow:global_step/sec: 375.965\n"
     ]
    },
    {
     "name": "stdout",
     "output_type": "stream",
     "text": [
      "INFO:tensorflow:loss = 0.96098614, step = 4600 (0.268 sec)\n"
     ]
    },
    {
     "name": "stderr",
     "output_type": "stream",
     "text": [
      "INFO:tensorflow:loss = 0.96098614, step = 4600 (0.268 sec)\n"
     ]
    },
    {
     "name": "stdout",
     "output_type": "stream",
     "text": [
      "INFO:tensorflow:global_step/sec: 157.483\n"
     ]
    },
    {
     "name": "stderr",
     "output_type": "stream",
     "text": [
      "INFO:tensorflow:global_step/sec: 157.483\n"
     ]
    },
    {
     "name": "stdout",
     "output_type": "stream",
     "text": [
      "INFO:tensorflow:loss = 0.9628675, step = 4700 (0.639 sec)\n"
     ]
    },
    {
     "name": "stderr",
     "output_type": "stream",
     "text": [
      "INFO:tensorflow:loss = 0.9628675, step = 4700 (0.639 sec)\n"
     ]
    },
    {
     "name": "stdout",
     "output_type": "stream",
     "text": [
      "INFO:tensorflow:global_step/sec: 211.131\n"
     ]
    },
    {
     "name": "stderr",
     "output_type": "stream",
     "text": [
      "INFO:tensorflow:global_step/sec: 211.131\n"
     ]
    },
    {
     "name": "stdout",
     "output_type": "stream",
     "text": [
      "INFO:tensorflow:loss = 0.80773365, step = 4800 (0.476 sec)\n"
     ]
    },
    {
     "name": "stderr",
     "output_type": "stream",
     "text": [
      "INFO:tensorflow:loss = 0.80773365, step = 4800 (0.476 sec)\n"
     ]
    },
    {
     "name": "stdout",
     "output_type": "stream",
     "text": [
      "INFO:tensorflow:global_step/sec: 218.831\n"
     ]
    },
    {
     "name": "stderr",
     "output_type": "stream",
     "text": [
      "INFO:tensorflow:global_step/sec: 218.831\n"
     ]
    },
    {
     "name": "stdout",
     "output_type": "stream",
     "text": [
      "INFO:tensorflow:loss = 0.81908035, step = 4900 (0.453 sec)\n"
     ]
    },
    {
     "name": "stderr",
     "output_type": "stream",
     "text": [
      "INFO:tensorflow:loss = 0.81908035, step = 4900 (0.453 sec)\n"
     ]
    },
    {
     "name": "stdout",
     "output_type": "stream",
     "text": [
      "INFO:tensorflow:global_step/sec: 226.224\n"
     ]
    },
    {
     "name": "stderr",
     "output_type": "stream",
     "text": [
      "INFO:tensorflow:global_step/sec: 226.224\n"
     ]
    },
    {
     "name": "stdout",
     "output_type": "stream",
     "text": [
      "INFO:tensorflow:loss = 0.8396338, step = 5000 (0.441 sec)\n"
     ]
    },
    {
     "name": "stderr",
     "output_type": "stream",
     "text": [
      "INFO:tensorflow:loss = 0.8396338, step = 5000 (0.441 sec)\n"
     ]
    },
    {
     "name": "stdout",
     "output_type": "stream",
     "text": [
      "INFO:tensorflow:global_step/sec: 225.081\n"
     ]
    },
    {
     "name": "stderr",
     "output_type": "stream",
     "text": [
      "INFO:tensorflow:global_step/sec: 225.081\n"
     ]
    },
    {
     "name": "stdout",
     "output_type": "stream",
     "text": [
      "INFO:tensorflow:loss = 0.75531834, step = 5100 (0.446 sec)\n"
     ]
    },
    {
     "name": "stderr",
     "output_type": "stream",
     "text": [
      "INFO:tensorflow:loss = 0.75531834, step = 5100 (0.446 sec)\n"
     ]
    },
    {
     "name": "stdout",
     "output_type": "stream",
     "text": [
      "INFO:tensorflow:global_step/sec: 236.788\n"
     ]
    },
    {
     "name": "stderr",
     "output_type": "stream",
     "text": [
      "INFO:tensorflow:global_step/sec: 236.788\n"
     ]
    },
    {
     "name": "stdout",
     "output_type": "stream",
     "text": [
      "INFO:tensorflow:loss = 1.0536635, step = 5200 (0.419 sec)\n"
     ]
    },
    {
     "name": "stderr",
     "output_type": "stream",
     "text": [
      "INFO:tensorflow:loss = 1.0536635, step = 5200 (0.419 sec)\n"
     ]
    },
    {
     "name": "stdout",
     "output_type": "stream",
     "text": [
      "INFO:tensorflow:global_step/sec: 224.989\n"
     ]
    },
    {
     "name": "stderr",
     "output_type": "stream",
     "text": [
      "INFO:tensorflow:global_step/sec: 224.989\n"
     ]
    },
    {
     "name": "stdout",
     "output_type": "stream",
     "text": [
      "INFO:tensorflow:loss = 0.83747596, step = 5300 (0.448 sec)\n"
     ]
    },
    {
     "name": "stderr",
     "output_type": "stream",
     "text": [
      "INFO:tensorflow:loss = 0.83747596, step = 5300 (0.448 sec)\n"
     ]
    },
    {
     "name": "stdout",
     "output_type": "stream",
     "text": [
      "INFO:tensorflow:global_step/sec: 230.378\n"
     ]
    },
    {
     "name": "stderr",
     "output_type": "stream",
     "text": [
      "INFO:tensorflow:global_step/sec: 230.378\n"
     ]
    },
    {
     "name": "stdout",
     "output_type": "stream",
     "text": [
      "INFO:tensorflow:loss = 0.81304145, step = 5400 (0.428 sec)\n"
     ]
    },
    {
     "name": "stderr",
     "output_type": "stream",
     "text": [
      "INFO:tensorflow:loss = 0.81304145, step = 5400 (0.428 sec)\n"
     ]
    },
    {
     "name": "stdout",
     "output_type": "stream",
     "text": [
      "INFO:tensorflow:global_step/sec: 255.052\n"
     ]
    },
    {
     "name": "stderr",
     "output_type": "stream",
     "text": [
      "INFO:tensorflow:global_step/sec: 255.052\n"
     ]
    },
    {
     "name": "stdout",
     "output_type": "stream",
     "text": [
      "INFO:tensorflow:loss = 0.7569308, step = 5500 (0.397 sec)\n"
     ]
    },
    {
     "name": "stderr",
     "output_type": "stream",
     "text": [
      "INFO:tensorflow:loss = 0.7569308, step = 5500 (0.397 sec)\n"
     ]
    },
    {
     "name": "stdout",
     "output_type": "stream",
     "text": [
      "INFO:tensorflow:global_step/sec: 565.005\n"
     ]
    },
    {
     "name": "stderr",
     "output_type": "stream",
     "text": [
      "INFO:tensorflow:global_step/sec: 565.005\n"
     ]
    },
    {
     "name": "stdout",
     "output_type": "stream",
     "text": [
      "INFO:tensorflow:loss = 0.7676406, step = 5600 (0.178 sec)\n"
     ]
    },
    {
     "name": "stderr",
     "output_type": "stream",
     "text": [
      "INFO:tensorflow:loss = 0.7676406, step = 5600 (0.178 sec)\n"
     ]
    },
    {
     "name": "stdout",
     "output_type": "stream",
     "text": [
      "INFO:tensorflow:global_step/sec: 120.091\n"
     ]
    },
    {
     "name": "stderr",
     "output_type": "stream",
     "text": [
      "INFO:tensorflow:global_step/sec: 120.091\n"
     ]
    },
    {
     "name": "stdout",
     "output_type": "stream",
     "text": [
      "INFO:tensorflow:loss = 0.73345137, step = 5700 (0.832 sec)\n"
     ]
    },
    {
     "name": "stderr",
     "output_type": "stream",
     "text": [
      "INFO:tensorflow:loss = 0.73345137, step = 5700 (0.832 sec)\n"
     ]
    },
    {
     "name": "stdout",
     "output_type": "stream",
     "text": [
      "INFO:tensorflow:global_step/sec: 216.307\n"
     ]
    },
    {
     "name": "stderr",
     "output_type": "stream",
     "text": [
      "INFO:tensorflow:global_step/sec: 216.307\n"
     ]
    },
    {
     "name": "stdout",
     "output_type": "stream",
     "text": [
      "INFO:tensorflow:loss = 0.7290528, step = 5800 (0.456 sec)\n"
     ]
    },
    {
     "name": "stderr",
     "output_type": "stream",
     "text": [
      "INFO:tensorflow:loss = 0.7290528, step = 5800 (0.456 sec)\n"
     ]
    },
    {
     "name": "stdout",
     "output_type": "stream",
     "text": [
      "INFO:tensorflow:global_step/sec: 196.368\n"
     ]
    },
    {
     "name": "stderr",
     "output_type": "stream",
     "text": [
      "INFO:tensorflow:global_step/sec: 196.368\n"
     ]
    },
    {
     "name": "stdout",
     "output_type": "stream",
     "text": [
      "INFO:tensorflow:loss = 0.70942, step = 5900 (0.519 sec)\n"
     ]
    },
    {
     "name": "stderr",
     "output_type": "stream",
     "text": [
      "INFO:tensorflow:loss = 0.70942, step = 5900 (0.519 sec)\n"
     ]
    },
    {
     "name": "stdout",
     "output_type": "stream",
     "text": [
      "INFO:tensorflow:global_step/sec: 211.319\n"
     ]
    },
    {
     "name": "stderr",
     "output_type": "stream",
     "text": [
      "INFO:tensorflow:global_step/sec: 211.319\n"
     ]
    },
    {
     "name": "stdout",
     "output_type": "stream",
     "text": [
      "INFO:tensorflow:loss = 0.6112915, step = 6000 (0.465 sec)\n"
     ]
    },
    {
     "name": "stderr",
     "output_type": "stream",
     "text": [
      "INFO:tensorflow:loss = 0.6112915, step = 6000 (0.465 sec)\n"
     ]
    },
    {
     "name": "stdout",
     "output_type": "stream",
     "text": [
      "INFO:tensorflow:global_step/sec: 206.016\n"
     ]
    },
    {
     "name": "stderr",
     "output_type": "stream",
     "text": [
      "INFO:tensorflow:global_step/sec: 206.016\n"
     ]
    },
    {
     "name": "stdout",
     "output_type": "stream",
     "text": [
      "INFO:tensorflow:loss = 0.76755416, step = 6100 (0.489 sec)\n"
     ]
    },
    {
     "name": "stderr",
     "output_type": "stream",
     "text": [
      "INFO:tensorflow:loss = 0.76755416, step = 6100 (0.489 sec)\n"
     ]
    },
    {
     "name": "stdout",
     "output_type": "stream",
     "text": [
      "INFO:tensorflow:global_step/sec: 209.682\n"
     ]
    },
    {
     "name": "stderr",
     "output_type": "stream",
     "text": [
      "INFO:tensorflow:global_step/sec: 209.682\n"
     ]
    },
    {
     "name": "stdout",
     "output_type": "stream",
     "text": [
      "INFO:tensorflow:loss = 0.8530185, step = 6200 (0.482 sec)\n"
     ]
    },
    {
     "name": "stderr",
     "output_type": "stream",
     "text": [
      "INFO:tensorflow:loss = 0.8530185, step = 6200 (0.482 sec)\n"
     ]
    },
    {
     "name": "stdout",
     "output_type": "stream",
     "text": [
      "INFO:tensorflow:global_step/sec: 215.28\n"
     ]
    },
    {
     "name": "stderr",
     "output_type": "stream",
     "text": [
      "INFO:tensorflow:global_step/sec: 215.28\n"
     ]
    },
    {
     "name": "stdout",
     "output_type": "stream",
     "text": [
      "INFO:tensorflow:loss = 0.81921756, step = 6300 (0.458 sec)\n"
     ]
    },
    {
     "name": "stderr",
     "output_type": "stream",
     "text": [
      "INFO:tensorflow:loss = 0.81921756, step = 6300 (0.458 sec)\n"
     ]
    },
    {
     "name": "stdout",
     "output_type": "stream",
     "text": [
      "INFO:tensorflow:global_step/sec: 205.154\n"
     ]
    },
    {
     "name": "stderr",
     "output_type": "stream",
     "text": [
      "INFO:tensorflow:global_step/sec: 205.154\n"
     ]
    },
    {
     "name": "stdout",
     "output_type": "stream",
     "text": [
      "INFO:tensorflow:loss = 0.67383325, step = 6400 (0.483 sec)\n"
     ]
    },
    {
     "name": "stderr",
     "output_type": "stream",
     "text": [
      "INFO:tensorflow:loss = 0.67383325, step = 6400 (0.483 sec)\n"
     ]
    },
    {
     "name": "stdout",
     "output_type": "stream",
     "text": [
      "INFO:tensorflow:global_step/sec: 524.24\n"
     ]
    },
    {
     "name": "stderr",
     "output_type": "stream",
     "text": [
      "INFO:tensorflow:global_step/sec: 524.24\n"
     ]
    },
    {
     "name": "stdout",
     "output_type": "stream",
     "text": [
      "INFO:tensorflow:loss = 0.76382244, step = 6500 (0.196 sec)\n"
     ]
    },
    {
     "name": "stderr",
     "output_type": "stream",
     "text": [
      "INFO:tensorflow:loss = 0.76382244, step = 6500 (0.196 sec)\n"
     ]
    },
    {
     "name": "stdout",
     "output_type": "stream",
     "text": [
      "INFO:tensorflow:global_step/sec: 133.909\n"
     ]
    },
    {
     "name": "stderr",
     "output_type": "stream",
     "text": [
      "INFO:tensorflow:global_step/sec: 133.909\n"
     ]
    },
    {
     "name": "stdout",
     "output_type": "stream",
     "text": [
      "INFO:tensorflow:loss = 0.7451001, step = 6600 (0.741 sec)\n"
     ]
    },
    {
     "name": "stderr",
     "output_type": "stream",
     "text": [
      "INFO:tensorflow:loss = 0.7451001, step = 6600 (0.741 sec)\n"
     ]
    },
    {
     "name": "stdout",
     "output_type": "stream",
     "text": [
      "INFO:tensorflow:global_step/sec: 230.904\n"
     ]
    },
    {
     "name": "stderr",
     "output_type": "stream",
     "text": [
      "INFO:tensorflow:global_step/sec: 230.904\n"
     ]
    },
    {
     "name": "stdout",
     "output_type": "stream",
     "text": [
      "INFO:tensorflow:loss = 0.59201264, step = 6700 (0.434 sec)\n"
     ]
    },
    {
     "name": "stderr",
     "output_type": "stream",
     "text": [
      "INFO:tensorflow:loss = 0.59201264, step = 6700 (0.434 sec)\n"
     ]
    },
    {
     "name": "stdout",
     "output_type": "stream",
     "text": [
      "INFO:tensorflow:global_step/sec: 217.937\n"
     ]
    },
    {
     "name": "stderr",
     "output_type": "stream",
     "text": [
      "INFO:tensorflow:global_step/sec: 217.937\n"
     ]
    },
    {
     "name": "stdout",
     "output_type": "stream",
     "text": [
      "INFO:tensorflow:loss = 0.7262721, step = 6800 (0.464 sec)\n"
     ]
    },
    {
     "name": "stderr",
     "output_type": "stream",
     "text": [
      "INFO:tensorflow:loss = 0.7262721, step = 6800 (0.464 sec)\n"
     ]
    },
    {
     "name": "stdout",
     "output_type": "stream",
     "text": [
      "INFO:tensorflow:global_step/sec: 232.434\n"
     ]
    },
    {
     "name": "stderr",
     "output_type": "stream",
     "text": [
      "INFO:tensorflow:global_step/sec: 232.434\n"
     ]
    },
    {
     "name": "stdout",
     "output_type": "stream",
     "text": [
      "INFO:tensorflow:loss = 0.76876795, step = 6900 (0.434 sec)\n"
     ]
    },
    {
     "name": "stderr",
     "output_type": "stream",
     "text": [
      "INFO:tensorflow:loss = 0.76876795, step = 6900 (0.434 sec)\n"
     ]
    },
    {
     "name": "stdout",
     "output_type": "stream",
     "text": [
      "INFO:tensorflow:global_step/sec: 224.232\n"
     ]
    },
    {
     "name": "stderr",
     "output_type": "stream",
     "text": [
      "INFO:tensorflow:global_step/sec: 224.232\n"
     ]
    },
    {
     "name": "stdout",
     "output_type": "stream",
     "text": [
      "INFO:tensorflow:loss = 0.584154, step = 7000 (0.449 sec)\n"
     ]
    },
    {
     "name": "stderr",
     "output_type": "stream",
     "text": [
      "INFO:tensorflow:loss = 0.584154, step = 7000 (0.449 sec)\n"
     ]
    },
    {
     "name": "stdout",
     "output_type": "stream",
     "text": [
      "INFO:tensorflow:global_step/sec: 219.346\n"
     ]
    },
    {
     "name": "stderr",
     "output_type": "stream",
     "text": [
      "INFO:tensorflow:global_step/sec: 219.346\n"
     ]
    },
    {
     "name": "stdout",
     "output_type": "stream",
     "text": [
      "INFO:tensorflow:loss = 0.6997892, step = 7100 (0.452 sec)\n"
     ]
    },
    {
     "name": "stderr",
     "output_type": "stream",
     "text": [
      "INFO:tensorflow:loss = 0.6997892, step = 7100 (0.452 sec)\n"
     ]
    },
    {
     "name": "stdout",
     "output_type": "stream",
     "text": [
      "INFO:tensorflow:global_step/sec: 198.736\n"
     ]
    },
    {
     "name": "stderr",
     "output_type": "stream",
     "text": [
      "INFO:tensorflow:global_step/sec: 198.736\n"
     ]
    },
    {
     "name": "stdout",
     "output_type": "stream",
     "text": [
      "INFO:tensorflow:loss = 0.7601476, step = 7200 (0.496 sec)\n"
     ]
    },
    {
     "name": "stderr",
     "output_type": "stream",
     "text": [
      "INFO:tensorflow:loss = 0.7601476, step = 7200 (0.496 sec)\n"
     ]
    },
    {
     "name": "stdout",
     "output_type": "stream",
     "text": [
      "INFO:tensorflow:global_step/sec: 213.997\n"
     ]
    },
    {
     "name": "stderr",
     "output_type": "stream",
     "text": [
      "INFO:tensorflow:global_step/sec: 213.997\n"
     ]
    },
    {
     "name": "stdout",
     "output_type": "stream",
     "text": [
      "INFO:tensorflow:loss = 0.73153317, step = 7300 (0.466 sec)\n"
     ]
    },
    {
     "name": "stderr",
     "output_type": "stream",
     "text": [
      "INFO:tensorflow:loss = 0.73153317, step = 7300 (0.466 sec)\n"
     ]
    },
    {
     "name": "stdout",
     "output_type": "stream",
     "text": [
      "INFO:tensorflow:global_step/sec: 318.897\n"
     ]
    },
    {
     "name": "stderr",
     "output_type": "stream",
     "text": [
      "INFO:tensorflow:global_step/sec: 318.897\n"
     ]
    },
    {
     "name": "stdout",
     "output_type": "stream",
     "text": [
      "INFO:tensorflow:loss = 0.6580496, step = 7400 (0.322 sec)\n"
     ]
    },
    {
     "name": "stderr",
     "output_type": "stream",
     "text": [
      "INFO:tensorflow:loss = 0.6580496, step = 7400 (0.322 sec)\n"
     ]
    },
    {
     "name": "stdout",
     "output_type": "stream",
     "text": [
      "INFO:tensorflow:global_step/sec: 553.856\n"
     ]
    },
    {
     "name": "stderr",
     "output_type": "stream",
     "text": [
      "INFO:tensorflow:global_step/sec: 553.856\n"
     ]
    },
    {
     "name": "stdout",
     "output_type": "stream",
     "text": [
      "INFO:tensorflow:loss = 0.8717829, step = 7500 (0.181 sec)\n"
     ]
    },
    {
     "name": "stderr",
     "output_type": "stream",
     "text": [
      "INFO:tensorflow:loss = 0.8717829, step = 7500 (0.181 sec)\n"
     ]
    },
    {
     "name": "stdout",
     "output_type": "stream",
     "text": [
      "INFO:tensorflow:global_step/sec: 104.813\n"
     ]
    },
    {
     "name": "stderr",
     "output_type": "stream",
     "text": [
      "INFO:tensorflow:global_step/sec: 104.813\n"
     ]
    },
    {
     "name": "stdout",
     "output_type": "stream",
     "text": [
      "INFO:tensorflow:loss = 0.84641266, step = 7600 (0.951 sec)\n"
     ]
    },
    {
     "name": "stderr",
     "output_type": "stream",
     "text": [
      "INFO:tensorflow:loss = 0.84641266, step = 7600 (0.951 sec)\n"
     ]
    },
    {
     "name": "stdout",
     "output_type": "stream",
     "text": [
      "INFO:tensorflow:global_step/sec: 170.278\n"
     ]
    },
    {
     "name": "stderr",
     "output_type": "stream",
     "text": [
      "INFO:tensorflow:global_step/sec: 170.278\n"
     ]
    },
    {
     "name": "stdout",
     "output_type": "stream",
     "text": [
      "INFO:tensorflow:loss = 0.725089, step = 7700 (0.588 sec)\n"
     ]
    },
    {
     "name": "stderr",
     "output_type": "stream",
     "text": [
      "INFO:tensorflow:loss = 0.725089, step = 7700 (0.588 sec)\n"
     ]
    },
    {
     "name": "stdout",
     "output_type": "stream",
     "text": [
      "INFO:tensorflow:global_step/sec: 164.531\n"
     ]
    },
    {
     "name": "stderr",
     "output_type": "stream",
     "text": [
      "INFO:tensorflow:global_step/sec: 164.531\n"
     ]
    },
    {
     "name": "stdout",
     "output_type": "stream",
     "text": [
      "INFO:tensorflow:loss = 0.6849737, step = 7800 (0.606 sec)\n"
     ]
    },
    {
     "name": "stderr",
     "output_type": "stream",
     "text": [
      "INFO:tensorflow:loss = 0.6849737, step = 7800 (0.606 sec)\n"
     ]
    },
    {
     "name": "stdout",
     "output_type": "stream",
     "text": [
      "INFO:tensorflow:global_step/sec: 215.622\n"
     ]
    },
    {
     "name": "stderr",
     "output_type": "stream",
     "text": [
      "INFO:tensorflow:global_step/sec: 215.622\n"
     ]
    },
    {
     "name": "stdout",
     "output_type": "stream",
     "text": [
      "INFO:tensorflow:loss = 0.60035074, step = 7900 (0.468 sec)\n"
     ]
    },
    {
     "name": "stderr",
     "output_type": "stream",
     "text": [
      "INFO:tensorflow:loss = 0.60035074, step = 7900 (0.468 sec)\n"
     ]
    },
    {
     "name": "stdout",
     "output_type": "stream",
     "text": [
      "INFO:tensorflow:global_step/sec: 210.58\n"
     ]
    },
    {
     "name": "stderr",
     "output_type": "stream",
     "text": [
      "INFO:tensorflow:global_step/sec: 210.58\n"
     ]
    },
    {
     "name": "stdout",
     "output_type": "stream",
     "text": [
      "INFO:tensorflow:loss = 0.69106495, step = 8000 (0.467 sec)\n"
     ]
    },
    {
     "name": "stderr",
     "output_type": "stream",
     "text": [
      "INFO:tensorflow:loss = 0.69106495, step = 8000 (0.467 sec)\n"
     ]
    },
    {
     "name": "stdout",
     "output_type": "stream",
     "text": [
      "INFO:tensorflow:global_step/sec: 218.149\n"
     ]
    },
    {
     "name": "stderr",
     "output_type": "stream",
     "text": [
      "INFO:tensorflow:global_step/sec: 218.149\n"
     ]
    },
    {
     "name": "stdout",
     "output_type": "stream",
     "text": [
      "INFO:tensorflow:loss = 0.7180277, step = 8100 (0.461 sec)\n"
     ]
    },
    {
     "name": "stderr",
     "output_type": "stream",
     "text": [
      "INFO:tensorflow:loss = 0.7180277, step = 8100 (0.461 sec)\n"
     ]
    },
    {
     "name": "stdout",
     "output_type": "stream",
     "text": [
      "INFO:tensorflow:global_step/sec: 225.157\n"
     ]
    },
    {
     "name": "stderr",
     "output_type": "stream",
     "text": [
      "INFO:tensorflow:global_step/sec: 225.157\n"
     ]
    },
    {
     "name": "stdout",
     "output_type": "stream",
     "text": [
      "INFO:tensorflow:loss = 0.62282634, step = 8200 (0.450 sec)\n"
     ]
    },
    {
     "name": "stderr",
     "output_type": "stream",
     "text": [
      "INFO:tensorflow:loss = 0.62282634, step = 8200 (0.450 sec)\n"
     ]
    },
    {
     "name": "stdout",
     "output_type": "stream",
     "text": [
      "INFO:tensorflow:global_step/sec: 243.813\n"
     ]
    },
    {
     "name": "stderr",
     "output_type": "stream",
     "text": [
      "INFO:tensorflow:global_step/sec: 243.813\n"
     ]
    },
    {
     "name": "stdout",
     "output_type": "stream",
     "text": [
      "INFO:tensorflow:loss = 0.5508312, step = 8300 (0.409 sec)\n"
     ]
    },
    {
     "name": "stderr",
     "output_type": "stream",
     "text": [
      "INFO:tensorflow:loss = 0.5508312, step = 8300 (0.409 sec)\n"
     ]
    },
    {
     "name": "stdout",
     "output_type": "stream",
     "text": [
      "INFO:tensorflow:global_step/sec: 605.227\n"
     ]
    },
    {
     "name": "stderr",
     "output_type": "stream",
     "text": [
      "INFO:tensorflow:global_step/sec: 605.227\n"
     ]
    },
    {
     "name": "stdout",
     "output_type": "stream",
     "text": [
      "INFO:tensorflow:loss = 0.7320938, step = 8400 (0.165 sec)\n"
     ]
    },
    {
     "name": "stderr",
     "output_type": "stream",
     "text": [
      "INFO:tensorflow:loss = 0.7320938, step = 8400 (0.165 sec)\n"
     ]
    },
    {
     "name": "stdout",
     "output_type": "stream",
     "text": [
      "INFO:tensorflow:global_step/sec: 125.512\n"
     ]
    },
    {
     "name": "stderr",
     "output_type": "stream",
     "text": [
      "INFO:tensorflow:global_step/sec: 125.512\n"
     ]
    },
    {
     "name": "stdout",
     "output_type": "stream",
     "text": [
      "INFO:tensorflow:loss = 0.70992965, step = 8500 (0.790 sec)\n"
     ]
    },
    {
     "name": "stderr",
     "output_type": "stream",
     "text": [
      "INFO:tensorflow:loss = 0.70992965, step = 8500 (0.790 sec)\n"
     ]
    },
    {
     "name": "stdout",
     "output_type": "stream",
     "text": [
      "INFO:tensorflow:global_step/sec: 211.003\n"
     ]
    },
    {
     "name": "stderr",
     "output_type": "stream",
     "text": [
      "INFO:tensorflow:global_step/sec: 211.003\n"
     ]
    },
    {
     "name": "stdout",
     "output_type": "stream",
     "text": [
      "INFO:tensorflow:loss = 0.6947075, step = 8600 (0.474 sec)\n"
     ]
    },
    {
     "name": "stderr",
     "output_type": "stream",
     "text": [
      "INFO:tensorflow:loss = 0.6947075, step = 8600 (0.474 sec)\n"
     ]
    },
    {
     "name": "stdout",
     "output_type": "stream",
     "text": [
      "INFO:tensorflow:global_step/sec: 218.946\n"
     ]
    },
    {
     "name": "stderr",
     "output_type": "stream",
     "text": [
      "INFO:tensorflow:global_step/sec: 218.946\n"
     ]
    },
    {
     "name": "stdout",
     "output_type": "stream",
     "text": [
      "INFO:tensorflow:loss = 0.5924572, step = 8700 (0.461 sec)\n"
     ]
    },
    {
     "name": "stderr",
     "output_type": "stream",
     "text": [
      "INFO:tensorflow:loss = 0.5924572, step = 8700 (0.461 sec)\n"
     ]
    },
    {
     "name": "stdout",
     "output_type": "stream",
     "text": [
      "INFO:tensorflow:global_step/sec: 225.141\n"
     ]
    },
    {
     "name": "stderr",
     "output_type": "stream",
     "text": [
      "INFO:tensorflow:global_step/sec: 225.141\n"
     ]
    },
    {
     "name": "stdout",
     "output_type": "stream",
     "text": [
      "INFO:tensorflow:loss = 0.6303675, step = 8800 (0.439 sec)\n"
     ]
    },
    {
     "name": "stderr",
     "output_type": "stream",
     "text": [
      "INFO:tensorflow:loss = 0.6303675, step = 8800 (0.439 sec)\n"
     ]
    },
    {
     "name": "stdout",
     "output_type": "stream",
     "text": [
      "INFO:tensorflow:global_step/sec: 230.866\n"
     ]
    },
    {
     "name": "stderr",
     "output_type": "stream",
     "text": [
      "INFO:tensorflow:global_step/sec: 230.866\n"
     ]
    },
    {
     "name": "stdout",
     "output_type": "stream",
     "text": [
      "INFO:tensorflow:loss = 0.52110565, step = 8900 (0.438 sec)\n"
     ]
    },
    {
     "name": "stderr",
     "output_type": "stream",
     "text": [
      "INFO:tensorflow:loss = 0.52110565, step = 8900 (0.438 sec)\n"
     ]
    },
    {
     "name": "stdout",
     "output_type": "stream",
     "text": [
      "INFO:tensorflow:global_step/sec: 227.073\n"
     ]
    },
    {
     "name": "stderr",
     "output_type": "stream",
     "text": [
      "INFO:tensorflow:global_step/sec: 227.073\n"
     ]
    },
    {
     "name": "stdout",
     "output_type": "stream",
     "text": [
      "INFO:tensorflow:loss = 0.6588875, step = 9000 (0.435 sec)\n"
     ]
    },
    {
     "name": "stderr",
     "output_type": "stream",
     "text": [
      "INFO:tensorflow:loss = 0.6588875, step = 9000 (0.435 sec)\n"
     ]
    },
    {
     "name": "stdout",
     "output_type": "stream",
     "text": [
      "INFO:tensorflow:global_step/sec: 218.854\n"
     ]
    },
    {
     "name": "stderr",
     "output_type": "stream",
     "text": [
      "INFO:tensorflow:global_step/sec: 218.854\n"
     ]
    },
    {
     "name": "stdout",
     "output_type": "stream",
     "text": [
      "INFO:tensorflow:loss = 0.47776294, step = 9100 (0.460 sec)\n"
     ]
    },
    {
     "name": "stderr",
     "output_type": "stream",
     "text": [
      "INFO:tensorflow:loss = 0.47776294, step = 9100 (0.460 sec)\n"
     ]
    },
    {
     "name": "stdout",
     "output_type": "stream",
     "text": [
      "INFO:tensorflow:global_step/sec: 209.084\n"
     ]
    },
    {
     "name": "stderr",
     "output_type": "stream",
     "text": [
      "INFO:tensorflow:global_step/sec: 209.084\n"
     ]
    },
    {
     "name": "stdout",
     "output_type": "stream",
     "text": [
      "INFO:tensorflow:loss = 0.7657809, step = 9200 (0.483 sec)\n"
     ]
    },
    {
     "name": "stderr",
     "output_type": "stream",
     "text": [
      "INFO:tensorflow:loss = 0.7657809, step = 9200 (0.483 sec)\n"
     ]
    },
    {
     "name": "stdout",
     "output_type": "stream",
     "text": [
      "INFO:tensorflow:global_step/sec: 384.178\n"
     ]
    },
    {
     "name": "stderr",
     "output_type": "stream",
     "text": [
      "INFO:tensorflow:global_step/sec: 384.178\n"
     ]
    },
    {
     "name": "stdout",
     "output_type": "stream",
     "text": [
      "INFO:tensorflow:loss = 0.69721705, step = 9300 (0.261 sec)\n"
     ]
    },
    {
     "name": "stderr",
     "output_type": "stream",
     "text": [
      "INFO:tensorflow:loss = 0.69721705, step = 9300 (0.261 sec)\n"
     ]
    },
    {
     "name": "stdout",
     "output_type": "stream",
     "text": [
      "INFO:tensorflow:global_step/sec: 141.981\n"
     ]
    },
    {
     "name": "stderr",
     "output_type": "stream",
     "text": [
      "INFO:tensorflow:global_step/sec: 141.981\n"
     ]
    },
    {
     "name": "stdout",
     "output_type": "stream",
     "text": [
      "INFO:tensorflow:loss = 0.67867994, step = 9400 (0.699 sec)\n"
     ]
    },
    {
     "name": "stderr",
     "output_type": "stream",
     "text": [
      "INFO:tensorflow:loss = 0.67867994, step = 9400 (0.699 sec)\n"
     ]
    },
    {
     "name": "stdout",
     "output_type": "stream",
     "text": [
      "INFO:tensorflow:global_step/sec: 203.875\n"
     ]
    },
    {
     "name": "stderr",
     "output_type": "stream",
     "text": [
      "INFO:tensorflow:global_step/sec: 203.875\n"
     ]
    },
    {
     "name": "stdout",
     "output_type": "stream",
     "text": [
      "INFO:tensorflow:loss = 0.6918857, step = 9500 (0.488 sec)\n"
     ]
    },
    {
     "name": "stderr",
     "output_type": "stream",
     "text": [
      "INFO:tensorflow:loss = 0.6918857, step = 9500 (0.488 sec)\n"
     ]
    },
    {
     "name": "stdout",
     "output_type": "stream",
     "text": [
      "INFO:tensorflow:global_step/sec: 202.083\n"
     ]
    },
    {
     "name": "stderr",
     "output_type": "stream",
     "text": [
      "INFO:tensorflow:global_step/sec: 202.083\n"
     ]
    },
    {
     "name": "stdout",
     "output_type": "stream",
     "text": [
      "INFO:tensorflow:loss = 0.63282305, step = 9600 (0.498 sec)\n"
     ]
    },
    {
     "name": "stderr",
     "output_type": "stream",
     "text": [
      "INFO:tensorflow:loss = 0.63282305, step = 9600 (0.498 sec)\n"
     ]
    },
    {
     "name": "stdout",
     "output_type": "stream",
     "text": [
      "INFO:tensorflow:global_step/sec: 215.019\n"
     ]
    },
    {
     "name": "stderr",
     "output_type": "stream",
     "text": [
      "INFO:tensorflow:global_step/sec: 215.019\n"
     ]
    },
    {
     "name": "stdout",
     "output_type": "stream",
     "text": [
      "INFO:tensorflow:loss = 0.6034205, step = 9700 (0.466 sec)\n"
     ]
    },
    {
     "name": "stderr",
     "output_type": "stream",
     "text": [
      "INFO:tensorflow:loss = 0.6034205, step = 9700 (0.466 sec)\n"
     ]
    },
    {
     "name": "stdout",
     "output_type": "stream",
     "text": [
      "INFO:tensorflow:global_step/sec: 239.105\n"
     ]
    },
    {
     "name": "stderr",
     "output_type": "stream",
     "text": [
      "INFO:tensorflow:global_step/sec: 239.105\n"
     ]
    },
    {
     "name": "stdout",
     "output_type": "stream",
     "text": [
      "INFO:tensorflow:loss = 0.76046014, step = 9800 (0.413 sec)\n"
     ]
    },
    {
     "name": "stderr",
     "output_type": "stream",
     "text": [
      "INFO:tensorflow:loss = 0.76046014, step = 9800 (0.413 sec)\n"
     ]
    },
    {
     "name": "stdout",
     "output_type": "stream",
     "text": [
      "INFO:tensorflow:global_step/sec: 226.567\n"
     ]
    },
    {
     "name": "stderr",
     "output_type": "stream",
     "text": [
      "INFO:tensorflow:global_step/sec: 226.567\n"
     ]
    },
    {
     "name": "stdout",
     "output_type": "stream",
     "text": [
      "INFO:tensorflow:loss = 0.5888035, step = 9900 (0.449 sec)\n"
     ]
    },
    {
     "name": "stderr",
     "output_type": "stream",
     "text": [
      "INFO:tensorflow:loss = 0.5888035, step = 9900 (0.449 sec)\n"
     ]
    },
    {
     "name": "stdout",
     "output_type": "stream",
     "text": [
      "INFO:tensorflow:global_step/sec: 209.514\n"
     ]
    },
    {
     "name": "stderr",
     "output_type": "stream",
     "text": [
      "INFO:tensorflow:global_step/sec: 209.514\n"
     ]
    },
    {
     "name": "stdout",
     "output_type": "stream",
     "text": [
      "INFO:tensorflow:loss = 0.5464585, step = 10000 (0.475 sec)\n"
     ]
    },
    {
     "name": "stderr",
     "output_type": "stream",
     "text": [
      "INFO:tensorflow:loss = 0.5464585, step = 10000 (0.475 sec)\n"
     ]
    },
    {
     "name": "stdout",
     "output_type": "stream",
     "text": [
      "INFO:tensorflow:global_step/sec: 215.702\n"
     ]
    },
    {
     "name": "stderr",
     "output_type": "stream",
     "text": [
      "INFO:tensorflow:global_step/sec: 215.702\n"
     ]
    },
    {
     "name": "stdout",
     "output_type": "stream",
     "text": [
      "INFO:tensorflow:loss = 0.57343584, step = 10100 (0.465 sec)\n"
     ]
    },
    {
     "name": "stderr",
     "output_type": "stream",
     "text": [
      "INFO:tensorflow:loss = 0.57343584, step = 10100 (0.465 sec)\n"
     ]
    },
    {
     "name": "stdout",
     "output_type": "stream",
     "text": [
      "INFO:tensorflow:global_step/sec: 286.038\n"
     ]
    },
    {
     "name": "stderr",
     "output_type": "stream",
     "text": [
      "INFO:tensorflow:global_step/sec: 286.038\n"
     ]
    },
    {
     "name": "stdout",
     "output_type": "stream",
     "text": [
      "INFO:tensorflow:loss = 0.4851268, step = 10200 (0.342 sec)\n"
     ]
    },
    {
     "name": "stderr",
     "output_type": "stream",
     "text": [
      "INFO:tensorflow:loss = 0.4851268, step = 10200 (0.342 sec)\n"
     ]
    },
    {
     "name": "stdout",
     "output_type": "stream",
     "text": [
      "INFO:tensorflow:global_step/sec: 561.293\n"
     ]
    },
    {
     "name": "stderr",
     "output_type": "stream",
     "text": [
      "INFO:tensorflow:global_step/sec: 561.293\n"
     ]
    },
    {
     "name": "stdout",
     "output_type": "stream",
     "text": [
      "INFO:tensorflow:loss = 0.7382796, step = 10300 (0.185 sec)\n"
     ]
    },
    {
     "name": "stderr",
     "output_type": "stream",
     "text": [
      "INFO:tensorflow:loss = 0.7382796, step = 10300 (0.185 sec)\n"
     ]
    },
    {
     "name": "stdout",
     "output_type": "stream",
     "text": [
      "INFO:tensorflow:global_step/sec: 118.573\n"
     ]
    },
    {
     "name": "stderr",
     "output_type": "stream",
     "text": [
      "INFO:tensorflow:global_step/sec: 118.573\n"
     ]
    },
    {
     "name": "stdout",
     "output_type": "stream",
     "text": [
      "INFO:tensorflow:loss = 0.8045438, step = 10400 (0.846 sec)\n"
     ]
    },
    {
     "name": "stderr",
     "output_type": "stream",
     "text": [
      "INFO:tensorflow:loss = 0.8045438, step = 10400 (0.846 sec)\n"
     ]
    },
    {
     "name": "stdout",
     "output_type": "stream",
     "text": [
      "INFO:tensorflow:global_step/sec: 216.408\n"
     ]
    },
    {
     "name": "stderr",
     "output_type": "stream",
     "text": [
      "INFO:tensorflow:global_step/sec: 216.408\n"
     ]
    },
    {
     "name": "stdout",
     "output_type": "stream",
     "text": [
      "INFO:tensorflow:loss = 0.61185384, step = 10500 (0.457 sec)\n"
     ]
    },
    {
     "name": "stderr",
     "output_type": "stream",
     "text": [
      "INFO:tensorflow:loss = 0.61185384, step = 10500 (0.457 sec)\n"
     ]
    },
    {
     "name": "stdout",
     "output_type": "stream",
     "text": [
      "INFO:tensorflow:global_step/sec: 222.503\n"
     ]
    },
    {
     "name": "stderr",
     "output_type": "stream",
     "text": [
      "INFO:tensorflow:global_step/sec: 222.503\n"
     ]
    },
    {
     "name": "stdout",
     "output_type": "stream",
     "text": [
      "INFO:tensorflow:loss = 0.65090036, step = 10600 (0.451 sec)\n"
     ]
    },
    {
     "name": "stderr",
     "output_type": "stream",
     "text": [
      "INFO:tensorflow:loss = 0.65090036, step = 10600 (0.451 sec)\n"
     ]
    },
    {
     "name": "stdout",
     "output_type": "stream",
     "text": [
      "INFO:tensorflow:global_step/sec: 222.826\n"
     ]
    },
    {
     "name": "stderr",
     "output_type": "stream",
     "text": [
      "INFO:tensorflow:global_step/sec: 222.826\n"
     ]
    },
    {
     "name": "stdout",
     "output_type": "stream",
     "text": [
      "INFO:tensorflow:loss = 0.78616434, step = 10700 (0.457 sec)\n"
     ]
    },
    {
     "name": "stderr",
     "output_type": "stream",
     "text": [
      "INFO:tensorflow:loss = 0.78616434, step = 10700 (0.457 sec)\n"
     ]
    },
    {
     "name": "stdout",
     "output_type": "stream",
     "text": [
      "INFO:tensorflow:global_step/sec: 196.669\n"
     ]
    },
    {
     "name": "stderr",
     "output_type": "stream",
     "text": [
      "INFO:tensorflow:global_step/sec: 196.669\n"
     ]
    },
    {
     "name": "stdout",
     "output_type": "stream",
     "text": [
      "INFO:tensorflow:loss = 0.5454656, step = 10800 (0.503 sec)\n"
     ]
    },
    {
     "name": "stderr",
     "output_type": "stream",
     "text": [
      "INFO:tensorflow:loss = 0.5454656, step = 10800 (0.503 sec)\n"
     ]
    },
    {
     "name": "stdout",
     "output_type": "stream",
     "text": [
      "INFO:tensorflow:global_step/sec: 196.468\n"
     ]
    },
    {
     "name": "stderr",
     "output_type": "stream",
     "text": [
      "INFO:tensorflow:global_step/sec: 196.468\n"
     ]
    },
    {
     "name": "stdout",
     "output_type": "stream",
     "text": [
      "INFO:tensorflow:loss = 0.69220406, step = 10900 (0.508 sec)\n"
     ]
    },
    {
     "name": "stderr",
     "output_type": "stream",
     "text": [
      "INFO:tensorflow:loss = 0.69220406, step = 10900 (0.508 sec)\n"
     ]
    },
    {
     "name": "stdout",
     "output_type": "stream",
     "text": [
      "INFO:tensorflow:global_step/sec: 216.823\n"
     ]
    },
    {
     "name": "stderr",
     "output_type": "stream",
     "text": [
      "INFO:tensorflow:global_step/sec: 216.823\n"
     ]
    },
    {
     "name": "stdout",
     "output_type": "stream",
     "text": [
      "INFO:tensorflow:loss = 0.5115602, step = 11000 (0.463 sec)\n"
     ]
    },
    {
     "name": "stderr",
     "output_type": "stream",
     "text": [
      "INFO:tensorflow:loss = 0.5115602, step = 11000 (0.463 sec)\n"
     ]
    },
    {
     "name": "stdout",
     "output_type": "stream",
     "text": [
      "INFO:tensorflow:global_step/sec: 227.845\n"
     ]
    },
    {
     "name": "stderr",
     "output_type": "stream",
     "text": [
      "INFO:tensorflow:global_step/sec: 227.845\n"
     ]
    },
    {
     "name": "stdout",
     "output_type": "stream",
     "text": [
      "INFO:tensorflow:loss = 0.5750041, step = 11100 (0.436 sec)\n"
     ]
    },
    {
     "name": "stderr",
     "output_type": "stream",
     "text": [
      "INFO:tensorflow:loss = 0.5750041, step = 11100 (0.436 sec)\n"
     ]
    },
    {
     "name": "stdout",
     "output_type": "stream",
     "text": [
      "INFO:tensorflow:global_step/sec: 580.253\n"
     ]
    },
    {
     "name": "stderr",
     "output_type": "stream",
     "text": [
      "INFO:tensorflow:global_step/sec: 580.253\n"
     ]
    },
    {
     "name": "stdout",
     "output_type": "stream",
     "text": [
      "INFO:tensorflow:loss = 0.49207285, step = 11200 (0.168 sec)\n"
     ]
    },
    {
     "name": "stderr",
     "output_type": "stream",
     "text": [
      "INFO:tensorflow:loss = 0.49207285, step = 11200 (0.168 sec)\n"
     ]
    },
    {
     "name": "stdout",
     "output_type": "stream",
     "text": [
      "INFO:tensorflow:global_step/sec: 137.266\n"
     ]
    },
    {
     "name": "stderr",
     "output_type": "stream",
     "text": [
      "INFO:tensorflow:global_step/sec: 137.266\n"
     ]
    },
    {
     "name": "stdout",
     "output_type": "stream",
     "text": [
      "INFO:tensorflow:loss = 0.7737681, step = 11300 (0.734 sec)\n"
     ]
    },
    {
     "name": "stderr",
     "output_type": "stream",
     "text": [
      "INFO:tensorflow:loss = 0.7737681, step = 11300 (0.734 sec)\n"
     ]
    },
    {
     "name": "stdout",
     "output_type": "stream",
     "text": [
      "INFO:tensorflow:global_step/sec: 178.415\n"
     ]
    },
    {
     "name": "stderr",
     "output_type": "stream",
     "text": [
      "INFO:tensorflow:global_step/sec: 178.415\n"
     ]
    },
    {
     "name": "stdout",
     "output_type": "stream",
     "text": [
      "INFO:tensorflow:loss = 0.47003466, step = 11400 (0.558 sec)\n"
     ]
    },
    {
     "name": "stderr",
     "output_type": "stream",
     "text": [
      "INFO:tensorflow:loss = 0.47003466, step = 11400 (0.558 sec)\n"
     ]
    },
    {
     "name": "stdout",
     "output_type": "stream",
     "text": [
      "INFO:tensorflow:global_step/sec: 204.795\n"
     ]
    },
    {
     "name": "stderr",
     "output_type": "stream",
     "text": [
      "INFO:tensorflow:global_step/sec: 204.795\n"
     ]
    },
    {
     "name": "stdout",
     "output_type": "stream",
     "text": [
      "INFO:tensorflow:loss = 0.4622481, step = 11500 (0.489 sec)\n"
     ]
    },
    {
     "name": "stderr",
     "output_type": "stream",
     "text": [
      "INFO:tensorflow:loss = 0.4622481, step = 11500 (0.489 sec)\n"
     ]
    },
    {
     "name": "stdout",
     "output_type": "stream",
     "text": [
      "INFO:tensorflow:global_step/sec: 209.767\n"
     ]
    },
    {
     "name": "stderr",
     "output_type": "stream",
     "text": [
      "INFO:tensorflow:global_step/sec: 209.767\n"
     ]
    },
    {
     "name": "stdout",
     "output_type": "stream",
     "text": [
      "INFO:tensorflow:loss = 0.5744454, step = 11600 (0.476 sec)\n"
     ]
    },
    {
     "name": "stderr",
     "output_type": "stream",
     "text": [
      "INFO:tensorflow:loss = 0.5744454, step = 11600 (0.476 sec)\n"
     ]
    },
    {
     "name": "stdout",
     "output_type": "stream",
     "text": [
      "INFO:tensorflow:global_step/sec: 225.698\n"
     ]
    },
    {
     "name": "stderr",
     "output_type": "stream",
     "text": [
      "INFO:tensorflow:global_step/sec: 225.698\n"
     ]
    },
    {
     "name": "stdout",
     "output_type": "stream",
     "text": [
      "INFO:tensorflow:loss = 0.6494281, step = 11700 (0.445 sec)\n"
     ]
    },
    {
     "name": "stderr",
     "output_type": "stream",
     "text": [
      "INFO:tensorflow:loss = 0.6494281, step = 11700 (0.445 sec)\n"
     ]
    },
    {
     "name": "stdout",
     "output_type": "stream",
     "text": [
      "INFO:tensorflow:global_step/sec: 220.346\n"
     ]
    },
    {
     "name": "stderr",
     "output_type": "stream",
     "text": [
      "INFO:tensorflow:global_step/sec: 220.346\n"
     ]
    },
    {
     "name": "stdout",
     "output_type": "stream",
     "text": [
      "INFO:tensorflow:loss = 0.5837881, step = 11800 (0.454 sec)\n"
     ]
    },
    {
     "name": "stderr",
     "output_type": "stream",
     "text": [
      "INFO:tensorflow:loss = 0.5837881, step = 11800 (0.454 sec)\n"
     ]
    },
    {
     "name": "stdout",
     "output_type": "stream",
     "text": [
      "INFO:tensorflow:global_step/sec: 193.946\n"
     ]
    },
    {
     "name": "stderr",
     "output_type": "stream",
     "text": [
      "INFO:tensorflow:global_step/sec: 193.946\n"
     ]
    },
    {
     "name": "stdout",
     "output_type": "stream",
     "text": [
      "INFO:tensorflow:loss = 0.47441334, step = 11900 (0.514 sec)\n"
     ]
    },
    {
     "name": "stderr",
     "output_type": "stream",
     "text": [
      "INFO:tensorflow:loss = 0.47441334, step = 11900 (0.514 sec)\n"
     ]
    },
    {
     "name": "stdout",
     "output_type": "stream",
     "text": [
      "INFO:tensorflow:global_step/sec: 179.639\n"
     ]
    },
    {
     "name": "stderr",
     "output_type": "stream",
     "text": [
      "INFO:tensorflow:global_step/sec: 179.639\n"
     ]
    },
    {
     "name": "stdout",
     "output_type": "stream",
     "text": [
      "INFO:tensorflow:loss = 0.8752825, step = 12000 (0.551 sec)\n"
     ]
    },
    {
     "name": "stderr",
     "output_type": "stream",
     "text": [
      "INFO:tensorflow:loss = 0.8752825, step = 12000 (0.551 sec)\n"
     ]
    },
    {
     "name": "stdout",
     "output_type": "stream",
     "text": [
      "INFO:tensorflow:global_step/sec: 288.498\n"
     ]
    },
    {
     "name": "stderr",
     "output_type": "stream",
     "text": [
      "INFO:tensorflow:global_step/sec: 288.498\n"
     ]
    },
    {
     "name": "stdout",
     "output_type": "stream",
     "text": [
      "INFO:tensorflow:loss = 0.8166252, step = 12100 (0.355 sec)\n"
     ]
    },
    {
     "name": "stderr",
     "output_type": "stream",
     "text": [
      "INFO:tensorflow:loss = 0.8166252, step = 12100 (0.355 sec)\n"
     ]
    },
    {
     "name": "stdout",
     "output_type": "stream",
     "text": [
      "INFO:tensorflow:global_step/sec: 141.149\n"
     ]
    },
    {
     "name": "stderr",
     "output_type": "stream",
     "text": [
      "INFO:tensorflow:global_step/sec: 141.149\n"
     ]
    },
    {
     "name": "stdout",
     "output_type": "stream",
     "text": [
      "INFO:tensorflow:loss = 0.4816859, step = 12200 (0.700 sec)\n"
     ]
    },
    {
     "name": "stderr",
     "output_type": "stream",
     "text": [
      "INFO:tensorflow:loss = 0.4816859, step = 12200 (0.700 sec)\n"
     ]
    },
    {
     "name": "stdout",
     "output_type": "stream",
     "text": [
      "INFO:tensorflow:global_step/sec: 214.195\n"
     ]
    },
    {
     "name": "stderr",
     "output_type": "stream",
     "text": [
      "INFO:tensorflow:global_step/sec: 214.195\n"
     ]
    },
    {
     "name": "stdout",
     "output_type": "stream",
     "text": [
      "INFO:tensorflow:loss = 0.42133284, step = 12300 (0.472 sec)\n"
     ]
    },
    {
     "name": "stderr",
     "output_type": "stream",
     "text": [
      "INFO:tensorflow:loss = 0.42133284, step = 12300 (0.472 sec)\n"
     ]
    },
    {
     "name": "stdout",
     "output_type": "stream",
     "text": [
      "INFO:tensorflow:global_step/sec: 211.568\n"
     ]
    },
    {
     "name": "stderr",
     "output_type": "stream",
     "text": [
      "INFO:tensorflow:global_step/sec: 211.568\n"
     ]
    },
    {
     "name": "stdout",
     "output_type": "stream",
     "text": [
      "INFO:tensorflow:loss = 0.52894676, step = 12400 (0.466 sec)\n"
     ]
    },
    {
     "name": "stderr",
     "output_type": "stream",
     "text": [
      "INFO:tensorflow:loss = 0.52894676, step = 12400 (0.466 sec)\n"
     ]
    },
    {
     "name": "stdout",
     "output_type": "stream",
     "text": [
      "INFO:tensorflow:global_step/sec: 206.119\n"
     ]
    },
    {
     "name": "stderr",
     "output_type": "stream",
     "text": [
      "INFO:tensorflow:global_step/sec: 206.119\n"
     ]
    },
    {
     "name": "stdout",
     "output_type": "stream",
     "text": [
      "INFO:tensorflow:loss = 0.67906135, step = 12500 (0.489 sec)\n"
     ]
    },
    {
     "name": "stderr",
     "output_type": "stream",
     "text": [
      "INFO:tensorflow:loss = 0.67906135, step = 12500 (0.489 sec)\n"
     ]
    },
    {
     "name": "stdout",
     "output_type": "stream",
     "text": [
      "INFO:tensorflow:global_step/sec: 208.299\n"
     ]
    },
    {
     "name": "stderr",
     "output_type": "stream",
     "text": [
      "INFO:tensorflow:global_step/sec: 208.299\n"
     ]
    },
    {
     "name": "stdout",
     "output_type": "stream",
     "text": [
      "INFO:tensorflow:loss = 0.4369614, step = 12600 (0.485 sec)\n"
     ]
    },
    {
     "name": "stderr",
     "output_type": "stream",
     "text": [
      "INFO:tensorflow:loss = 0.4369614, step = 12600 (0.485 sec)\n"
     ]
    },
    {
     "name": "stdout",
     "output_type": "stream",
     "text": [
      "INFO:tensorflow:global_step/sec: 230.741\n"
     ]
    },
    {
     "name": "stderr",
     "output_type": "stream",
     "text": [
      "INFO:tensorflow:global_step/sec: 230.741\n"
     ]
    },
    {
     "name": "stdout",
     "output_type": "stream",
     "text": [
      "INFO:tensorflow:loss = 0.5967771, step = 12700 (0.439 sec)\n"
     ]
    },
    {
     "name": "stderr",
     "output_type": "stream",
     "text": [
      "INFO:tensorflow:loss = 0.5967771, step = 12700 (0.439 sec)\n"
     ]
    },
    {
     "name": "stdout",
     "output_type": "stream",
     "text": [
      "INFO:tensorflow:global_step/sec: 225.114\n"
     ]
    },
    {
     "name": "stderr",
     "output_type": "stream",
     "text": [
      "INFO:tensorflow:global_step/sec: 225.114\n"
     ]
    },
    {
     "name": "stdout",
     "output_type": "stream",
     "text": [
      "INFO:tensorflow:loss = 0.5762566, step = 12800 (0.439 sec)\n"
     ]
    },
    {
     "name": "stderr",
     "output_type": "stream",
     "text": [
      "INFO:tensorflow:loss = 0.5762566, step = 12800 (0.439 sec)\n"
     ]
    },
    {
     "name": "stdout",
     "output_type": "stream",
     "text": [
      "INFO:tensorflow:global_step/sec: 197.432\n"
     ]
    },
    {
     "name": "stderr",
     "output_type": "stream",
     "text": [
      "INFO:tensorflow:global_step/sec: 197.432\n"
     ]
    },
    {
     "name": "stdout",
     "output_type": "stream",
     "text": [
      "INFO:tensorflow:loss = 0.5774393, step = 12900 (0.509 sec)\n"
     ]
    },
    {
     "name": "stderr",
     "output_type": "stream",
     "text": [
      "INFO:tensorflow:loss = 0.5774393, step = 12900 (0.509 sec)\n"
     ]
    },
    {
     "name": "stdout",
     "output_type": "stream",
     "text": [
      "INFO:tensorflow:global_step/sec: 244.577\n"
     ]
    },
    {
     "name": "stderr",
     "output_type": "stream",
     "text": [
      "INFO:tensorflow:global_step/sec: 244.577\n"
     ]
    },
    {
     "name": "stdout",
     "output_type": "stream",
     "text": [
      "INFO:tensorflow:loss = 0.5867568, step = 13000 (0.406 sec)\n"
     ]
    },
    {
     "name": "stderr",
     "output_type": "stream",
     "text": [
      "INFO:tensorflow:loss = 0.5867568, step = 13000 (0.406 sec)\n"
     ]
    },
    {
     "name": "stdout",
     "output_type": "stream",
     "text": [
      "INFO:tensorflow:global_step/sec: 555.223\n"
     ]
    },
    {
     "name": "stderr",
     "output_type": "stream",
     "text": [
      "INFO:tensorflow:global_step/sec: 555.223\n"
     ]
    },
    {
     "name": "stdout",
     "output_type": "stream",
     "text": [
      "INFO:tensorflow:loss = 0.6811725, step = 13100 (0.174 sec)\n"
     ]
    },
    {
     "name": "stderr",
     "output_type": "stream",
     "text": [
      "INFO:tensorflow:loss = 0.6811725, step = 13100 (0.174 sec)\n"
     ]
    },
    {
     "name": "stdout",
     "output_type": "stream",
     "text": [
      "INFO:tensorflow:global_step/sec: 124.271\n"
     ]
    },
    {
     "name": "stderr",
     "output_type": "stream",
     "text": [
      "INFO:tensorflow:global_step/sec: 124.271\n"
     ]
    },
    {
     "name": "stdout",
     "output_type": "stream",
     "text": [
      "INFO:tensorflow:loss = 0.55253476, step = 13200 (0.809 sec)\n"
     ]
    },
    {
     "name": "stderr",
     "output_type": "stream",
     "text": [
      "INFO:tensorflow:loss = 0.55253476, step = 13200 (0.809 sec)\n"
     ]
    },
    {
     "name": "stdout",
     "output_type": "stream",
     "text": [
      "INFO:tensorflow:global_step/sec: 218.372\n"
     ]
    },
    {
     "name": "stderr",
     "output_type": "stream",
     "text": [
      "INFO:tensorflow:global_step/sec: 218.372\n"
     ]
    },
    {
     "name": "stdout",
     "output_type": "stream",
     "text": [
      "INFO:tensorflow:loss = 0.6087943, step = 13300 (0.455 sec)\n"
     ]
    },
    {
     "name": "stderr",
     "output_type": "stream",
     "text": [
      "INFO:tensorflow:loss = 0.6087943, step = 13300 (0.455 sec)\n"
     ]
    },
    {
     "name": "stdout",
     "output_type": "stream",
     "text": [
      "INFO:tensorflow:global_step/sec: 231.4\n"
     ]
    },
    {
     "name": "stderr",
     "output_type": "stream",
     "text": [
      "INFO:tensorflow:global_step/sec: 231.4\n"
     ]
    },
    {
     "name": "stdout",
     "output_type": "stream",
     "text": [
      "INFO:tensorflow:loss = 0.4441563, step = 13400 (0.437 sec)\n"
     ]
    },
    {
     "name": "stderr",
     "output_type": "stream",
     "text": [
      "INFO:tensorflow:loss = 0.4441563, step = 13400 (0.437 sec)\n"
     ]
    },
    {
     "name": "stdout",
     "output_type": "stream",
     "text": [
      "INFO:tensorflow:global_step/sec: 189.688\n"
     ]
    },
    {
     "name": "stderr",
     "output_type": "stream",
     "text": [
      "INFO:tensorflow:global_step/sec: 189.688\n"
     ]
    },
    {
     "name": "stdout",
     "output_type": "stream",
     "text": [
      "INFO:tensorflow:loss = 0.7591089, step = 13500 (0.527 sec)\n"
     ]
    },
    {
     "name": "stderr",
     "output_type": "stream",
     "text": [
      "INFO:tensorflow:loss = 0.7591089, step = 13500 (0.527 sec)\n"
     ]
    },
    {
     "name": "stdout",
     "output_type": "stream",
     "text": [
      "INFO:tensorflow:global_step/sec: 216.618\n"
     ]
    },
    {
     "name": "stderr",
     "output_type": "stream",
     "text": [
      "INFO:tensorflow:global_step/sec: 216.618\n"
     ]
    },
    {
     "name": "stdout",
     "output_type": "stream",
     "text": [
      "INFO:tensorflow:loss = 0.48110116, step = 13600 (0.460 sec)\n"
     ]
    },
    {
     "name": "stderr",
     "output_type": "stream",
     "text": [
      "INFO:tensorflow:loss = 0.48110116, step = 13600 (0.460 sec)\n"
     ]
    },
    {
     "name": "stdout",
     "output_type": "stream",
     "text": [
      "INFO:tensorflow:global_step/sec: 216.094\n"
     ]
    },
    {
     "name": "stderr",
     "output_type": "stream",
     "text": [
      "INFO:tensorflow:global_step/sec: 216.094\n"
     ]
    },
    {
     "name": "stdout",
     "output_type": "stream",
     "text": [
      "INFO:tensorflow:loss = 0.52599895, step = 13700 (0.463 sec)\n"
     ]
    },
    {
     "name": "stderr",
     "output_type": "stream",
     "text": [
      "INFO:tensorflow:loss = 0.52599895, step = 13700 (0.463 sec)\n"
     ]
    },
    {
     "name": "stdout",
     "output_type": "stream",
     "text": [
      "INFO:tensorflow:global_step/sec: 202.168\n"
     ]
    },
    {
     "name": "stderr",
     "output_type": "stream",
     "text": [
      "INFO:tensorflow:global_step/sec: 202.168\n"
     ]
    },
    {
     "name": "stdout",
     "output_type": "stream",
     "text": [
      "INFO:tensorflow:loss = 0.5651209, step = 13800 (0.488 sec)\n"
     ]
    },
    {
     "name": "stderr",
     "output_type": "stream",
     "text": [
      "INFO:tensorflow:loss = 0.5651209, step = 13800 (0.488 sec)\n"
     ]
    },
    {
     "name": "stdout",
     "output_type": "stream",
     "text": [
      "INFO:tensorflow:global_step/sec: 187.296\n"
     ]
    },
    {
     "name": "stderr",
     "output_type": "stream",
     "text": [
      "INFO:tensorflow:global_step/sec: 187.296\n"
     ]
    },
    {
     "name": "stdout",
     "output_type": "stream",
     "text": [
      "INFO:tensorflow:loss = 0.61859405, step = 13900 (0.538 sec)\n"
     ]
    },
    {
     "name": "stderr",
     "output_type": "stream",
     "text": [
      "INFO:tensorflow:loss = 0.61859405, step = 13900 (0.538 sec)\n"
     ]
    },
    {
     "name": "stdout",
     "output_type": "stream",
     "text": [
      "INFO:tensorflow:global_step/sec: 448.932\n"
     ]
    },
    {
     "name": "stderr",
     "output_type": "stream",
     "text": [
      "INFO:tensorflow:global_step/sec: 448.932\n"
     ]
    },
    {
     "name": "stdout",
     "output_type": "stream",
     "text": [
      "INFO:tensorflow:loss = 0.5962027, step = 14000 (0.226 sec)\n"
     ]
    },
    {
     "name": "stderr",
     "output_type": "stream",
     "text": [
      "INFO:tensorflow:loss = 0.5962027, step = 14000 (0.226 sec)\n"
     ]
    },
    {
     "name": "stdout",
     "output_type": "stream",
     "text": [
      "INFO:tensorflow:global_step/sec: 139.309\n"
     ]
    },
    {
     "name": "stderr",
     "output_type": "stream",
     "text": [
      "INFO:tensorflow:global_step/sec: 139.309\n"
     ]
    },
    {
     "name": "stdout",
     "output_type": "stream",
     "text": [
      "INFO:tensorflow:loss = 0.45059392, step = 14100 (0.714 sec)\n"
     ]
    },
    {
     "name": "stderr",
     "output_type": "stream",
     "text": [
      "INFO:tensorflow:loss = 0.45059392, step = 14100 (0.714 sec)\n"
     ]
    },
    {
     "name": "stdout",
     "output_type": "stream",
     "text": [
      "INFO:tensorflow:global_step/sec: 213.301\n"
     ]
    },
    {
     "name": "stderr",
     "output_type": "stream",
     "text": [
      "INFO:tensorflow:global_step/sec: 213.301\n"
     ]
    },
    {
     "name": "stdout",
     "output_type": "stream",
     "text": [
      "INFO:tensorflow:loss = 0.41806477, step = 14200 (0.470 sec)\n"
     ]
    },
    {
     "name": "stderr",
     "output_type": "stream",
     "text": [
      "INFO:tensorflow:loss = 0.41806477, step = 14200 (0.470 sec)\n"
     ]
    },
    {
     "name": "stdout",
     "output_type": "stream",
     "text": [
      "INFO:tensorflow:global_step/sec: 209.08\n"
     ]
    },
    {
     "name": "stderr",
     "output_type": "stream",
     "text": [
      "INFO:tensorflow:global_step/sec: 209.08\n"
     ]
    },
    {
     "name": "stdout",
     "output_type": "stream",
     "text": [
      "INFO:tensorflow:loss = 0.623368, step = 14300 (0.479 sec)\n"
     ]
    },
    {
     "name": "stderr",
     "output_type": "stream",
     "text": [
      "INFO:tensorflow:loss = 0.623368, step = 14300 (0.479 sec)\n"
     ]
    },
    {
     "name": "stdout",
     "output_type": "stream",
     "text": [
      "INFO:tensorflow:global_step/sec: 197.019\n"
     ]
    },
    {
     "name": "stderr",
     "output_type": "stream",
     "text": [
      "INFO:tensorflow:global_step/sec: 197.019\n"
     ]
    },
    {
     "name": "stdout",
     "output_type": "stream",
     "text": [
      "INFO:tensorflow:loss = 0.6142755, step = 14400 (0.504 sec)\n"
     ]
    },
    {
     "name": "stderr",
     "output_type": "stream",
     "text": [
      "INFO:tensorflow:loss = 0.6142755, step = 14400 (0.504 sec)\n"
     ]
    },
    {
     "name": "stdout",
     "output_type": "stream",
     "text": [
      "INFO:tensorflow:global_step/sec: 206.322\n"
     ]
    },
    {
     "name": "stderr",
     "output_type": "stream",
     "text": [
      "INFO:tensorflow:global_step/sec: 206.322\n"
     ]
    },
    {
     "name": "stdout",
     "output_type": "stream",
     "text": [
      "INFO:tensorflow:loss = 0.7223364, step = 14500 (0.493 sec)\n"
     ]
    },
    {
     "name": "stderr",
     "output_type": "stream",
     "text": [
      "INFO:tensorflow:loss = 0.7223364, step = 14500 (0.493 sec)\n"
     ]
    },
    {
     "name": "stdout",
     "output_type": "stream",
     "text": [
      "INFO:tensorflow:global_step/sec: 221.251\n"
     ]
    },
    {
     "name": "stderr",
     "output_type": "stream",
     "text": [
      "INFO:tensorflow:global_step/sec: 221.251\n"
     ]
    },
    {
     "name": "stdout",
     "output_type": "stream",
     "text": [
      "INFO:tensorflow:loss = 0.38991207, step = 14600 (0.450 sec)\n"
     ]
    },
    {
     "name": "stderr",
     "output_type": "stream",
     "text": [
      "INFO:tensorflow:loss = 0.38991207, step = 14600 (0.450 sec)\n"
     ]
    },
    {
     "name": "stdout",
     "output_type": "stream",
     "text": [
      "INFO:tensorflow:global_step/sec: 225.27\n"
     ]
    },
    {
     "name": "stderr",
     "output_type": "stream",
     "text": [
      "INFO:tensorflow:global_step/sec: 225.27\n"
     ]
    },
    {
     "name": "stdout",
     "output_type": "stream",
     "text": [
      "INFO:tensorflow:loss = 0.5288706, step = 14700 (0.444 sec)\n"
     ]
    },
    {
     "name": "stderr",
     "output_type": "stream",
     "text": [
      "INFO:tensorflow:loss = 0.5288706, step = 14700 (0.444 sec)\n"
     ]
    },
    {
     "name": "stdout",
     "output_type": "stream",
     "text": [
      "INFO:tensorflow:global_step/sec: 201.605\n"
     ]
    },
    {
     "name": "stderr",
     "output_type": "stream",
     "text": [
      "INFO:tensorflow:global_step/sec: 201.605\n"
     ]
    },
    {
     "name": "stdout",
     "output_type": "stream",
     "text": [
      "INFO:tensorflow:loss = 0.49569064, step = 14800 (0.495 sec)\n"
     ]
    },
    {
     "name": "stderr",
     "output_type": "stream",
     "text": [
      "INFO:tensorflow:loss = 0.49569064, step = 14800 (0.495 sec)\n"
     ]
    },
    {
     "name": "stdout",
     "output_type": "stream",
     "text": [
      "INFO:tensorflow:global_step/sec: 317.622\n"
     ]
    },
    {
     "name": "stderr",
     "output_type": "stream",
     "text": [
      "INFO:tensorflow:global_step/sec: 317.622\n"
     ]
    },
    {
     "name": "stdout",
     "output_type": "stream",
     "text": [
      "INFO:tensorflow:loss = 0.59653383, step = 14900 (0.312 sec)\n"
     ]
    },
    {
     "name": "stderr",
     "output_type": "stream",
     "text": [
      "INFO:tensorflow:loss = 0.59653383, step = 14900 (0.312 sec)\n"
     ]
    },
    {
     "name": "stdout",
     "output_type": "stream",
     "text": [
      "INFO:tensorflow:global_step/sec: 542.57\n"
     ]
    },
    {
     "name": "stderr",
     "output_type": "stream",
     "text": [
      "INFO:tensorflow:global_step/sec: 542.57\n"
     ]
    },
    {
     "name": "stdout",
     "output_type": "stream",
     "text": [
      "INFO:tensorflow:loss = 0.46319532, step = 15000 (0.186 sec)\n"
     ]
    },
    {
     "name": "stderr",
     "output_type": "stream",
     "text": [
      "INFO:tensorflow:loss = 0.46319532, step = 15000 (0.186 sec)\n"
     ]
    },
    {
     "name": "stdout",
     "output_type": "stream",
     "text": [
      "INFO:tensorflow:global_step/sec: 105.441\n"
     ]
    },
    {
     "name": "stderr",
     "output_type": "stream",
     "text": [
      "INFO:tensorflow:global_step/sec: 105.441\n"
     ]
    },
    {
     "name": "stdout",
     "output_type": "stream",
     "text": [
      "INFO:tensorflow:loss = 0.44758397, step = 15100 (0.958 sec)\n"
     ]
    },
    {
     "name": "stderr",
     "output_type": "stream",
     "text": [
      "INFO:tensorflow:loss = 0.44758397, step = 15100 (0.958 sec)\n"
     ]
    },
    {
     "name": "stdout",
     "output_type": "stream",
     "text": [
      "INFO:tensorflow:global_step/sec: 175.97\n"
     ]
    },
    {
     "name": "stderr",
     "output_type": "stream",
     "text": [
      "INFO:tensorflow:global_step/sec: 175.97\n"
     ]
    },
    {
     "name": "stdout",
     "output_type": "stream",
     "text": [
      "INFO:tensorflow:loss = 0.560431, step = 15200 (0.562 sec)\n"
     ]
    },
    {
     "name": "stderr",
     "output_type": "stream",
     "text": [
      "INFO:tensorflow:loss = 0.560431, step = 15200 (0.562 sec)\n"
     ]
    },
    {
     "name": "stdout",
     "output_type": "stream",
     "text": [
      "INFO:tensorflow:global_step/sec: 208.222\n"
     ]
    },
    {
     "name": "stderr",
     "output_type": "stream",
     "text": [
      "INFO:tensorflow:global_step/sec: 208.222\n"
     ]
    },
    {
     "name": "stdout",
     "output_type": "stream",
     "text": [
      "INFO:tensorflow:loss = 0.6877521, step = 15300 (0.477 sec)\n"
     ]
    },
    {
     "name": "stderr",
     "output_type": "stream",
     "text": [
      "INFO:tensorflow:loss = 0.6877521, step = 15300 (0.477 sec)\n"
     ]
    },
    {
     "name": "stdout",
     "output_type": "stream",
     "text": [
      "INFO:tensorflow:global_step/sec: 202.541\n"
     ]
    },
    {
     "name": "stderr",
     "output_type": "stream",
     "text": [
      "INFO:tensorflow:global_step/sec: 202.541\n"
     ]
    },
    {
     "name": "stdout",
     "output_type": "stream",
     "text": [
      "INFO:tensorflow:loss = 0.54923105, step = 15400 (0.497 sec)\n"
     ]
    },
    {
     "name": "stderr",
     "output_type": "stream",
     "text": [
      "INFO:tensorflow:loss = 0.54923105, step = 15400 (0.497 sec)\n"
     ]
    },
    {
     "name": "stdout",
     "output_type": "stream",
     "text": [
      "INFO:tensorflow:global_step/sec: 216.433\n"
     ]
    },
    {
     "name": "stderr",
     "output_type": "stream",
     "text": [
      "INFO:tensorflow:global_step/sec: 216.433\n"
     ]
    },
    {
     "name": "stdout",
     "output_type": "stream",
     "text": [
      "INFO:tensorflow:loss = 0.33740255, step = 15500 (0.452 sec)\n"
     ]
    },
    {
     "name": "stderr",
     "output_type": "stream",
     "text": [
      "INFO:tensorflow:loss = 0.33740255, step = 15500 (0.452 sec)\n"
     ]
    },
    {
     "name": "stdout",
     "output_type": "stream",
     "text": [
      "INFO:tensorflow:global_step/sec: 200.344\n"
     ]
    },
    {
     "name": "stderr",
     "output_type": "stream",
     "text": [
      "INFO:tensorflow:global_step/sec: 200.344\n"
     ]
    },
    {
     "name": "stdout",
     "output_type": "stream",
     "text": [
      "INFO:tensorflow:loss = 0.4651606, step = 15600 (0.507 sec)\n"
     ]
    },
    {
     "name": "stderr",
     "output_type": "stream",
     "text": [
      "INFO:tensorflow:loss = 0.4651606, step = 15600 (0.507 sec)\n"
     ]
    },
    {
     "name": "stdout",
     "output_type": "stream",
     "text": [
      "INFO:tensorflow:global_step/sec: 206.239\n"
     ]
    },
    {
     "name": "stderr",
     "output_type": "stream",
     "text": [
      "INFO:tensorflow:global_step/sec: 206.239\n"
     ]
    },
    {
     "name": "stdout",
     "output_type": "stream",
     "text": [
      "INFO:tensorflow:loss = 0.564646, step = 15700 (0.485 sec)\n"
     ]
    },
    {
     "name": "stderr",
     "output_type": "stream",
     "text": [
      "INFO:tensorflow:loss = 0.564646, step = 15700 (0.485 sec)\n"
     ]
    },
    {
     "name": "stdout",
     "output_type": "stream",
     "text": [
      "INFO:tensorflow:global_step/sec: 223.782\n"
     ]
    },
    {
     "name": "stderr",
     "output_type": "stream",
     "text": [
      "INFO:tensorflow:global_step/sec: 223.782\n"
     ]
    },
    {
     "name": "stdout",
     "output_type": "stream",
     "text": [
      "INFO:tensorflow:loss = 0.5287871, step = 15800 (0.444 sec)\n"
     ]
    },
    {
     "name": "stderr",
     "output_type": "stream",
     "text": [
      "INFO:tensorflow:loss = 0.5287871, step = 15800 (0.444 sec)\n"
     ]
    },
    {
     "name": "stdout",
     "output_type": "stream",
     "text": [
      "INFO:tensorflow:global_step/sec: 515.648\n"
     ]
    },
    {
     "name": "stderr",
     "output_type": "stream",
     "text": [
      "INFO:tensorflow:global_step/sec: 515.648\n"
     ]
    },
    {
     "name": "stdout",
     "output_type": "stream",
     "text": [
      "INFO:tensorflow:loss = 0.36653423, step = 15900 (0.195 sec)\n"
     ]
    },
    {
     "name": "stderr",
     "output_type": "stream",
     "text": [
      "INFO:tensorflow:loss = 0.36653423, step = 15900 (0.195 sec)\n"
     ]
    },
    {
     "name": "stdout",
     "output_type": "stream",
     "text": [
      "INFO:tensorflow:global_step/sec: 126.382\n"
     ]
    },
    {
     "name": "stderr",
     "output_type": "stream",
     "text": [
      "INFO:tensorflow:global_step/sec: 126.382\n"
     ]
    },
    {
     "name": "stdout",
     "output_type": "stream",
     "text": [
      "INFO:tensorflow:loss = 0.5854347, step = 16000 (0.796 sec)\n"
     ]
    },
    {
     "name": "stderr",
     "output_type": "stream",
     "text": [
      "INFO:tensorflow:loss = 0.5854347, step = 16000 (0.796 sec)\n"
     ]
    },
    {
     "name": "stdout",
     "output_type": "stream",
     "text": [
      "INFO:tensorflow:global_step/sec: 209.432\n"
     ]
    },
    {
     "name": "stderr",
     "output_type": "stream",
     "text": [
      "INFO:tensorflow:global_step/sec: 209.432\n"
     ]
    },
    {
     "name": "stdout",
     "output_type": "stream",
     "text": [
      "INFO:tensorflow:loss = 0.5853261, step = 16100 (0.477 sec)\n"
     ]
    },
    {
     "name": "stderr",
     "output_type": "stream",
     "text": [
      "INFO:tensorflow:loss = 0.5853261, step = 16100 (0.477 sec)\n"
     ]
    },
    {
     "name": "stdout",
     "output_type": "stream",
     "text": [
      "INFO:tensorflow:global_step/sec: 204.942\n"
     ]
    },
    {
     "name": "stderr",
     "output_type": "stream",
     "text": [
      "INFO:tensorflow:global_step/sec: 204.942\n"
     ]
    },
    {
     "name": "stdout",
     "output_type": "stream",
     "text": [
      "INFO:tensorflow:loss = 0.53532636, step = 16200 (0.490 sec)\n"
     ]
    },
    {
     "name": "stderr",
     "output_type": "stream",
     "text": [
      "INFO:tensorflow:loss = 0.53532636, step = 16200 (0.490 sec)\n"
     ]
    },
    {
     "name": "stdout",
     "output_type": "stream",
     "text": [
      "INFO:tensorflow:global_step/sec: 214.151\n"
     ]
    },
    {
     "name": "stderr",
     "output_type": "stream",
     "text": [
      "INFO:tensorflow:global_step/sec: 214.151\n"
     ]
    },
    {
     "name": "stdout",
     "output_type": "stream",
     "text": [
      "INFO:tensorflow:loss = 0.56469584, step = 16300 (0.459 sec)\n"
     ]
    },
    {
     "name": "stderr",
     "output_type": "stream",
     "text": [
      "INFO:tensorflow:loss = 0.56469584, step = 16300 (0.459 sec)\n"
     ]
    },
    {
     "name": "stdout",
     "output_type": "stream",
     "text": [
      "INFO:tensorflow:global_step/sec: 235.295\n"
     ]
    },
    {
     "name": "stderr",
     "output_type": "stream",
     "text": [
      "INFO:tensorflow:global_step/sec: 235.295\n"
     ]
    },
    {
     "name": "stdout",
     "output_type": "stream",
     "text": [
      "INFO:tensorflow:loss = 0.41940147, step = 16400 (0.426 sec)\n"
     ]
    },
    {
     "name": "stderr",
     "output_type": "stream",
     "text": [
      "INFO:tensorflow:loss = 0.41940147, step = 16400 (0.426 sec)\n"
     ]
    },
    {
     "name": "stdout",
     "output_type": "stream",
     "text": [
      "INFO:tensorflow:global_step/sec: 222.095\n"
     ]
    },
    {
     "name": "stderr",
     "output_type": "stream",
     "text": [
      "INFO:tensorflow:global_step/sec: 222.095\n"
     ]
    },
    {
     "name": "stdout",
     "output_type": "stream",
     "text": [
      "INFO:tensorflow:loss = 0.6663624, step = 16500 (0.457 sec)\n"
     ]
    },
    {
     "name": "stderr",
     "output_type": "stream",
     "text": [
      "INFO:tensorflow:loss = 0.6663624, step = 16500 (0.457 sec)\n"
     ]
    },
    {
     "name": "stdout",
     "output_type": "stream",
     "text": [
      "INFO:tensorflow:global_step/sec: 206.606\n"
     ]
    },
    {
     "name": "stderr",
     "output_type": "stream",
     "text": [
      "INFO:tensorflow:global_step/sec: 206.606\n"
     ]
    },
    {
     "name": "stdout",
     "output_type": "stream",
     "text": [
      "INFO:tensorflow:loss = 0.66299653, step = 16600 (0.478 sec)\n"
     ]
    },
    {
     "name": "stderr",
     "output_type": "stream",
     "text": [
      "INFO:tensorflow:loss = 0.66299653, step = 16600 (0.478 sec)\n"
     ]
    },
    {
     "name": "stdout",
     "output_type": "stream",
     "text": [
      "INFO:tensorflow:global_step/sec: 208.342\n"
     ]
    },
    {
     "name": "stderr",
     "output_type": "stream",
     "text": [
      "INFO:tensorflow:global_step/sec: 208.342\n"
     ]
    },
    {
     "name": "stdout",
     "output_type": "stream",
     "text": [
      "INFO:tensorflow:loss = 0.50745636, step = 16700 (0.478 sec)\n"
     ]
    },
    {
     "name": "stderr",
     "output_type": "stream",
     "text": [
      "INFO:tensorflow:loss = 0.50745636, step = 16700 (0.478 sec)\n"
     ]
    },
    {
     "name": "stdout",
     "output_type": "stream",
     "text": [
      "INFO:tensorflow:global_step/sec: 408.993\n"
     ]
    },
    {
     "name": "stderr",
     "output_type": "stream",
     "text": [
      "INFO:tensorflow:global_step/sec: 408.993\n"
     ]
    },
    {
     "name": "stdout",
     "output_type": "stream",
     "text": [
      "INFO:tensorflow:loss = 0.7308867, step = 16800 (0.249 sec)\n"
     ]
    },
    {
     "name": "stderr",
     "output_type": "stream",
     "text": [
      "INFO:tensorflow:loss = 0.7308867, step = 16800 (0.249 sec)\n"
     ]
    },
    {
     "name": "stdout",
     "output_type": "stream",
     "text": [
      "INFO:tensorflow:global_step/sec: 146.172\n"
     ]
    },
    {
     "name": "stderr",
     "output_type": "stream",
     "text": [
      "INFO:tensorflow:global_step/sec: 146.172\n"
     ]
    },
    {
     "name": "stdout",
     "output_type": "stream",
     "text": [
      "INFO:tensorflow:loss = 0.38844565, step = 16900 (0.678 sec)\n"
     ]
    },
    {
     "name": "stderr",
     "output_type": "stream",
     "text": [
      "INFO:tensorflow:loss = 0.38844565, step = 16900 (0.678 sec)\n"
     ]
    },
    {
     "name": "stdout",
     "output_type": "stream",
     "text": [
      "INFO:tensorflow:global_step/sec: 226.721\n"
     ]
    },
    {
     "name": "stderr",
     "output_type": "stream",
     "text": [
      "INFO:tensorflow:global_step/sec: 226.721\n"
     ]
    },
    {
     "name": "stdout",
     "output_type": "stream",
     "text": [
      "INFO:tensorflow:loss = 0.29108483, step = 17000 (0.446 sec)\n"
     ]
    },
    {
     "name": "stderr",
     "output_type": "stream",
     "text": [
      "INFO:tensorflow:loss = 0.29108483, step = 17000 (0.446 sec)\n"
     ]
    },
    {
     "name": "stdout",
     "output_type": "stream",
     "text": [
      "INFO:tensorflow:global_step/sec: 222.486\n"
     ]
    },
    {
     "name": "stderr",
     "output_type": "stream",
     "text": [
      "INFO:tensorflow:global_step/sec: 222.486\n"
     ]
    },
    {
     "name": "stdout",
     "output_type": "stream",
     "text": [
      "INFO:tensorflow:loss = 0.49337196, step = 17100 (0.454 sec)\n"
     ]
    },
    {
     "name": "stderr",
     "output_type": "stream",
     "text": [
      "INFO:tensorflow:loss = 0.49337196, step = 17100 (0.454 sec)\n"
     ]
    },
    {
     "name": "stdout",
     "output_type": "stream",
     "text": [
      "INFO:tensorflow:global_step/sec: 224.433\n"
     ]
    },
    {
     "name": "stderr",
     "output_type": "stream",
     "text": [
      "INFO:tensorflow:global_step/sec: 224.433\n"
     ]
    },
    {
     "name": "stdout",
     "output_type": "stream",
     "text": [
      "INFO:tensorflow:loss = 0.47389013, step = 17200 (0.442 sec)\n"
     ]
    },
    {
     "name": "stderr",
     "output_type": "stream",
     "text": [
      "INFO:tensorflow:loss = 0.47389013, step = 17200 (0.442 sec)\n"
     ]
    },
    {
     "name": "stdout",
     "output_type": "stream",
     "text": [
      "INFO:tensorflow:global_step/sec: 209.617\n"
     ]
    },
    {
     "name": "stderr",
     "output_type": "stream",
     "text": [
      "INFO:tensorflow:global_step/sec: 209.617\n"
     ]
    },
    {
     "name": "stdout",
     "output_type": "stream",
     "text": [
      "INFO:tensorflow:loss = 0.35227463, step = 17300 (0.481 sec)\n"
     ]
    },
    {
     "name": "stderr",
     "output_type": "stream",
     "text": [
      "INFO:tensorflow:loss = 0.35227463, step = 17300 (0.481 sec)\n"
     ]
    },
    {
     "name": "stdout",
     "output_type": "stream",
     "text": [
      "INFO:tensorflow:global_step/sec: 200.28\n"
     ]
    },
    {
     "name": "stderr",
     "output_type": "stream",
     "text": [
      "INFO:tensorflow:global_step/sec: 200.28\n"
     ]
    },
    {
     "name": "stdout",
     "output_type": "stream",
     "text": [
      "INFO:tensorflow:loss = 0.50549924, step = 17400 (0.502 sec)\n"
     ]
    },
    {
     "name": "stderr",
     "output_type": "stream",
     "text": [
      "INFO:tensorflow:loss = 0.50549924, step = 17400 (0.502 sec)\n"
     ]
    },
    {
     "name": "stdout",
     "output_type": "stream",
     "text": [
      "INFO:tensorflow:global_step/sec: 232.757\n"
     ]
    },
    {
     "name": "stderr",
     "output_type": "stream",
     "text": [
      "INFO:tensorflow:global_step/sec: 232.757\n"
     ]
    },
    {
     "name": "stdout",
     "output_type": "stream",
     "text": [
      "INFO:tensorflow:loss = 0.34102234, step = 17500 (0.419 sec)\n"
     ]
    },
    {
     "name": "stderr",
     "output_type": "stream",
     "text": [
      "INFO:tensorflow:loss = 0.34102234, step = 17500 (0.419 sec)\n"
     ]
    },
    {
     "name": "stdout",
     "output_type": "stream",
     "text": [
      "INFO:tensorflow:global_step/sec: 226.261\n"
     ]
    },
    {
     "name": "stderr",
     "output_type": "stream",
     "text": [
      "INFO:tensorflow:global_step/sec: 226.261\n"
     ]
    },
    {
     "name": "stdout",
     "output_type": "stream",
     "text": [
      "INFO:tensorflow:loss = 0.38892972, step = 17600 (0.442 sec)\n"
     ]
    },
    {
     "name": "stderr",
     "output_type": "stream",
     "text": [
      "INFO:tensorflow:loss = 0.38892972, step = 17600 (0.442 sec)\n"
     ]
    },
    {
     "name": "stdout",
     "output_type": "stream",
     "text": [
      "INFO:tensorflow:global_step/sec: 272.141\n"
     ]
    },
    {
     "name": "stderr",
     "output_type": "stream",
     "text": [
      "INFO:tensorflow:global_step/sec: 272.141\n"
     ]
    },
    {
     "name": "stdout",
     "output_type": "stream",
     "text": [
      "INFO:tensorflow:loss = 0.6058208, step = 17700 (0.377 sec)\n"
     ]
    },
    {
     "name": "stderr",
     "output_type": "stream",
     "text": [
      "INFO:tensorflow:loss = 0.6058208, step = 17700 (0.377 sec)\n"
     ]
    },
    {
     "name": "stdout",
     "output_type": "stream",
     "text": [
      "INFO:tensorflow:global_step/sec: 570.664\n"
     ]
    },
    {
     "name": "stderr",
     "output_type": "stream",
     "text": [
      "INFO:tensorflow:global_step/sec: 570.664\n"
     ]
    },
    {
     "name": "stdout",
     "output_type": "stream",
     "text": [
      "INFO:tensorflow:loss = 0.3030479, step = 17800 (0.170 sec)\n"
     ]
    },
    {
     "name": "stderr",
     "output_type": "stream",
     "text": [
      "INFO:tensorflow:loss = 0.3030479, step = 17800 (0.170 sec)\n"
     ]
    },
    {
     "name": "stdout",
     "output_type": "stream",
     "text": [
      "INFO:tensorflow:global_step/sec: 122.109\n"
     ]
    },
    {
     "name": "stderr",
     "output_type": "stream",
     "text": [
      "INFO:tensorflow:global_step/sec: 122.109\n"
     ]
    },
    {
     "name": "stdout",
     "output_type": "stream",
     "text": [
      "INFO:tensorflow:loss = 0.51570356, step = 17900 (0.823 sec)\n"
     ]
    },
    {
     "name": "stderr",
     "output_type": "stream",
     "text": [
      "INFO:tensorflow:loss = 0.51570356, step = 17900 (0.823 sec)\n"
     ]
    },
    {
     "name": "stdout",
     "output_type": "stream",
     "text": [
      "INFO:tensorflow:global_step/sec: 203.465\n"
     ]
    },
    {
     "name": "stderr",
     "output_type": "stream",
     "text": [
      "INFO:tensorflow:global_step/sec: 203.465\n"
     ]
    },
    {
     "name": "stdout",
     "output_type": "stream",
     "text": [
      "INFO:tensorflow:loss = 0.5550487, step = 18000 (0.482 sec)\n"
     ]
    },
    {
     "name": "stderr",
     "output_type": "stream",
     "text": [
      "INFO:tensorflow:loss = 0.5550487, step = 18000 (0.482 sec)\n"
     ]
    },
    {
     "name": "stdout",
     "output_type": "stream",
     "text": [
      "INFO:tensorflow:global_step/sec: 201.242\n"
     ]
    },
    {
     "name": "stderr",
     "output_type": "stream",
     "text": [
      "INFO:tensorflow:global_step/sec: 201.242\n"
     ]
    },
    {
     "name": "stdout",
     "output_type": "stream",
     "text": [
      "INFO:tensorflow:loss = 0.476458, step = 18100 (0.507 sec)\n"
     ]
    },
    {
     "name": "stderr",
     "output_type": "stream",
     "text": [
      "INFO:tensorflow:loss = 0.476458, step = 18100 (0.507 sec)\n"
     ]
    },
    {
     "name": "stdout",
     "output_type": "stream",
     "text": [
      "INFO:tensorflow:global_step/sec: 210.59\n"
     ]
    },
    {
     "name": "stderr",
     "output_type": "stream",
     "text": [
      "INFO:tensorflow:global_step/sec: 210.59\n"
     ]
    },
    {
     "name": "stdout",
     "output_type": "stream",
     "text": [
      "INFO:tensorflow:loss = 0.5217668, step = 18200 (0.467 sec)\n"
     ]
    },
    {
     "name": "stderr",
     "output_type": "stream",
     "text": [
      "INFO:tensorflow:loss = 0.5217668, step = 18200 (0.467 sec)\n"
     ]
    },
    {
     "name": "stdout",
     "output_type": "stream",
     "text": [
      "INFO:tensorflow:global_step/sec: 205.282\n"
     ]
    },
    {
     "name": "stderr",
     "output_type": "stream",
     "text": [
      "INFO:tensorflow:global_step/sec: 205.282\n"
     ]
    },
    {
     "name": "stdout",
     "output_type": "stream",
     "text": [
      "INFO:tensorflow:loss = 0.4024103, step = 18300 (0.493 sec)\n"
     ]
    },
    {
     "name": "stderr",
     "output_type": "stream",
     "text": [
      "INFO:tensorflow:loss = 0.4024103, step = 18300 (0.493 sec)\n"
     ]
    },
    {
     "name": "stdout",
     "output_type": "stream",
     "text": [
      "INFO:tensorflow:global_step/sec: 207.089\n"
     ]
    },
    {
     "name": "stderr",
     "output_type": "stream",
     "text": [
      "INFO:tensorflow:global_step/sec: 207.089\n"
     ]
    },
    {
     "name": "stdout",
     "output_type": "stream",
     "text": [
      "INFO:tensorflow:loss = 0.44675, step = 18400 (0.477 sec)\n"
     ]
    },
    {
     "name": "stderr",
     "output_type": "stream",
     "text": [
      "INFO:tensorflow:loss = 0.44675, step = 18400 (0.477 sec)\n"
     ]
    },
    {
     "name": "stdout",
     "output_type": "stream",
     "text": [
      "INFO:tensorflow:global_step/sec: 217.397\n"
     ]
    },
    {
     "name": "stderr",
     "output_type": "stream",
     "text": [
      "INFO:tensorflow:global_step/sec: 217.397\n"
     ]
    },
    {
     "name": "stdout",
     "output_type": "stream",
     "text": [
      "INFO:tensorflow:loss = 0.46271273, step = 18500 (0.465 sec)\n"
     ]
    },
    {
     "name": "stderr",
     "output_type": "stream",
     "text": [
      "INFO:tensorflow:loss = 0.46271273, step = 18500 (0.465 sec)\n"
     ]
    },
    {
     "name": "stdout",
     "output_type": "stream",
     "text": [
      "INFO:tensorflow:global_step/sec: 222.929\n"
     ]
    },
    {
     "name": "stderr",
     "output_type": "stream",
     "text": [
      "INFO:tensorflow:global_step/sec: 222.929\n"
     ]
    },
    {
     "name": "stdout",
     "output_type": "stream",
     "text": [
      "INFO:tensorflow:loss = 0.3756719, step = 18600 (0.440 sec)\n"
     ]
    },
    {
     "name": "stderr",
     "output_type": "stream",
     "text": [
      "INFO:tensorflow:loss = 0.3756719, step = 18600 (0.440 sec)\n"
     ]
    },
    {
     "name": "stdout",
     "output_type": "stream",
     "text": [
      "INFO:tensorflow:global_step/sec: 575.361\n"
     ]
    },
    {
     "name": "stderr",
     "output_type": "stream",
     "text": [
      "INFO:tensorflow:global_step/sec: 575.361\n"
     ]
    },
    {
     "name": "stdout",
     "output_type": "stream",
     "text": [
      "INFO:tensorflow:loss = 0.7467242, step = 18700 (0.180 sec)\n"
     ]
    },
    {
     "name": "stderr",
     "output_type": "stream",
     "text": [
      "INFO:tensorflow:loss = 0.7467242, step = 18700 (0.180 sec)\n"
     ]
    },
    {
     "name": "stdout",
     "output_type": "stream",
     "text": [
      "INFO:tensorflow:Calling checkpoint listeners before saving checkpoint 18760...\n"
     ]
    },
    {
     "name": "stderr",
     "output_type": "stream",
     "text": [
      "INFO:tensorflow:Calling checkpoint listeners before saving checkpoint 18760...\n"
     ]
    },
    {
     "name": "stdout",
     "output_type": "stream",
     "text": [
      "INFO:tensorflow:Saving checkpoints for 18760 into models/mnist-dnn/model.ckpt.\n"
     ]
    },
    {
     "name": "stderr",
     "output_type": "stream",
     "text": [
      "INFO:tensorflow:Saving checkpoints for 18760 into models/mnist-dnn/model.ckpt.\n"
     ]
    },
    {
     "name": "stdout",
     "output_type": "stream",
     "text": [
      "INFO:tensorflow:Calling checkpoint listeners after saving checkpoint 18760...\n"
     ]
    },
    {
     "name": "stderr",
     "output_type": "stream",
     "text": [
      "INFO:tensorflow:Calling checkpoint listeners after saving checkpoint 18760...\n"
     ]
    },
    {
     "name": "stdout",
     "output_type": "stream",
     "text": [
      "INFO:tensorflow:Loss for final step: 0.55351543.\n"
     ]
    },
    {
     "name": "stderr",
     "output_type": "stream",
     "text": [
      "INFO:tensorflow:Loss for final step: 0.55351543.\n"
     ]
    },
    {
     "name": "stdout",
     "output_type": "stream",
     "text": [
      "INFO:tensorflow:Calling model_fn.\n"
     ]
    },
    {
     "name": "stderr",
     "output_type": "stream",
     "text": [
      "INFO:tensorflow:Calling model_fn.\n"
     ]
    },
    {
     "name": "stdout",
     "output_type": "stream",
     "text": [
      "INFO:tensorflow:Done calling model_fn.\n"
     ]
    },
    {
     "name": "stderr",
     "output_type": "stream",
     "text": [
      "INFO:tensorflow:Done calling model_fn.\n"
     ]
    },
    {
     "name": "stdout",
     "output_type": "stream",
     "text": [
      "INFO:tensorflow:Starting evaluation at 2022-04-30T08:47:27\n"
     ]
    },
    {
     "name": "stderr",
     "output_type": "stream",
     "text": [
      "INFO:tensorflow:Starting evaluation at 2022-04-30T08:47:27\n"
     ]
    },
    {
     "name": "stdout",
     "output_type": "stream",
     "text": [
      "INFO:tensorflow:Graph was finalized.\n"
     ]
    },
    {
     "name": "stderr",
     "output_type": "stream",
     "text": [
      "INFO:tensorflow:Graph was finalized.\n"
     ]
    },
    {
     "name": "stdout",
     "output_type": "stream",
     "text": [
      "INFO:tensorflow:Restoring parameters from models/mnist-dnn/model.ckpt-18760\n"
     ]
    },
    {
     "name": "stderr",
     "output_type": "stream",
     "text": [
      "INFO:tensorflow:Restoring parameters from models/mnist-dnn/model.ckpt-18760\n"
     ]
    },
    {
     "name": "stdout",
     "output_type": "stream",
     "text": [
      "INFO:tensorflow:Running local_init_op.\n"
     ]
    },
    {
     "name": "stderr",
     "output_type": "stream",
     "text": [
      "INFO:tensorflow:Running local_init_op.\n"
     ]
    },
    {
     "name": "stdout",
     "output_type": "stream",
     "text": [
      "INFO:tensorflow:Done running local_init_op.\n"
     ]
    },
    {
     "name": "stderr",
     "output_type": "stream",
     "text": [
      "INFO:tensorflow:Done running local_init_op.\n"
     ]
    },
    {
     "name": "stdout",
     "output_type": "stream",
     "text": [
      "INFO:tensorflow:Inference Time : 1.67417s\n"
     ]
    },
    {
     "name": "stderr",
     "output_type": "stream",
     "text": [
      "INFO:tensorflow:Inference Time : 1.67417s\n"
     ]
    },
    {
     "name": "stdout",
     "output_type": "stream",
     "text": [
      "INFO:tensorflow:Finished evaluation at 2022-04-30-08:47:29\n"
     ]
    },
    {
     "name": "stderr",
     "output_type": "stream",
     "text": [
      "INFO:tensorflow:Finished evaluation at 2022-04-30-08:47:29\n"
     ]
    },
    {
     "name": "stdout",
     "output_type": "stream",
     "text": [
      "INFO:tensorflow:Saving dict for global step 18760: accuracy = 0.8771, average_loss = 0.4687991, global_step = 18760, loss = 0.46942\n"
     ]
    },
    {
     "name": "stderr",
     "output_type": "stream",
     "text": [
      "INFO:tensorflow:Saving dict for global step 18760: accuracy = 0.8771, average_loss = 0.4687991, global_step = 18760, loss = 0.46942\n"
     ]
    },
    {
     "name": "stdout",
     "output_type": "stream",
     "text": [
      "INFO:tensorflow:Saving 'checkpoint_path' summary for global step 18760: models/mnist-dnn/model.ckpt-18760\n"
     ]
    },
    {
     "name": "stderr",
     "output_type": "stream",
     "text": [
      "INFO:tensorflow:Saving 'checkpoint_path' summary for global step 18760: models/mnist-dnn/model.ckpt-18760\n"
     ]
    },
    {
     "name": "stdout",
     "output_type": "stream",
     "text": [
      "{'accuracy': 0.8771, 'average_loss': 0.4687991, 'loss': 0.46942, 'global_step': 18760}\n"
     ]
    }
   ],
   "source": [
    "#4 추정기를 사용해 훈령, 평가, 예측을 수행\n",
    "dnn_classifier.train(input_fn=train_input_fn, steps=num_epochs * steps_per_epoch)\n",
    "eval_result = dnn_classifier.evaluate(input_fn=eval_input_fn)\n",
    "print(eval_result)"
   ]
  },
  {
   "cell_type": "code",
   "execution_count": null,
   "metadata": {
    "id": "C3CDCrLxoltG"
   },
   "outputs": [],
   "source": []
  }
 ],
 "metadata": {
  "colab": {
   "collapsed_sections": [],
   "name": "tf14.ipynb",
   "provenance": []
  },
  "kernelspec": {
   "display_name": "Python 3 (ipykernel)",
   "language": "python",
   "name": "python3"
  },
  "language_info": {
   "codemirror_mode": {
    "name": "ipython",
    "version": 3
   },
   "file_extension": ".py",
   "mimetype": "text/x-python",
   "name": "python",
   "nbconvert_exporter": "python",
   "pygments_lexer": "ipython3",
   "version": "3.9.7"
  }
 },
 "nbformat": 4,
 "nbformat_minor": 1
}
